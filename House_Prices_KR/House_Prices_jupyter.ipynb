{
 "cells": [
  {
   "cell_type": "code",
   "execution_count": 100,
   "metadata": {},
   "outputs": [],
   "source": [
    "# import libraries\n",
    "import pandas as pd\n",
    "import matplotlib.pyplot as plt\n",
    "import scipy.stats\n",
    "import seaborn as sns\n",
    "import numpy as np\n",
    "\n",
    "%matplotlib inline"
   ]
  },
  {
   "cell_type": "code",
   "execution_count": 101,
   "metadata": {},
   "outputs": [
    {
     "name": "stdout",
     "output_type": "stream",
     "text": [
      "<class 'pandas.core.frame.DataFrame'>\n",
      "RangeIndex: 15035 entries, 0 to 15034\n",
      "Data columns (total 21 columns):\n",
      "id               15035 non-null int64\n",
      "date             15035 non-null object\n",
      "price            15035 non-null float64\n",
      "bedrooms         15035 non-null int64\n",
      "bathrooms        15035 non-null float64\n",
      "sqft_living      15035 non-null int64\n",
      "sqft_lot         15035 non-null int64\n",
      "floors           15035 non-null float64\n",
      "waterfront       15035 non-null int64\n",
      "view             15035 non-null int64\n",
      "condition        15035 non-null int64\n",
      "grade            15035 non-null int64\n",
      "sqft_above       15035 non-null int64\n",
      "sqft_basement    15035 non-null int64\n",
      "yr_built         15035 non-null int64\n",
      "yr_renovated     15035 non-null int64\n",
      "zipcode          15035 non-null int64\n",
      "lat              15035 non-null float64\n",
      "long             15035 non-null float64\n",
      "sqft_living15    15035 non-null int64\n",
      "sqft_lot15       15035 non-null int64\n",
      "dtypes: float64(5), int64(15), object(1)\n",
      "memory usage: 2.4+ MB\n",
      "None\n",
      "<class 'pandas.core.frame.DataFrame'>\n",
      "RangeIndex: 6468 entries, 0 to 6467\n",
      "Data columns (total 20 columns):\n",
      "id               6468 non-null int64\n",
      "date             6468 non-null object\n",
      "bedrooms         6468 non-null int64\n",
      "bathrooms        6468 non-null float64\n",
      "sqft_living      6468 non-null int64\n",
      "sqft_lot         6468 non-null int64\n",
      "floors           6468 non-null float64\n",
      "waterfront       6468 non-null int64\n",
      "view             6468 non-null int64\n",
      "condition        6468 non-null int64\n",
      "grade            6468 non-null int64\n",
      "sqft_above       6468 non-null int64\n",
      "sqft_basement    6468 non-null int64\n",
      "yr_built         6468 non-null int64\n",
      "yr_renovated     6468 non-null int64\n",
      "zipcode          6468 non-null int64\n",
      "lat              6468 non-null float64\n",
      "long             6468 non-null float64\n",
      "sqft_living15    6468 non-null int64\n",
      "sqft_lot15       6468 non-null int64\n",
      "dtypes: float64(4), int64(15), object(1)\n",
      "memory usage: 1010.7+ KB\n",
      "None\n"
     ]
    }
   ],
   "source": [
    "# load data\n",
    "train_set = pd.read_csv('train.csv')\n",
    "test_set = pd.read_csv('test.csv')\n",
    "\n",
    "print(train_set.info())\n",
    "print(test_set.info())\n"
   ]
  },
  {
   "cell_type": "code",
   "execution_count": 102,
   "metadata": {},
   "outputs": [
    {
     "data": {
      "text/html": [
       "<div>\n",
       "<style scoped>\n",
       "    .dataframe tbody tr th:only-of-type {\n",
       "        vertical-align: middle;\n",
       "    }\n",
       "\n",
       "    .dataframe tbody tr th {\n",
       "        vertical-align: top;\n",
       "    }\n",
       "\n",
       "    .dataframe thead th {\n",
       "        text-align: right;\n",
       "    }\n",
       "</style>\n",
       "<table border=\"1\" class=\"dataframe\">\n",
       "  <thead>\n",
       "    <tr style=\"text-align: right;\">\n",
       "      <th></th>\n",
       "      <th>id</th>\n",
       "      <th>date</th>\n",
       "      <th>price</th>\n",
       "      <th>bedrooms</th>\n",
       "      <th>bathrooms</th>\n",
       "      <th>sqft_living</th>\n",
       "      <th>sqft_lot</th>\n",
       "      <th>floors</th>\n",
       "      <th>waterfront</th>\n",
       "      <th>view</th>\n",
       "      <th>...</th>\n",
       "      <th>grade</th>\n",
       "      <th>sqft_above</th>\n",
       "      <th>sqft_basement</th>\n",
       "      <th>yr_built</th>\n",
       "      <th>yr_renovated</th>\n",
       "      <th>zipcode</th>\n",
       "      <th>lat</th>\n",
       "      <th>long</th>\n",
       "      <th>sqft_living15</th>\n",
       "      <th>sqft_lot15</th>\n",
       "    </tr>\n",
       "  </thead>\n",
       "  <tbody>\n",
       "    <tr>\n",
       "      <th>0</th>\n",
       "      <td>0</td>\n",
       "      <td>20141013T000000</td>\n",
       "      <td>221900.0</td>\n",
       "      <td>3</td>\n",
       "      <td>1.00</td>\n",
       "      <td>1180</td>\n",
       "      <td>5650</td>\n",
       "      <td>1.0</td>\n",
       "      <td>0</td>\n",
       "      <td>0</td>\n",
       "      <td>...</td>\n",
       "      <td>7</td>\n",
       "      <td>1180</td>\n",
       "      <td>0</td>\n",
       "      <td>1955</td>\n",
       "      <td>0</td>\n",
       "      <td>98178</td>\n",
       "      <td>47.5112</td>\n",
       "      <td>-122.257</td>\n",
       "      <td>1340</td>\n",
       "      <td>5650</td>\n",
       "    </tr>\n",
       "    <tr>\n",
       "      <th>1</th>\n",
       "      <td>1</td>\n",
       "      <td>20150225T000000</td>\n",
       "      <td>180000.0</td>\n",
       "      <td>2</td>\n",
       "      <td>1.00</td>\n",
       "      <td>770</td>\n",
       "      <td>10000</td>\n",
       "      <td>1.0</td>\n",
       "      <td>0</td>\n",
       "      <td>0</td>\n",
       "      <td>...</td>\n",
       "      <td>6</td>\n",
       "      <td>770</td>\n",
       "      <td>0</td>\n",
       "      <td>1933</td>\n",
       "      <td>0</td>\n",
       "      <td>98028</td>\n",
       "      <td>47.7379</td>\n",
       "      <td>-122.233</td>\n",
       "      <td>2720</td>\n",
       "      <td>8062</td>\n",
       "    </tr>\n",
       "    <tr>\n",
       "      <th>2</th>\n",
       "      <td>2</td>\n",
       "      <td>20150218T000000</td>\n",
       "      <td>510000.0</td>\n",
       "      <td>3</td>\n",
       "      <td>2.00</td>\n",
       "      <td>1680</td>\n",
       "      <td>8080</td>\n",
       "      <td>1.0</td>\n",
       "      <td>0</td>\n",
       "      <td>0</td>\n",
       "      <td>...</td>\n",
       "      <td>8</td>\n",
       "      <td>1680</td>\n",
       "      <td>0</td>\n",
       "      <td>1987</td>\n",
       "      <td>0</td>\n",
       "      <td>98074</td>\n",
       "      <td>47.6168</td>\n",
       "      <td>-122.045</td>\n",
       "      <td>1800</td>\n",
       "      <td>7503</td>\n",
       "    </tr>\n",
       "    <tr>\n",
       "      <th>3</th>\n",
       "      <td>3</td>\n",
       "      <td>20140627T000000</td>\n",
       "      <td>257500.0</td>\n",
       "      <td>3</td>\n",
       "      <td>2.25</td>\n",
       "      <td>1715</td>\n",
       "      <td>6819</td>\n",
       "      <td>2.0</td>\n",
       "      <td>0</td>\n",
       "      <td>0</td>\n",
       "      <td>...</td>\n",
       "      <td>7</td>\n",
       "      <td>1715</td>\n",
       "      <td>0</td>\n",
       "      <td>1995</td>\n",
       "      <td>0</td>\n",
       "      <td>98003</td>\n",
       "      <td>47.3097</td>\n",
       "      <td>-122.327</td>\n",
       "      <td>2238</td>\n",
       "      <td>6819</td>\n",
       "    </tr>\n",
       "    <tr>\n",
       "      <th>4</th>\n",
       "      <td>4</td>\n",
       "      <td>20150115T000000</td>\n",
       "      <td>291850.0</td>\n",
       "      <td>3</td>\n",
       "      <td>1.50</td>\n",
       "      <td>1060</td>\n",
       "      <td>9711</td>\n",
       "      <td>1.0</td>\n",
       "      <td>0</td>\n",
       "      <td>0</td>\n",
       "      <td>...</td>\n",
       "      <td>7</td>\n",
       "      <td>1060</td>\n",
       "      <td>0</td>\n",
       "      <td>1963</td>\n",
       "      <td>0</td>\n",
       "      <td>98198</td>\n",
       "      <td>47.4095</td>\n",
       "      <td>-122.315</td>\n",
       "      <td>1650</td>\n",
       "      <td>9711</td>\n",
       "    </tr>\n",
       "  </tbody>\n",
       "</table>\n",
       "<p>5 rows × 21 columns</p>\n",
       "</div>"
      ],
      "text/plain": [
       "   id             date     price  bedrooms  bathrooms  sqft_living  sqft_lot  \\\n",
       "0   0  20141013T000000  221900.0         3       1.00         1180      5650   \n",
       "1   1  20150225T000000  180000.0         2       1.00          770     10000   \n",
       "2   2  20150218T000000  510000.0         3       2.00         1680      8080   \n",
       "3   3  20140627T000000  257500.0         3       2.25         1715      6819   \n",
       "4   4  20150115T000000  291850.0         3       1.50         1060      9711   \n",
       "\n",
       "   floors  waterfront  view     ...      grade  sqft_above  sqft_basement  \\\n",
       "0     1.0           0     0     ...          7        1180              0   \n",
       "1     1.0           0     0     ...          6         770              0   \n",
       "2     1.0           0     0     ...          8        1680              0   \n",
       "3     2.0           0     0     ...          7        1715              0   \n",
       "4     1.0           0     0     ...          7        1060              0   \n",
       "\n",
       "   yr_built  yr_renovated  zipcode      lat     long  sqft_living15  \\\n",
       "0      1955             0    98178  47.5112 -122.257           1340   \n",
       "1      1933             0    98028  47.7379 -122.233           2720   \n",
       "2      1987             0    98074  47.6168 -122.045           1800   \n",
       "3      1995             0    98003  47.3097 -122.327           2238   \n",
       "4      1963             0    98198  47.4095 -122.315           1650   \n",
       "\n",
       "   sqft_lot15  \n",
       "0        5650  \n",
       "1        8062  \n",
       "2        7503  \n",
       "3        6819  \n",
       "4        9711  \n",
       "\n",
       "[5 rows x 21 columns]"
      ]
     },
     "execution_count": 102,
     "metadata": {},
     "output_type": "execute_result"
    }
   ],
   "source": [
    "train_set.head(5)"
   ]
  },
  {
   "cell_type": "code",
   "execution_count": 103,
   "metadata": {
    "scrolled": true
   },
   "outputs": [
    {
     "data": {
      "text/html": [
       "<div>\n",
       "<style scoped>\n",
       "    .dataframe tbody tr th:only-of-type {\n",
       "        vertical-align: middle;\n",
       "    }\n",
       "\n",
       "    .dataframe tbody tr th {\n",
       "        vertical-align: top;\n",
       "    }\n",
       "\n",
       "    .dataframe thead th {\n",
       "        text-align: right;\n",
       "    }\n",
       "</style>\n",
       "<table border=\"1\" class=\"dataframe\">\n",
       "  <thead>\n",
       "    <tr style=\"text-align: right;\">\n",
       "      <th></th>\n",
       "      <th>id</th>\n",
       "      <th>date</th>\n",
       "      <th>bedrooms</th>\n",
       "      <th>bathrooms</th>\n",
       "      <th>sqft_living</th>\n",
       "      <th>sqft_lot</th>\n",
       "      <th>floors</th>\n",
       "      <th>waterfront</th>\n",
       "      <th>view</th>\n",
       "      <th>condition</th>\n",
       "      <th>grade</th>\n",
       "      <th>sqft_above</th>\n",
       "      <th>sqft_basement</th>\n",
       "      <th>yr_built</th>\n",
       "      <th>yr_renovated</th>\n",
       "      <th>zipcode</th>\n",
       "      <th>lat</th>\n",
       "      <th>long</th>\n",
       "      <th>sqft_living15</th>\n",
       "      <th>sqft_lot15</th>\n",
       "    </tr>\n",
       "  </thead>\n",
       "  <tbody>\n",
       "    <tr>\n",
       "      <th>0</th>\n",
       "      <td>15035</td>\n",
       "      <td>20141209T000000</td>\n",
       "      <td>3</td>\n",
       "      <td>2.25</td>\n",
       "      <td>2570</td>\n",
       "      <td>7242</td>\n",
       "      <td>2.0</td>\n",
       "      <td>0</td>\n",
       "      <td>0</td>\n",
       "      <td>3</td>\n",
       "      <td>7</td>\n",
       "      <td>2170</td>\n",
       "      <td>400</td>\n",
       "      <td>1951</td>\n",
       "      <td>1991</td>\n",
       "      <td>98125</td>\n",
       "      <td>47.7210</td>\n",
       "      <td>-122.319</td>\n",
       "      <td>1690</td>\n",
       "      <td>7639</td>\n",
       "    </tr>\n",
       "    <tr>\n",
       "      <th>1</th>\n",
       "      <td>15036</td>\n",
       "      <td>20141209T000000</td>\n",
       "      <td>4</td>\n",
       "      <td>3.00</td>\n",
       "      <td>1960</td>\n",
       "      <td>5000</td>\n",
       "      <td>1.0</td>\n",
       "      <td>0</td>\n",
       "      <td>0</td>\n",
       "      <td>5</td>\n",
       "      <td>7</td>\n",
       "      <td>1050</td>\n",
       "      <td>910</td>\n",
       "      <td>1965</td>\n",
       "      <td>0</td>\n",
       "      <td>98136</td>\n",
       "      <td>47.5208</td>\n",
       "      <td>-122.393</td>\n",
       "      <td>1360</td>\n",
       "      <td>5000</td>\n",
       "    </tr>\n",
       "    <tr>\n",
       "      <th>2</th>\n",
       "      <td>15037</td>\n",
       "      <td>20140512T000000</td>\n",
       "      <td>4</td>\n",
       "      <td>4.50</td>\n",
       "      <td>5420</td>\n",
       "      <td>101930</td>\n",
       "      <td>1.0</td>\n",
       "      <td>0</td>\n",
       "      <td>0</td>\n",
       "      <td>3</td>\n",
       "      <td>11</td>\n",
       "      <td>3890</td>\n",
       "      <td>1530</td>\n",
       "      <td>2001</td>\n",
       "      <td>0</td>\n",
       "      <td>98053</td>\n",
       "      <td>47.6561</td>\n",
       "      <td>-122.005</td>\n",
       "      <td>4760</td>\n",
       "      <td>101930</td>\n",
       "    </tr>\n",
       "    <tr>\n",
       "      <th>3</th>\n",
       "      <td>15038</td>\n",
       "      <td>20150415T000000</td>\n",
       "      <td>3</td>\n",
       "      <td>1.00</td>\n",
       "      <td>1780</td>\n",
       "      <td>7470</td>\n",
       "      <td>1.0</td>\n",
       "      <td>0</td>\n",
       "      <td>0</td>\n",
       "      <td>3</td>\n",
       "      <td>7</td>\n",
       "      <td>1050</td>\n",
       "      <td>730</td>\n",
       "      <td>1960</td>\n",
       "      <td>0</td>\n",
       "      <td>98146</td>\n",
       "      <td>47.5123</td>\n",
       "      <td>-122.337</td>\n",
       "      <td>1780</td>\n",
       "      <td>8113</td>\n",
       "    </tr>\n",
       "    <tr>\n",
       "      <th>4</th>\n",
       "      <td>15039</td>\n",
       "      <td>20150312T000000</td>\n",
       "      <td>3</td>\n",
       "      <td>2.50</td>\n",
       "      <td>1890</td>\n",
       "      <td>6560</td>\n",
       "      <td>2.0</td>\n",
       "      <td>0</td>\n",
       "      <td>0</td>\n",
       "      <td>3</td>\n",
       "      <td>7</td>\n",
       "      <td>1890</td>\n",
       "      <td>0</td>\n",
       "      <td>2003</td>\n",
       "      <td>0</td>\n",
       "      <td>98038</td>\n",
       "      <td>47.3684</td>\n",
       "      <td>-122.031</td>\n",
       "      <td>2390</td>\n",
       "      <td>7570</td>\n",
       "    </tr>\n",
       "  </tbody>\n",
       "</table>\n",
       "</div>"
      ],
      "text/plain": [
       "      id             date  bedrooms  bathrooms  sqft_living  sqft_lot  floors  \\\n",
       "0  15035  20141209T000000         3       2.25         2570      7242     2.0   \n",
       "1  15036  20141209T000000         4       3.00         1960      5000     1.0   \n",
       "2  15037  20140512T000000         4       4.50         5420    101930     1.0   \n",
       "3  15038  20150415T000000         3       1.00         1780      7470     1.0   \n",
       "4  15039  20150312T000000         3       2.50         1890      6560     2.0   \n",
       "\n",
       "   waterfront  view  condition  grade  sqft_above  sqft_basement  yr_built  \\\n",
       "0           0     0          3      7        2170            400      1951   \n",
       "1           0     0          5      7        1050            910      1965   \n",
       "2           0     0          3     11        3890           1530      2001   \n",
       "3           0     0          3      7        1050            730      1960   \n",
       "4           0     0          3      7        1890              0      2003   \n",
       "\n",
       "   yr_renovated  zipcode      lat     long  sqft_living15  sqft_lot15  \n",
       "0          1991    98125  47.7210 -122.319           1690        7639  \n",
       "1             0    98136  47.5208 -122.393           1360        5000  \n",
       "2             0    98053  47.6561 -122.005           4760      101930  \n",
       "3             0    98146  47.5123 -122.337           1780        8113  \n",
       "4             0    98038  47.3684 -122.031           2390        7570  "
      ]
     },
     "execution_count": 103,
     "metadata": {},
     "output_type": "execute_result"
    }
   ],
   "source": [
    "test_set.head(5)"
   ]
  },
  {
   "cell_type": "code",
   "execution_count": 104,
   "metadata": {},
   "outputs": [
    {
     "data": {
      "text/plain": [
       "price             1.000000\n",
       "sqft_living       0.702899\n",
       "grade             0.667211\n",
       "bathrooms         0.525479\n",
       "view              0.400806\n",
       "bedrooms          0.323672\n",
       "lat               0.301604\n",
       "waterfront        0.265738\n",
       "floors            0.243731\n",
       "living_greater    0.227226\n",
       "with_basement     0.176706\n",
       "renovated         0.140550\n",
       "sqft_lot          0.096793\n",
       "lot_greater       0.063211\n",
       "with_garret       0.048364\n",
       "yr_built          0.047290\n",
       "condition         0.039740\n",
       "season_spring     0.026180\n",
       "long              0.023547\n",
       "id                0.020899\n",
       "year              0.008012\n",
       "season_summer     0.004932\n",
       "season_fall      -0.014863\n",
       "zipcode          -0.051498\n",
       "Name: price, dtype: float64"
      ]
     },
     "execution_count": 104,
     "metadata": {},
     "output_type": "execute_result"
    }
   ],
   "source": [
    "# Correlation before normalizing target variable\n",
    "all_set[all_set['price']>0].corr(method='pearson')['price'].sort_values(ascending=False)"
   ]
  },
  {
   "cell_type": "code",
   "execution_count": 105,
   "metadata": {},
   "outputs": [
    {
     "name": "stdout",
     "output_type": "stream",
     "text": [
      "mu:  540682.6531426671  std:  371524.6603903912\n"
     ]
    },
    {
     "data": {
      "image/png": "[encoded data removed]",
      "text/plain": [
       "<Figure size 432x288 with 1 Axes>"
      ]
     },
     "metadata": {
      "needs_background": "light"
     },
     "output_type": "display_data"
    }
   ],
   "source": [
    "# histogram of target variable before normalization\n",
    "mu = train_set.price.mean()\n",
    "std = train_set.price.std()\n",
    "print('mu: ', mu, ' std: ',std)\n",
    "\n",
    "n, bins, patches = plt.hist(train_set.price, 50, density=1, color='blue')\n",
    "y = scipy.stats.norm.pdf(bins, mu, std)\n",
    "plt.plot(bins, y, 'r-')\n",
    "plt.show()"
   ]
  },
  {
   "cell_type": "code",
   "execution_count": 106,
   "metadata": {},
   "outputs": [
    {
     "name": "stdout",
     "output_type": "stream",
     "text": [
      "mu:  13.048119847342958  std:  0.5274545441516205\n"
     ]
    },
    {
     "data": {
      "image/png": "[encoded data removed]",
      "text/plain": [
       "<Figure size 432x288 with 1 Axes>"
      ]
     },
     "metadata": {
      "needs_background": "light"
     },
     "output_type": "display_data"
    }
   ],
   "source": [
    "# normalize target variable\n",
    "price_log = np.log(train_set.price)\n",
    "price_log_mu = np.mean(price_log)\n",
    "price_log_std = np.std(price_log)\n",
    "print('mu: ', price_log_mu, ' std: ',price_log_std)\n",
    "\n",
    "\n",
    "n, bins, patches = plt.hist(price_log, 50, density=1, color='blue')\n",
    "y= scipy.stats.norm.pdf(bins, price_log_mu, price_log_std)\n",
    "plt.plot(bins, y, 'r-')\n",
    "plt.show()\n"
   ]
  },
  {
   "cell_type": "code",
   "execution_count": 107,
   "metadata": {},
   "outputs": [],
   "source": [
    "# replacing train_set.price with log-transformed price\n",
    "original_price = train_set.price.copy()\n",
    "train_set.price = price_log"
   ]
  },
  {
   "cell_type": "code",
   "execution_count": 108,
   "metadata": {},
   "outputs": [
    {
     "name": "stderr",
     "output_type": "stream",
     "text": [
      "C:\\Users\\donny\\Anaconda3\\lib\\site-packages\\ipykernel_launcher.py:2: FutureWarning: Sorting because non-concatenation axis is not aligned. A future version\n",
      "of pandas will change to not sort by default.\n",
      "\n",
      "To accept the future behavior, pass 'sort=False'.\n",
      "\n",
      "To retain the current behavior and silence the warning, pass 'sort=True'.\n",
      "\n",
      "  \n"
     ]
    }
   ],
   "source": [
    "# Combine train and test set\n",
    "all_set = pd.concat([train_set, test_set])"
   ]
  },
  {
   "cell_type": "code",
   "execution_count": 111,
   "metadata": {},
   "outputs": [
    {
     "data": {
      "text/plain": [
       "0       12.309982\n",
       "1       12.100712\n",
       "2       13.142166\n",
       "3       12.458775\n",
       "4       12.583995\n",
       "5       13.403776\n",
       "6       13.056224\n",
       "7       12.644328\n",
       "8       12.899220\n",
       "9       13.180632\n",
       "10      13.384728\n",
       "11      12.886641\n",
       "12      13.091904\n",
       "13      12.149502\n",
       "14      12.345835\n",
       "15      12.860999\n",
       "16      14.508658\n",
       "17      12.439958\n",
       "18      12.703813\n",
       "19      12.358794\n",
       "20      13.750439\n",
       "21      13.410545\n",
       "22      13.271645\n",
       "23      13.440817\n",
       "24      13.190022\n",
       "25      12.683858\n",
       "26      13.453105\n",
       "27      13.369223\n",
       "28      12.388394\n",
       "29      13.312984\n",
       "          ...    \n",
       "6438          NaN\n",
       "6439          NaN\n",
       "6440          NaN\n",
       "6441          NaN\n",
       "6442          NaN\n",
       "6443          NaN\n",
       "6444          NaN\n",
       "6445          NaN\n",
       "6446          NaN\n",
       "6447          NaN\n",
       "6448          NaN\n",
       "6449          NaN\n",
       "6450          NaN\n",
       "6451          NaN\n",
       "6452          NaN\n",
       "6453          NaN\n",
       "6454          NaN\n",
       "6455          NaN\n",
       "6456          NaN\n",
       "6457          NaN\n",
       "6458          NaN\n",
       "6459          NaN\n",
       "6460          NaN\n",
       "6461          NaN\n",
       "6462          NaN\n",
       "6463          NaN\n",
       "6464          NaN\n",
       "6465          NaN\n",
       "6466          NaN\n",
       "6467          NaN\n",
       "Name: price, Length: 21503, dtype: float64"
      ]
     },
     "execution_count": 111,
     "metadata": {},
     "output_type": "execute_result"
    }
   ],
   "source": [
    "all_set.price"
   ]
  },
  {
   "cell_type": "code",
   "execution_count": 112,
   "metadata": {},
   "outputs": [
    {
     "data": {
      "text/plain": [
       "price            1.000000\n",
       "grade            0.707412\n",
       "sqft_living      0.697907\n",
       "sqft_living15    0.621800\n",
       "sqft_above       0.607197\n",
       "bathrooms        0.552000\n",
       "lat              0.444417\n",
       "bedrooms         0.359946\n",
       "view             0.347505\n",
       "floors           0.317810\n",
       "sqft_basement    0.314378\n",
       "waterfront       0.172580\n",
       "yr_renovated     0.127533\n",
       "sqft_lot         0.108946\n",
       "sqft_lot15       0.096976\n",
       "yr_built         0.076294\n",
       "long             0.054362\n",
       "condition        0.042947\n",
       "id               0.035940\n",
       "zipcode         -0.039195\n",
       "Name: price, dtype: float64"
      ]
     },
     "execution_count": 112,
     "metadata": {},
     "output_type": "execute_result"
    }
   ],
   "source": [
    "# Correlation before normalizing target variable\n",
    "all_set[all_set['price']>0].corr(method='pearson')['price'].sort_values(ascending=False)"
   ]
  },
  {
   "cell_type": "code",
   "execution_count": 113,
   "metadata": {
    "scrolled": true
   },
   "outputs": [
    {
     "name": "stdout",
     "output_type": "stream",
     "text": [
      "bathrooms           0\n",
      "bedrooms            0\n",
      "condition           0\n",
      "date                0\n",
      "floors              0\n",
      "grade               0\n",
      "id                  0\n",
      "lat                 0\n",
      "long                0\n",
      "price            6468\n",
      "sqft_above          0\n",
      "sqft_basement       0\n",
      "sqft_living         0\n",
      "sqft_living15       0\n",
      "sqft_lot            0\n",
      "sqft_lot15          0\n",
      "view                0\n",
      "waterfront          0\n",
      "yr_built            0\n",
      "yr_renovated        0\n",
      "zipcode             0\n",
      "dtype: int64 \n",
      " -----------data types------------\n",
      " bathrooms        float64\n",
      "bedrooms           int64\n",
      "condition          int64\n",
      "date              object\n",
      "floors           float64\n",
      "grade              int64\n",
      "id                 int64\n",
      "lat              float64\n",
      "long             float64\n",
      "price            float64\n",
      "sqft_above         int64\n",
      "sqft_basement      int64\n",
      "sqft_living        int64\n",
      "sqft_living15      int64\n",
      "sqft_lot           int64\n",
      "sqft_lot15         int64\n",
      "view               int64\n",
      "waterfront         int64\n",
      "yr_built           int64\n",
      "yr_renovated       int64\n",
      "zipcode            int64\n",
      "dtype: object\n"
     ]
    }
   ],
   "source": [
    "# check if there is any null values\n",
    "print(all_set.isnull().sum(), '\\n -----------data types------------\\n',all_set.dtypes)"
   ]
  },
  {
   "cell_type": "code",
   "execution_count": 115,
   "metadata": {},
   "outputs": [
    {
     "data": {
      "text/html": [
       "<div>\n",
       "<style scoped>\n",
       "    .dataframe tbody tr th:only-of-type {\n",
       "        vertical-align: middle;\n",
       "    }\n",
       "\n",
       "    .dataframe tbody tr th {\n",
       "        vertical-align: top;\n",
       "    }\n",
       "\n",
       "    .dataframe thead th {\n",
       "        text-align: right;\n",
       "    }\n",
       "</style>\n",
       "<table border=\"1\" class=\"dataframe\">\n",
       "  <thead>\n",
       "    <tr style=\"text-align: right;\">\n",
       "      <th></th>\n",
       "      <th>year</th>\n",
       "      <th>month</th>\n",
       "    </tr>\n",
       "  </thead>\n",
       "  <tbody>\n",
       "    <tr>\n",
       "      <th>0</th>\n",
       "      <td>2014</td>\n",
       "      <td>10</td>\n",
       "    </tr>\n",
       "    <tr>\n",
       "      <th>1</th>\n",
       "      <td>2015</td>\n",
       "      <td>2</td>\n",
       "    </tr>\n",
       "    <tr>\n",
       "      <th>2</th>\n",
       "      <td>2015</td>\n",
       "      <td>2</td>\n",
       "    </tr>\n",
       "    <tr>\n",
       "      <th>3</th>\n",
       "      <td>2014</td>\n",
       "      <td>6</td>\n",
       "    </tr>\n",
       "    <tr>\n",
       "      <th>4</th>\n",
       "      <td>2015</td>\n",
       "      <td>1</td>\n",
       "    </tr>\n",
       "    <tr>\n",
       "      <th>5</th>\n",
       "      <td>2015</td>\n",
       "      <td>4</td>\n",
       "    </tr>\n",
       "    <tr>\n",
       "      <th>6</th>\n",
       "      <td>2014</td>\n",
       "      <td>5</td>\n",
       "    </tr>\n",
       "    <tr>\n",
       "      <th>7</th>\n",
       "      <td>2014</td>\n",
       "      <td>5</td>\n",
       "    </tr>\n",
       "    <tr>\n",
       "      <th>8</th>\n",
       "      <td>2014</td>\n",
       "      <td>10</td>\n",
       "    </tr>\n",
       "    <tr>\n",
       "      <th>9</th>\n",
       "      <td>2015</td>\n",
       "      <td>3</td>\n",
       "    </tr>\n",
       "  </tbody>\n",
       "</table>\n",
       "</div>"
      ],
      "text/plain": [
       "   year  month\n",
       "0  2014     10\n",
       "1  2015      2\n",
       "2  2015      2\n",
       "3  2014      6\n",
       "4  2015      1\n",
       "5  2015      4\n",
       "6  2014      5\n",
       "7  2014      5\n",
       "8  2014     10\n",
       "9  2015      3"
      ]
     },
     "execution_count": 115,
     "metadata": {},
     "output_type": "execute_result"
    }
   ],
   "source": [
    "# Change text feature to numerical value\n",
    "# slice date column to extract year and month\n",
    "all_set['year']= all_set.date.astype('str').str.slice(0, 4).astype('int')\n",
    "all_set['month']= all_set.date.astype('str').str.slice(4,6).astype('int')\n",
    "all_set[['year','month']].head(10)"
   ]
  },
  {
   "cell_type": "code",
   "execution_count": 116,
   "metadata": {},
   "outputs": [
    {
     "data": {
      "text/plain": [
       "price            1.000000\n",
       "grade            0.707412\n",
       "sqft_living      0.697907\n",
       "sqft_living15    0.621800\n",
       "sqft_above       0.607197\n",
       "bathrooms        0.552000\n",
       "lat              0.444417\n",
       "bedrooms         0.359946\n",
       "view             0.347505\n",
       "floors           0.317810\n",
       "sqft_basement    0.314378\n",
       "waterfront       0.172580\n",
       "yr_renovated     0.127533\n",
       "sqft_lot         0.108946\n",
       "sqft_lot15       0.096976\n",
       "yr_built         0.076294\n",
       "long             0.054362\n",
       "condition        0.042947\n",
       "id               0.035940\n",
       "year             0.009913\n",
       "month           -0.013975\n",
       "zipcode         -0.039195\n",
       "Name: price, dtype: float64"
      ]
     },
     "execution_count": 116,
     "metadata": {},
     "output_type": "execute_result"
    }
   ],
   "source": [
    "# Correlation after normalizing target variable\n",
    "all_set[all_set['price']>0].corr(method='pearson').price.sort_values(ascending=False)"
   ]
  },
  {
   "cell_type": "code",
   "execution_count": 117,
   "metadata": {},
   "outputs": [
    {
     "data": {
      "text/plain": [
       "0    13056\n",
       "1     8447\n",
       "Name: with_basement, dtype: int64"
      ]
     },
     "execution_count": 117,
     "metadata": {},
     "output_type": "execute_result"
    }
   ],
   "source": [
    "'''Add feature with_basement\n",
    "if sqft_basement > 0 -> 1, otherwise 0'''\n",
    "# sqft_living = sqft_above + sqft_basement\n",
    "# 1: with basement, 0: no basement\n",
    "all_set['with_basement'] = np.select([all_set['sqft_basement'] > 0], [1], default=0)\n",
    "all_set['with_basement'].value_counts()"
   ]
  },
  {
   "cell_type": "code",
   "execution_count": 119,
   "metadata": {},
   "outputs": [
    {
     "name": "stdout",
     "output_type": "stream",
     "text": [
      "1    12507\n",
      "2     8377\n",
      "3      619\n",
      "Name: floors, dtype: int64\n",
      "0    21503\n",
      "Name: with_garret, dtype: int64\n"
     ]
    }
   ],
   "source": [
    "'''Add feature with_garret\n",
    "if floors are not int, it means the house has a garret at the top.'''\n",
    "# 1: with garret, 0: no garret\n",
    "\n",
    "all_set['with_garret'] = np.select([all_set.floors.astype('str').str.slice(2,3) == '5'], [1], default = 0)\n",
    "all_set['floors'] = all_set['floors'].astype('str').str.slice(0,1).astype('int')\n",
    "print(all_set.floors.value_counts())\n",
    "print(all_set.with_garret.value_counts())\n"
   ]
  },
  {
   "cell_type": "code",
   "execution_count": 120,
   "metadata": {},
   "outputs": [],
   "source": [
    "'''\n",
    "Add feature season out of month\n",
    "spring: 3,4,5\n",
    "summer: 6,7,8\n",
    "fall: 9,10,11\n",
    "winter: 12,1,2\n",
    "'''\n",
    "conditions = [(all_set['month']>=3) & (all_set['month'] <=5),\n",
    "             (all_set['month']>=6) & (all_set['month'] <=8),\n",
    "             (all_set['month']>=9) & (all_set['month'] <=11)]\n",
    "choices = ['spring','summer','fall']\n",
    "all_set['season'] = np.select(conditions, choices, default = 'winter')"
   ]
  },
  {
   "cell_type": "code",
   "execution_count": 121,
   "metadata": {},
   "outputs": [
    {
     "data": {
      "text/plain": [
       "spring    6458\n",
       "summer    6328\n",
       "fall      5055\n",
       "winter    3662\n",
       "Name: season, dtype: int64"
      ]
     },
     "execution_count": 121,
     "metadata": {},
     "output_type": "execute_result"
    }
   ],
   "source": [
    "all_set.season.value_counts()"
   ]
  },
  {
   "cell_type": "code",
   "execution_count": 122,
   "metadata": {},
   "outputs": [],
   "source": [
    "# change season to categorical data\n",
    "all_set = pd.get_dummies(all_set, prefix_sep=\"_\", columns=['season'])\n",
    "\n",
    "#drop a column to avoid dummy variable trap\n",
    "all_set.drop('season_winter', axis=1, inplace=True)"
   ]
  },
  {
   "cell_type": "code",
   "execution_count": 123,
   "metadata": {},
   "outputs": [
    {
     "data": {
      "text/html": [
       "<div>\n",
       "<style scoped>\n",
       "    .dataframe tbody tr th:only-of-type {\n",
       "        vertical-align: middle;\n",
       "    }\n",
       "\n",
       "    .dataframe tbody tr th {\n",
       "        vertical-align: top;\n",
       "    }\n",
       "\n",
       "    .dataframe thead th {\n",
       "        text-align: right;\n",
       "    }\n",
       "</style>\n",
       "<table border=\"1\" class=\"dataframe\">\n",
       "  <thead>\n",
       "    <tr style=\"text-align: right;\">\n",
       "      <th></th>\n",
       "      <th>bathrooms</th>\n",
       "      <th>bedrooms</th>\n",
       "      <th>condition</th>\n",
       "      <th>date</th>\n",
       "      <th>floors</th>\n",
       "      <th>grade</th>\n",
       "      <th>id</th>\n",
       "      <th>lat</th>\n",
       "      <th>long</th>\n",
       "      <th>price</th>\n",
       "      <th>...</th>\n",
       "      <th>yr_built</th>\n",
       "      <th>yr_renovated</th>\n",
       "      <th>zipcode</th>\n",
       "      <th>year</th>\n",
       "      <th>month</th>\n",
       "      <th>with_basement</th>\n",
       "      <th>with_garret</th>\n",
       "      <th>season_fall</th>\n",
       "      <th>season_spring</th>\n",
       "      <th>season_summer</th>\n",
       "    </tr>\n",
       "  </thead>\n",
       "  <tbody>\n",
       "    <tr>\n",
       "      <th>0</th>\n",
       "      <td>1.00</td>\n",
       "      <td>3</td>\n",
       "      <td>3</td>\n",
       "      <td>20141013T000000</td>\n",
       "      <td>1</td>\n",
       "      <td>7</td>\n",
       "      <td>0</td>\n",
       "      <td>47.5112</td>\n",
       "      <td>-122.257</td>\n",
       "      <td>12.309982</td>\n",
       "      <td>...</td>\n",
       "      <td>1955</td>\n",
       "      <td>0</td>\n",
       "      <td>98178</td>\n",
       "      <td>2014</td>\n",
       "      <td>10</td>\n",
       "      <td>0</td>\n",
       "      <td>0</td>\n",
       "      <td>1</td>\n",
       "      <td>0</td>\n",
       "      <td>0</td>\n",
       "    </tr>\n",
       "    <tr>\n",
       "      <th>1</th>\n",
       "      <td>1.00</td>\n",
       "      <td>2</td>\n",
       "      <td>3</td>\n",
       "      <td>20150225T000000</td>\n",
       "      <td>1</td>\n",
       "      <td>6</td>\n",
       "      <td>1</td>\n",
       "      <td>47.7379</td>\n",
       "      <td>-122.233</td>\n",
       "      <td>12.100712</td>\n",
       "      <td>...</td>\n",
       "      <td>1933</td>\n",
       "      <td>0</td>\n",
       "      <td>98028</td>\n",
       "      <td>2015</td>\n",
       "      <td>2</td>\n",
       "      <td>0</td>\n",
       "      <td>0</td>\n",
       "      <td>0</td>\n",
       "      <td>0</td>\n",
       "      <td>0</td>\n",
       "    </tr>\n",
       "    <tr>\n",
       "      <th>2</th>\n",
       "      <td>2.00</td>\n",
       "      <td>3</td>\n",
       "      <td>3</td>\n",
       "      <td>20150218T000000</td>\n",
       "      <td>1</td>\n",
       "      <td>8</td>\n",
       "      <td>2</td>\n",
       "      <td>47.6168</td>\n",
       "      <td>-122.045</td>\n",
       "      <td>13.142166</td>\n",
       "      <td>...</td>\n",
       "      <td>1987</td>\n",
       "      <td>0</td>\n",
       "      <td>98074</td>\n",
       "      <td>2015</td>\n",
       "      <td>2</td>\n",
       "      <td>0</td>\n",
       "      <td>0</td>\n",
       "      <td>0</td>\n",
       "      <td>0</td>\n",
       "      <td>0</td>\n",
       "    </tr>\n",
       "    <tr>\n",
       "      <th>3</th>\n",
       "      <td>2.25</td>\n",
       "      <td>3</td>\n",
       "      <td>3</td>\n",
       "      <td>20140627T000000</td>\n",
       "      <td>2</td>\n",
       "      <td>7</td>\n",
       "      <td>3</td>\n",
       "      <td>47.3097</td>\n",
       "      <td>-122.327</td>\n",
       "      <td>12.458775</td>\n",
       "      <td>...</td>\n",
       "      <td>1995</td>\n",
       "      <td>0</td>\n",
       "      <td>98003</td>\n",
       "      <td>2014</td>\n",
       "      <td>6</td>\n",
       "      <td>0</td>\n",
       "      <td>0</td>\n",
       "      <td>0</td>\n",
       "      <td>0</td>\n",
       "      <td>1</td>\n",
       "    </tr>\n",
       "    <tr>\n",
       "      <th>4</th>\n",
       "      <td>1.50</td>\n",
       "      <td>3</td>\n",
       "      <td>3</td>\n",
       "      <td>20150115T000000</td>\n",
       "      <td>1</td>\n",
       "      <td>7</td>\n",
       "      <td>4</td>\n",
       "      <td>47.4095</td>\n",
       "      <td>-122.315</td>\n",
       "      <td>12.583995</td>\n",
       "      <td>...</td>\n",
       "      <td>1963</td>\n",
       "      <td>0</td>\n",
       "      <td>98198</td>\n",
       "      <td>2015</td>\n",
       "      <td>1</td>\n",
       "      <td>0</td>\n",
       "      <td>0</td>\n",
       "      <td>0</td>\n",
       "      <td>0</td>\n",
       "      <td>0</td>\n",
       "    </tr>\n",
       "  </tbody>\n",
       "</table>\n",
       "<p>5 rows × 28 columns</p>\n",
       "</div>"
      ],
      "text/plain": [
       "   bathrooms  bedrooms  condition             date  floors  grade  id  \\\n",
       "0       1.00         3          3  20141013T000000       1      7   0   \n",
       "1       1.00         2          3  20150225T000000       1      6   1   \n",
       "2       2.00         3          3  20150218T000000       1      8   2   \n",
       "3       2.25         3          3  20140627T000000       2      7   3   \n",
       "4       1.50         3          3  20150115T000000       1      7   4   \n",
       "\n",
       "       lat     long      price      ...        yr_built  yr_renovated  \\\n",
       "0  47.5112 -122.257  12.309982      ...            1955             0   \n",
       "1  47.7379 -122.233  12.100712      ...            1933             0   \n",
       "2  47.6168 -122.045  13.142166      ...            1987             0   \n",
       "3  47.3097 -122.327  12.458775      ...            1995             0   \n",
       "4  47.4095 -122.315  12.583995      ...            1963             0   \n",
       "\n",
       "   zipcode  year  month  with_basement  with_garret  season_fall  \\\n",
       "0    98178  2014     10              0            0            1   \n",
       "1    98028  2015      2              0            0            0   \n",
       "2    98074  2015      2              0            0            0   \n",
       "3    98003  2014      6              0            0            0   \n",
       "4    98198  2015      1              0            0            0   \n",
       "\n",
       "   season_spring  season_summer  \n",
       "0              0              0  \n",
       "1              0              0  \n",
       "2              0              0  \n",
       "3              0              1  \n",
       "4              0              0  \n",
       "\n",
       "[5 rows x 28 columns]"
      ]
     },
     "execution_count": 123,
     "metadata": {},
     "output_type": "execute_result"
    }
   ],
   "source": [
    "all_set.head()"
   ]
  },
  {
   "cell_type": "code",
   "execution_count": 124,
   "metadata": {},
   "outputs": [
    {
     "data": {
      "text/plain": [
       "0    20590\n",
       "1      913\n",
       "Name: renovated, dtype: int64"
      ]
     },
     "execution_count": 124,
     "metadata": {},
     "output_type": "execute_result"
    }
   ],
   "source": [
    "# add feature (renovated)\n",
    "all_set['renovated'] = np.select([all_set['yr_renovated'] > 0], [1], default=0)\n",
    "all_set['renovated'].value_counts()"
   ]
  },
  {
   "cell_type": "code",
   "execution_count": 125,
   "metadata": {},
   "outputs": [
    {
     "data": {
      "text/plain": [
       "0    11700\n",
       "1     9803\n",
       "Name: living_greater, dtype: int64"
      ]
     },
     "execution_count": 125,
     "metadata": {},
     "output_type": "execute_result"
    }
   ],
   "source": [
    "# add feature (living_greater) after comparing sqft_living and sqft_living15\n",
    "all_set['living_greater'] = np.select([all_set['sqft_living'] > all_set['sqft_living15']], [1], default=0)\n",
    "all_set['living_greater'].value_counts()"
   ]
  },
  {
   "cell_type": "code",
   "execution_count": 126,
   "metadata": {},
   "outputs": [
    {
     "data": {
      "text/plain": [
       "0    12953\n",
       "1     8550\n",
       "Name: lot_greater, dtype: int64"
      ]
     },
     "execution_count": 126,
     "metadata": {},
     "output_type": "execute_result"
    }
   ],
   "source": [
    "# add feature (lot_greater) after comparing sqft_lot and sqft_lot15\n",
    "all_set['lot_greater'] = np.select([all_set['sqft_lot'] > all_set['sqft_lot15']], [1], default=0)\n",
    "all_set['lot_greater'].value_counts()"
   ]
  },
  {
   "cell_type": "markdown",
   "metadata": {},
   "source": [
    "Drop columns from all_set: sqft_above, sqft_basement, date, yr_renovated, sqft_living15, sqft_lot15, month"
   ]
  },
  {
   "cell_type": "code",
   "execution_count": 127,
   "metadata": {},
   "outputs": [],
   "source": [
    "all_set.drop(['yr_renovated', 'sqft_above','sqft_basement','date','sqft_living15','sqft_lot15','month'], axis=1, inplace=True)"
   ]
  },
  {
   "cell_type": "code",
   "execution_count": 128,
   "metadata": {},
   "outputs": [
    {
     "data": {
      "text/plain": [
       "price             1.000000\n",
       "grade             0.707412\n",
       "sqft_living       0.697907\n",
       "bathrooms         0.552000\n",
       "lat               0.444417\n",
       "bedrooms          0.359946\n",
       "view              0.347505\n",
       "floors            0.294176\n",
       "living_greater    0.257205\n",
       "with_basement     0.207726\n",
       "waterfront        0.172580\n",
       "renovated         0.127241\n",
       "sqft_lot          0.108946\n",
       "yr_built          0.076294\n",
       "lot_greater       0.057863\n",
       "long              0.054362\n",
       "condition         0.042947\n",
       "id                0.035940\n",
       "season_spring     0.035914\n",
       "season_summer     0.009998\n",
       "year              0.009913\n",
       "season_fall      -0.022199\n",
       "zipcode          -0.039195\n",
       "with_garret            NaN\n",
       "Name: price, dtype: float64"
      ]
     },
     "execution_count": 128,
     "metadata": {},
     "output_type": "execute_result"
    }
   ],
   "source": [
    "all_set[all_set['price']>0].corr(method='pearson').price.sort_values(ascending=False)"
   ]
  },
  {
   "cell_type": "code",
   "execution_count": 129,
   "metadata": {},
   "outputs": [
    {
     "data": {
      "text/plain": [
       "<matplotlib.axes._subplots.AxesSubplot at 0x25be2f96c18>"
      ]
     },
     "execution_count": 129,
     "metadata": {},
     "output_type": "execute_result"
    },
    {
     "data": {
      "image/png": "[encoded data removed]",
      "text/plain": [
       "<Figure size 432x288 with 2 Axes>"
      ]
     },
     "metadata": {
      "needs_background": "light"
     },
     "output_type": "display_data"
    }
   ],
   "source": [
    "corr = all_set[['sqft_living', 'grade', 'bathrooms']].corr()\n",
    "sns.heatmap(corr, annot=True)"
   ]
  },
  {
   "cell_type": "code",
   "execution_count": 130,
   "metadata": {},
   "outputs": [
    {
     "name": "stdout",
     "output_type": "stream",
     "text": [
      "Train set: (15035, 24) \n",
      " Test set: (6468, 24)\n"
     ]
    }
   ],
   "source": [
    "# Train set and Test set\n",
    "train_set = all_set.iloc[:len(train_set),:]\n",
    "test_set = all_set.iloc[len(train_set):, :]\n",
    "\n",
    "print(\"Train set:\", train_set.shape, \"\\n Test set:\", test_set.shape)"
   ]
  },
  {
   "cell_type": "code",
   "execution_count": 133,
   "metadata": {},
   "outputs": [
    {
     "name": "stdout",
     "output_type": "stream",
     "text": [
      "      VIF_Factor        features\n",
      "12  5.204743e+06         zipcode\n",
      "13  4.094070e+06            year\n",
      "6   1.333747e+06            long\n",
      "5   1.397681e+05             lat\n",
      "11  1.161546e+04        yr_built\n",
      "4   1.358691e+02           grade\n",
      "2   3.586580e+01       condition\n",
      "7   3.092077e+01     sqft_living\n",
      "0   2.939532e+01       bathrooms\n",
      "1   2.589757e+01        bedrooms\n",
      "3   1.677963e+01          floors\n",
      "18  2.868265e+00   season_summer\n",
      "17  2.790161e+00   season_spring\n",
      "20  2.694331e+00  living_greater\n",
      "16  2.483045e+00     season_fall\n",
      "14  2.345012e+00   with_basement\n",
      "21  1.738922e+00     lot_greater\n",
      "9   1.501848e+00            view\n",
      "8   1.261369e+00        sqft_lot\n",
      "19  1.201183e+00       renovated\n",
      "10  1.200225e+00      waterfront\n",
      "15           NaN     with_garret\n"
     ]
    }
   ],
   "source": [
    "# VIF\n",
    "from statsmodels.stats.outliers_influence import variance_inflation_factor\n",
    "vif = pd.DataFrame()\n",
    "vif['VIF_Factor'] = [variance_inflation_factor(\n",
    "                train_set.drop(['id','price'],axis=1).values, i) for i in range(train_set.drop(['id','price'], axis=1).shape[1])]\n",
    "vif['features'] = train_set.drop(['id', 'price'],axis=1).columns\n",
    "\n",
    "print(vif.sort_values(by='VIF_Factor', ascending=False))"
   ]
  },
  {
   "cell_type": "code",
   "execution_count": 134,
   "metadata": {},
   "outputs": [
    {
     "name": "stdout",
     "output_type": "stream",
     "text": [
      "Train set:  (15035, 19) \n",
      " Test set:  (6468, 19)\n"
     ]
    },
    {
     "name": "stderr",
     "output_type": "stream",
     "text": [
      "C:\\Users\\donny\\Anaconda3\\lib\\site-packages\\pandas\\core\\frame.py:3697: SettingWithCopyWarning: \n",
      "A value is trying to be set on a copy of a slice from a DataFrame\n",
      "\n",
      "See the caveats in the documentation: http://pandas.pydata.org/pandas-docs/stable/indexing.html#indexing-view-versus-copy\n",
      "  errors=errors)\n"
     ]
    }
   ],
   "source": [
    "# #Based on VIF, drop zipcode, long, lat\n",
    "train_set.drop(['zipcode','long','lat','year','yr_built'], axis=1, inplace=True)\n",
    "test_set.drop(['zipcode','long','lat','year','yr_built'], axis=1, inplace=True)\n",
    "print('Train set: ', train_set.shape, '\\n Test set: ', test_set.shape)"
   ]
  },
  {
   "cell_type": "code",
   "execution_count": 135,
   "metadata": {},
   "outputs": [],
   "source": [
    "y_train = train_set.price.copy()\n",
    "test_id = test_set.id\n",
    "x_train = train_set.drop(['id', 'price'], axis=1).copy()\n",
    "x_test = test_set.drop(['id','price'], axis=1).copy()"
   ]
  },
  {
   "cell_type": "code",
   "execution_count": 136,
   "metadata": {},
   "outputs": [
    {
     "name": "stdout",
     "output_type": "stream",
     "text": [
      "0        12.309982\n",
      "1        12.100712\n",
      "2        13.142166\n",
      "3        12.458775\n",
      "4        12.583995\n",
      "5        13.403776\n",
      "6        13.056224\n",
      "7        12.644328\n",
      "8        12.899220\n",
      "9        13.180632\n",
      "10       13.384728\n",
      "11       12.886641\n",
      "12       13.091904\n",
      "13       12.149502\n",
      "14       12.345835\n",
      "15       12.860999\n",
      "16       14.508658\n",
      "17       12.439958\n",
      "18       12.703813\n",
      "19       12.358794\n",
      "20       13.750439\n",
      "21       13.410545\n",
      "22       13.271645\n",
      "23       13.440817\n",
      "24       13.190022\n",
      "25       12.683858\n",
      "26       13.453105\n",
      "27       13.369223\n",
      "28       12.388394\n",
      "29       13.312984\n",
      "           ...    \n",
      "15005    12.706848\n",
      "15006    13.318752\n",
      "15007    13.573439\n",
      "15008    13.322770\n",
      "15009    12.899095\n",
      "15010    13.269058\n",
      "15011    12.800780\n",
      "15012    13.377006\n",
      "15013    13.296091\n",
      "15014    13.102161\n",
      "15015    12.899095\n",
      "15016    12.506177\n",
      "15017    13.132314\n",
      "15018    12.860999\n",
      "15019    12.934828\n",
      "15020    12.758520\n",
      "15021    14.016409\n",
      "15022    13.899852\n",
      "15023    12.765688\n",
      "15024    13.429775\n",
      "15025    14.269766\n",
      "15026    13.604790\n",
      "15027    14.245343\n",
      "15028    13.054085\n",
      "15029    13.136759\n",
      "15030    13.322337\n",
      "15031    13.822983\n",
      "15032    12.793859\n",
      "15033    12.899220\n",
      "15034    12.691580\n",
      "Name: price, Length: 15035, dtype: float64\n"
     ]
    }
   ],
   "source": [
    "print(y_train)"
   ]
  },
  {
   "cell_type": "code",
   "execution_count": 137,
   "metadata": {},
   "outputs": [
    {
     "name": "stderr",
     "output_type": "stream",
     "text": [
      "C:\\Users\\donny\\Anaconda3\\lib\\site-packages\\sklearn\\preprocessing\\data.py:625: DataConversionWarning: Data with input dtype uint8, int32, int64, float64 were all converted to float64 by StandardScaler.\n",
      "  return self.partial_fit(X, y)\n",
      "C:\\Users\\donny\\Anaconda3\\lib\\site-packages\\sklearn\\base.py:462: DataConversionWarning: Data with input dtype uint8, int32, int64, float64 were all converted to float64 by StandardScaler.\n",
      "  return self.fit(X, **fit_params).transform(X)\n"
     ]
    }
   ],
   "source": [
    "from sklearn.preprocessing import StandardScaler\n",
    "sc_x = StandardScaler()\n",
    "x_train_df = pd.DataFrame(sc_x.fit_transform(x_train), columns=x_train.columns)\n"
   ]
  },
  {
   "cell_type": "code",
   "execution_count": 138,
   "metadata": {},
   "outputs": [
    {
     "name": "stderr",
     "output_type": "stream",
     "text": [
      "C:\\Users\\donny\\Anaconda3\\lib\\site-packages\\ipykernel_launcher.py:1: DataConversionWarning: Data with input dtype uint8, int32, int64, float64 were all converted to float64 by StandardScaler.\n",
      "  \"\"\"Entry point for launching an IPython kernel.\n"
     ]
    }
   ],
   "source": [
    "x_test_df = pd.DataFrame(sc_x.transform(x_test), columns=x_test.columns)\n"
   ]
  },
  {
   "cell_type": "code",
   "execution_count": null,
   "metadata": {},
   "outputs": [],
   "source": []
  },
  {
   "cell_type": "code",
   "execution_count": 139,
   "metadata": {},
   "outputs": [
    {
     "data": {
      "text/html": [
       "<table class=\"simpletable\">\n",
       "<caption>OLS Regression Results</caption>\n",
       "<tr>\n",
       "  <th>Dep. Variable:</th>          <td>price</td>      <th>  R-squared:         </th> <td>   0.615</td>\n",
       "</tr>\n",
       "<tr>\n",
       "  <th>Model:</th>                   <td>OLS</td>       <th>  Adj. R-squared:    </th> <td>   0.614</td>\n",
       "</tr>\n",
       "<tr>\n",
       "  <th>Method:</th>             <td>Least Squares</td>  <th>  F-statistic:       </th> <td>   1496.</td>\n",
       "</tr>\n",
       "<tr>\n",
       "  <th>Date:</th>             <td>Fri, 29 Mar 2019</td> <th>  Prob (F-statistic):</th>  <td>  0.00</td> \n",
       "</tr>\n",
       "<tr>\n",
       "  <th>Time:</th>                 <td>20:53:57</td>     <th>  Log-Likelihood:    </th> <td> -4549.8</td>\n",
       "</tr>\n",
       "<tr>\n",
       "  <th>No. Observations:</th>      <td> 15035</td>      <th>  AIC:               </th> <td>   9134.</td>\n",
       "</tr>\n",
       "<tr>\n",
       "  <th>Df Residuals:</th>          <td> 15018</td>      <th>  BIC:               </th> <td>   9263.</td>\n",
       "</tr>\n",
       "<tr>\n",
       "  <th>Df Model:</th>              <td>    16</td>      <th>                     </th>     <td> </td>   \n",
       "</tr>\n",
       "<tr>\n",
       "  <th>Covariance Type:</th>      <td>nonrobust</td>    <th>                     </th>     <td> </td>   \n",
       "</tr>\n",
       "</table>\n",
       "<table class=\"simpletable\">\n",
       "<tr>\n",
       "         <td></td>           <th>coef</th>     <th>std err</th>      <th>t</th>      <th>P>|t|</th>  <th>[0.025</th>    <th>0.975]</th>  \n",
       "</tr>\n",
       "<tr>\n",
       "  <th>const</th>          <td>   13.0481</td> <td>    0.003</td> <td> 4882.780</td> <td> 0.000</td> <td>   13.043</td> <td>   13.053</td>\n",
       "</tr>\n",
       "<tr>\n",
       "  <th>bathrooms</th>      <td>   -0.0151</td> <td>    0.005</td> <td>   -3.223</td> <td> 0.001</td> <td>   -0.024</td> <td>   -0.006</td>\n",
       "</tr>\n",
       "<tr>\n",
       "  <th>bedrooms</th>       <td>   -0.0119</td> <td>    0.004</td> <td>   -3.400</td> <td> 0.001</td> <td>   -0.019</td> <td>   -0.005</td>\n",
       "</tr>\n",
       "<tr>\n",
       "  <th>condition</th>      <td>    0.0642</td> <td>    0.003</td> <td>   22.656</td> <td> 0.000</td> <td>    0.059</td> <td>    0.070</td>\n",
       "</tr>\n",
       "<tr>\n",
       "  <th>floors</th>         <td>    0.0196</td> <td>    0.004</td> <td>    5.370</td> <td> 0.000</td> <td>    0.012</td> <td>    0.027</td>\n",
       "</tr>\n",
       "<tr>\n",
       "  <th>grade</th>          <td>    0.2334</td> <td>    0.005</td> <td>   50.759</td> <td> 0.000</td> <td>    0.224</td> <td>    0.242</td>\n",
       "</tr>\n",
       "<tr>\n",
       "  <th>sqft_living</th>    <td>    0.1841</td> <td>    0.006</td> <td>   31.407</td> <td> 0.000</td> <td>    0.173</td> <td>    0.196</td>\n",
       "</tr>\n",
       "<tr>\n",
       "  <th>sqft_lot</th>       <td>   -0.0018</td> <td>    0.003</td> <td>   -0.666</td> <td> 0.505</td> <td>   -0.007</td> <td>    0.004</td>\n",
       "</tr>\n",
       "<tr>\n",
       "  <th>view</th>           <td>    0.0512</td> <td>    0.003</td> <td>   16.606</td> <td> 0.000</td> <td>    0.045</td> <td>    0.057</td>\n",
       "</tr>\n",
       "<tr>\n",
       "  <th>waterfront</th>     <td>    0.0248</td> <td>    0.003</td> <td>    8.495</td> <td> 0.000</td> <td>    0.019</td> <td>    0.030</td>\n",
       "</tr>\n",
       "<tr>\n",
       "  <th>with_basement</th>  <td>    0.0556</td> <td>    0.003</td> <td>   18.175</td> <td> 0.000</td> <td>    0.050</td> <td>    0.062</td>\n",
       "</tr>\n",
       "<tr>\n",
       "  <th>with_garret</th>    <td> 1.004e-15</td> <td> 3.06e-17</td> <td>   32.854</td> <td> 0.000</td> <td> 9.44e-16</td> <td> 1.06e-15</td>\n",
       "</tr>\n",
       "<tr>\n",
       "  <th>season_fall</th>    <td>    0.0057</td> <td>    0.004</td> <td>    1.575</td> <td> 0.115</td> <td>   -0.001</td> <td>    0.013</td>\n",
       "</tr>\n",
       "<tr>\n",
       "  <th>season_spring</th>  <td>    0.0274</td> <td>    0.004</td> <td>    7.344</td> <td> 0.000</td> <td>    0.020</td> <td>    0.035</td>\n",
       "</tr>\n",
       "<tr>\n",
       "  <th>season_summer</th>  <td>    0.0101</td> <td>    0.004</td> <td>    2.702</td> <td> 0.007</td> <td>    0.003</td> <td>    0.017</td>\n",
       "</tr>\n",
       "<tr>\n",
       "  <th>renovated</th>      <td>    0.0433</td> <td>    0.003</td> <td>   15.973</td> <td> 0.000</td> <td>    0.038</td> <td>    0.049</td>\n",
       "</tr>\n",
       "<tr>\n",
       "  <th>living_greater</th> <td>   -0.0185</td> <td>    0.003</td> <td>   -5.756</td> <td> 0.000</td> <td>   -0.025</td> <td>   -0.012</td>\n",
       "</tr>\n",
       "<tr>\n",
       "  <th>lot_greater</th>    <td>   -0.0077</td> <td>    0.003</td> <td>   -2.806</td> <td> 0.005</td> <td>   -0.013</td> <td>   -0.002</td>\n",
       "</tr>\n",
       "</table>\n",
       "<table class=\"simpletable\">\n",
       "<tr>\n",
       "  <th>Omnibus:</th>       <td> 0.580</td> <th>  Durbin-Watson:     </th> <td>   2.002</td>\n",
       "</tr>\n",
       "<tr>\n",
       "  <th>Prob(Omnibus):</th> <td> 0.748</td> <th>  Jarque-Bera (JB):  </th> <td>   0.551</td>\n",
       "</tr>\n",
       "<tr>\n",
       "  <th>Skew:</th>          <td> 0.009</td> <th>  Prob(JB):          </th> <td>   0.759</td>\n",
       "</tr>\n",
       "<tr>\n",
       "  <th>Kurtosis:</th>      <td> 3.024</td> <th>  Cond. No.          </th> <td>1.88e+17</td>\n",
       "</tr>\n",
       "</table><br/><br/>Warnings:<br/>[1] Standard Errors assume that the covariance matrix of the errors is correctly specified.<br/>[2] The smallest eigenvalue is 1.5e-30. This might indicate that there are<br/>strong multicollinearity problems or that the design matrix is singular."
      ],
      "text/plain": [
       "<class 'statsmodels.iolib.summary.Summary'>\n",
       "\"\"\"\n",
       "                            OLS Regression Results                            \n",
       "==============================================================================\n",
       "Dep. Variable:                  price   R-squared:                       0.615\n",
       "Model:                            OLS   Adj. R-squared:                  0.614\n",
       "Method:                 Least Squares   F-statistic:                     1496.\n",
       "Date:                Fri, 29 Mar 2019   Prob (F-statistic):               0.00\n",
       "Time:                        20:53:57   Log-Likelihood:                -4549.8\n",
       "No. Observations:               15035   AIC:                             9134.\n",
       "Df Residuals:                   15018   BIC:                             9263.\n",
       "Df Model:                          16                                         \n",
       "Covariance Type:            nonrobust                                         \n",
       "==================================================================================\n",
       "                     coef    std err          t      P>|t|      [0.025      0.975]\n",
       "----------------------------------------------------------------------------------\n",
       "const             13.0481      0.003   4882.780      0.000      13.043      13.053\n",
       "bathrooms         -0.0151      0.005     -3.223      0.001      -0.024      -0.006\n",
       "bedrooms          -0.0119      0.004     -3.400      0.001      -0.019      -0.005\n",
       "condition          0.0642      0.003     22.656      0.000       0.059       0.070\n",
       "floors             0.0196      0.004      5.370      0.000       0.012       0.027\n",
       "grade              0.2334      0.005     50.759      0.000       0.224       0.242\n",
       "sqft_living        0.1841      0.006     31.407      0.000       0.173       0.196\n",
       "sqft_lot          -0.0018      0.003     -0.666      0.505      -0.007       0.004\n",
       "view               0.0512      0.003     16.606      0.000       0.045       0.057\n",
       "waterfront         0.0248      0.003      8.495      0.000       0.019       0.030\n",
       "with_basement      0.0556      0.003     18.175      0.000       0.050       0.062\n",
       "with_garret     1.004e-15   3.06e-17     32.854      0.000    9.44e-16    1.06e-15\n",
       "season_fall        0.0057      0.004      1.575      0.115      -0.001       0.013\n",
       "season_spring      0.0274      0.004      7.344      0.000       0.020       0.035\n",
       "season_summer      0.0101      0.004      2.702      0.007       0.003       0.017\n",
       "renovated          0.0433      0.003     15.973      0.000       0.038       0.049\n",
       "living_greater    -0.0185      0.003     -5.756      0.000      -0.025      -0.012\n",
       "lot_greater       -0.0077      0.003     -2.806      0.005      -0.013      -0.002\n",
       "==============================================================================\n",
       "Omnibus:                        0.580   Durbin-Watson:                   2.002\n",
       "Prob(Omnibus):                  0.748   Jarque-Bera (JB):                0.551\n",
       "Skew:                           0.009   Prob(JB):                        0.759\n",
       "Kurtosis:                       3.024   Cond. No.                     1.88e+17\n",
       "==============================================================================\n",
       "\n",
       "Warnings:\n",
       "[1] Standard Errors assume that the covariance matrix of the errors is correctly specified.\n",
       "[2] The smallest eigenvalue is 1.5e-30. This might indicate that there are\n",
       "strong multicollinearity problems or that the design matrix is singular.\n",
       "\"\"\""
      ]
     },
     "execution_count": 139,
     "metadata": {},
     "output_type": "execute_result"
    }
   ],
   "source": [
    "# Multiple Regression\n",
    "import statsmodels.api as sm\n",
    "y = train_set.price.copy()\n",
    "x = x_train_df.copy()\n",
    "x = sm.add_constant(x)\n",
    "\n",
    "model = sm.OLS(y,x).fit()\n",
    "predictions = model.predict(x)\n",
    "\n",
    "model.summary()"
   ]
  },
  {
   "cell_type": "markdown",
   "metadata": {},
   "source": [
    "# Drop features with high p value\n",
    "x_train_df.drop('floors', axis=1, inplace=True)\n",
    "x_test_df.drop('floors', axis=1, inplace=True)"
   ]
  },
  {
   "cell_type": "markdown",
   "metadata": {},
   "source": [
    "# Applying Kernel PCA\n",
    "from sklearn.decomposition import KernelPCA\n",
    "kpca = KernelPCA(n_components=2, kernel= 'rbf')\n",
    "x_train_kpca = kpca.fit_transform(x_train_df)\n",
    "x_test_kpca = kpca.transform(x_test_df)\n",
    "\n",
    "print(x_train_kpca)"
   ]
  },
  {
   "cell_type": "raw",
   "metadata": {},
   "source": [
    "# Applying LDA\n",
    "from sklearn.discriminant_analysis import LinearDiscriminantAnalysis as LDA\n",
    "lda = LDA(n_components=2)\n",
    "x_train_lda = lda.fit_transform(x_train_df, y_train)\n",
    "x_test_lda = lda.transform(x_test_df)\n"
   ]
  },
  {
   "cell_type": "code",
   "execution_count": 141,
   "metadata": {},
   "outputs": [
    {
     "name": "stdout",
     "output_type": "stream",
     "text": [
      "[0.22078432 0.10085613 0.08983705 0.08528192 0.08317893 0.07189664\n",
      " 0.06160934 0.05342162 0.05031122 0.0447655 ]\n"
     ]
    }
   ],
   "source": [
    "# Applying PCA\n",
    "from sklearn.decomposition import PCA\n",
    "pca = PCA(n_components = 10)\n",
    "x_train_pca = pca.fit_transform(x_train_df)\n",
    "x_test_pca = pca.transform(x_test_df)\n",
    "print(pca.explained_variance_ratio_)\n"
   ]
  },
  {
   "cell_type": "code",
   "execution_count": 142,
   "metadata": {},
   "outputs": [
    {
     "data": {
      "text/plain": [
       "0.8619426699671541"
      ]
     },
     "execution_count": 142,
     "metadata": {},
     "output_type": "execute_result"
    }
   ],
   "source": [
    "sum(pca.explained_variance_ratio_[0:10])\n"
   ]
  },
  {
   "cell_type": "code",
   "execution_count": 143,
   "metadata": {},
   "outputs": [
    {
     "data": {
      "text/plain": [
       "<matplotlib.axes._subplots.AxesSubplot at 0x25bef6418d0>"
      ]
     },
     "execution_count": 143,
     "metadata": {},
     "output_type": "execute_result"
    },
    {
     "data": {
      "image/png": "[encoded data removed]",
      "text/plain": [
       "<Figure size 1080x720 with 1 Axes>"
      ]
     },
     "metadata": {
      "needs_background": "light"
     },
     "output_type": "display_data"
    }
   ],
   "source": [
    "# PCA biplot\n",
    "pca = PCA(n_components=2).fit(x_train_df)\n",
    "reduced_data = pca.transform(x_train_df)\n",
    "pca.samples = pca.transform(x_train_df)\n",
    "reduced_data = pd.DataFrame(reduced_data, columns=['Dimension1', 'Dimension2'])\n",
    "\n",
    "def biplot(data, reduced_data, pca):\n",
    "    fig, ax = plt.subplots(figsize = (15,10))\n",
    "    \n",
    "    # scatter plot of reduced data\n",
    "    ax.scatter(x=reduced_data.loc[:,'Dimension1'], y=reduced_data.loc[:,'Dimension2'], facecolors='b', edgecolors='b', s=70, alpha=0.5)\n",
    "    \n",
    "    feature_vectors = pca.components_.T\n",
    "    \n",
    "    # using scaling factors to make arrows\n",
    "    arrow_size, text_pos = 5.0, 7.0,\n",
    "    \n",
    "    for i, v in enumerate(feature_vectors):\n",
    "        ax.arrow(0,0, arrow_size*v[0], arrow_size*v[1], head_width=0.2, head_length=0.2, linewidth=2, color='red')\n",
    "        ax.text(v[0]*text_pos, v[1]*text_pos, x_train_df.columns[i], color='red', ha='center', va='center', fontsize=14)\n",
    "        \n",
    "    ax.set_xlabel('Dimension 1', fontsize=14)\n",
    "    ax.set_ylabel('Dimension 2', fontsize=14)\n",
    "    ax.set_title('PCA biplot')\n",
    "    \n",
    "    return ax\n",
    "\n",
    "biplot(x_train, reduced_data, pca)"
   ]
  },
  {
   "cell_type": "code",
   "execution_count": 144,
   "metadata": {},
   "outputs": [],
   "source": [
    "from sklearn.model_selection import train_test_split\n",
    "from sklearn.neighbors import KNeighborsRegressor\n",
    "from sklearn.tree import DecisionTreeRegressor\n",
    "from sklearn.ensemble import RandomForestRegressor\n",
    "from sklearn import metrics\n",
    "from sklearn.metrics import mean_squared_error, r2_score\n",
    "from math import sqrt"
   ]
  },
  {
   "cell_type": "code",
   "execution_count": 145,
   "metadata": {},
   "outputs": [],
   "source": [
    "# Split train and test set from train\n",
    "x_train_set, x_test_set, y_train_set, y_test_set = train_test_split(x_train_pca, y_train, test_size=0.2, random_state=0)\n"
   ]
  },
  {
   "cell_type": "code",
   "execution_count": 146,
   "metadata": {},
   "outputs": [
    {
     "data": {
      "text/plain": [
       "(12028,)"
      ]
     },
     "execution_count": 146,
     "metadata": {},
     "output_type": "execute_result"
    }
   ],
   "source": [
    "y_train_set.shape"
   ]
  },
  {
   "cell_type": "code",
   "execution_count": 147,
   "metadata": {},
   "outputs": [
    {
     "data": {
      "text/plain": [
       "(12028, 10)"
      ]
     },
     "execution_count": 147,
     "metadata": {},
     "output_type": "execute_result"
    }
   ],
   "source": [
    "x_train_set.shape"
   ]
  },
  {
   "cell_type": "code",
   "execution_count": 148,
   "metadata": {},
   "outputs": [
    {
     "name": "stdout",
     "output_type": "stream",
     "text": [
      "at  1  :  0.45194962001149375\n",
      "at  3  :  0.38172652421156783\n",
      "at  5  :  0.36302780370505144\n",
      "at  7  :  0.35688725443165825\n",
      "at  9  :  0.35618419031570353\n"
     ]
    },
    {
     "data": {
      "text/plain": [
       "<matplotlib.axes._subplots.AxesSubplot at 0x25be5aa8cf8>"
      ]
     },
     "execution_count": 148,
     "metadata": {},
     "output_type": "execute_result"
    },
    {
     "data": {
      "image/png": "[encoded data removed]",
      "text/plain": [
       "<Figure size 432x288 with 1 Axes>"
      ]
     },
     "metadata": {
      "needs_background": "light"
     },
     "output_type": "display_data"
    }
   ],
   "source": [
    "# Knn Regresssor\n",
    "# find the best number of k\n",
    "rmse = []\n",
    "for k in range(1,10):\n",
    "    knn_regressor = KNeighborsRegressor(n_neighbors = k)\n",
    "    knn_regressor.fit(x_train_set, y_train_set.values)\n",
    "    y_pred = knn_regressor.predict(x_test_set)\n",
    "    error = sqrt(mean_squared_error(y_test_set, y_pred))\n",
    "    rmse.append(error)\n",
    "    if k%2 == 1:\n",
    "        print('at ', k, ' : ', error)\n",
    "    \n",
    "graph = pd.DataFrame(rmse)\n",
    "graph.plot()\n"
   ]
  },
  {
   "cell_type": "code",
   "execution_count": 149,
   "metadata": {},
   "outputs": [
    {
     "name": "stdout",
     "output_type": "stream",
     "text": [
      "0.35618419031570353\n"
     ]
    }
   ],
   "source": [
    "knn_reg = KNeighborsRegressor(n_neighbors=9)\n",
    "knn_reg.fit(x_train_set, y_train_set.values)\n",
    "y_pred = knn_reg.predict(x_test_set)\n",
    "error = sqrt(mean_squared_error(y_test_set, y_pred))\n",
    "print(error)\n"
   ]
  },
  {
   "cell_type": "code",
   "execution_count": 153,
   "metadata": {},
   "outputs": [
    {
     "name": "stdout",
     "output_type": "stream",
     "text": [
      "[0.55832322 0.529666   0.51584938 0.54795231 0.53918086 0.50573446\n",
      " 0.53079151 0.55328373 0.5621161  0.52232773]\n",
      "0.5365225299681344\n",
      "0.01790413030728324\n"
     ]
    }
   ],
   "source": [
    "# Applying k-Fold Cross validation\n",
    "from sklearn.model_selection import cross_val_score\n",
    "accuracies = cross_val_score(estimator=knn_reg, X = x_train_set, y=y_train_set, cv=10)\n",
    "\n",
    "print(accuracies)\n",
    "print(accuracies.mean())\n",
    "print(accuracies.std())"
   ]
  },
  {
   "cell_type": "code",
   "execution_count": 154,
   "metadata": {},
   "outputs": [
    {
     "name": "stdout",
     "output_type": "stream",
     "text": [
      "0.4656533974028883\n"
     ]
    }
   ],
   "source": [
    "# Decision Tree Regressor\n",
    "dec_tree = DecisionTreeRegressor(random_state = 0)\n",
    "dec_tree.fit(x_train_set, y_train_set)\n",
    "y_pred = dec_tree.predict(x_test_set)\n",
    "error = sqrt(mean_squared_error(y_test_set, y_pred))\n",
    "print(error)"
   ]
  },
  {
   "cell_type": "code",
   "execution_count": 155,
   "metadata": {},
   "outputs": [
    {
     "name": "stdout",
     "output_type": "stream",
     "text": [
      "[0.21282415 0.20350706 0.08347937 0.21282459 0.22140169 0.19497634\n",
      " 0.19965757 0.23471209 0.30480139 0.23873203]\n",
      "0.21069162702278862\n",
      "0.051910493192867634\n"
     ]
    }
   ],
   "source": [
    "# Applying k-Fold Cross validation\n",
    "accuracies = cross_val_score(estimator=dec_tree, X = x_train_set, y=y_train_set, cv=10)\n",
    "\n",
    "print(accuracies)\n",
    "print(accuracies.mean())\n",
    "print(accuracies.std())"
   ]
  },
  {
   "cell_type": "code",
   "execution_count": 156,
   "metadata": {},
   "outputs": [
    {
     "name": "stdout",
     "output_type": "stream",
     "text": [
      "0.34077595706753294\n"
     ]
    }
   ],
   "source": [
    "# Random Forest\n",
    "rd_forest = RandomForestRegressor(n_estimators=100)\n",
    "rd_forest.fit(x_train_set, y_train_set)\n",
    "y_pred = rd_forest.predict(x_test_set)\n",
    "error = sqrt(mean_squared_error(y_test_set, y_pred))\n",
    "print(error)"
   ]
  },
  {
   "cell_type": "code",
   "execution_count": 157,
   "metadata": {},
   "outputs": [
    {
     "name": "stdout",
     "output_type": "stream",
     "text": [
      "[0.58484268 0.5710023  0.5527362  0.59917063 0.56922062 0.56264326\n",
      " 0.56698475 0.57833249 0.60385486 0.55522079]\n",
      "0.5744008575115479\n",
      "0.016353672789794677\n"
     ]
    }
   ],
   "source": [
    "# Applying k-Fold Cross validation\n",
    "accuracies = cross_val_score(estimator=rd_forest, X = x_train_set, y=y_train_set, cv=10)\n",
    "\n",
    "print(accuracies)\n",
    "print(accuracies.mean())\n",
    "print(accuracies.std())"
   ]
  },
  {
   "cell_type": "code",
   "execution_count": 158,
   "metadata": {},
   "outputs": [
    {
     "data": {
      "text/plain": [
       "(6468,)"
      ]
     },
     "execution_count": 158,
     "metadata": {},
     "output_type": "execute_result"
    }
   ],
   "source": [
    "test_id.shape"
   ]
  },
  {
   "cell_type": "code",
   "execution_count": 159,
   "metadata": {},
   "outputs": [
    {
     "data": {
      "text/plain": [
       "(3007,)"
      ]
     },
     "execution_count": 159,
     "metadata": {},
     "output_type": "execute_result"
    }
   ],
   "source": [
    "y_pred.shape"
   ]
  },
  {
   "cell_type": "code",
   "execution_count": 96,
   "metadata": {},
   "outputs": [
    {
     "ename": "ValueError",
     "evalue": "array length 3007 does not match index length 6468",
     "output_type": "error",
     "traceback": [
      "\u001b[1;31m---------------------------------------------------------------------------\u001b[0m",
      "\u001b[1;31mValueError\u001b[0m                                Traceback (most recent call last)",
      "\u001b[1;32m<ipython-input-96-96e1a60a326e>\u001b[0m in \u001b[0;36m<module>\u001b[1;34m\u001b[0m\n\u001b[0;32m      1\u001b[0m submission = pd.DataFrame({\n\u001b[0;32m      2\u001b[0m                            \u001b[1;34m'id'\u001b[0m\u001b[1;33m:\u001b[0m \u001b[0mtest_id\u001b[0m\u001b[1;33m,\u001b[0m\u001b[1;33m\u001b[0m\u001b[1;33m\u001b[0m\u001b[0m\n\u001b[1;32m----> 3\u001b[1;33m                            \u001b[1;34m'price'\u001b[0m\u001b[1;33m:\u001b[0m \u001b[0my_pred\u001b[0m\u001b[1;33m\u001b[0m\u001b[1;33m\u001b[0m\u001b[0m\n\u001b[0m\u001b[0;32m      4\u001b[0m                            })\n\u001b[0;32m      5\u001b[0m \u001b[0msubmission\u001b[0m\u001b[1;33m.\u001b[0m\u001b[0mto_csv\u001b[0m\u001b[1;33m(\u001b[0m\u001b[1;34m'submission.csv'\u001b[0m\u001b[1;33m,\u001b[0m \u001b[0mindex\u001b[0m\u001b[1;33m=\u001b[0m\u001b[1;32mFalse\u001b[0m\u001b[1;33m)\u001b[0m\u001b[1;33m\u001b[0m\u001b[1;33m\u001b[0m\u001b[0m\n",
      "\u001b[1;32m~\\Anaconda3\\lib\\site-packages\\pandas\\core\\frame.py\u001b[0m in \u001b[0;36m__init__\u001b[1;34m(self, data, index, columns, dtype, copy)\u001b[0m\n\u001b[0;32m    346\u001b[0m                                  dtype=dtype, copy=copy)\n\u001b[0;32m    347\u001b[0m         \u001b[1;32melif\u001b[0m \u001b[0misinstance\u001b[0m\u001b[1;33m(\u001b[0m\u001b[0mdata\u001b[0m\u001b[1;33m,\u001b[0m \u001b[0mdict\u001b[0m\u001b[1;33m)\u001b[0m\u001b[1;33m:\u001b[0m\u001b[1;33m\u001b[0m\u001b[1;33m\u001b[0m\u001b[0m\n\u001b[1;32m--> 348\u001b[1;33m             \u001b[0mmgr\u001b[0m \u001b[1;33m=\u001b[0m \u001b[0mself\u001b[0m\u001b[1;33m.\u001b[0m\u001b[0m_init_dict\u001b[0m\u001b[1;33m(\u001b[0m\u001b[0mdata\u001b[0m\u001b[1;33m,\u001b[0m \u001b[0mindex\u001b[0m\u001b[1;33m,\u001b[0m \u001b[0mcolumns\u001b[0m\u001b[1;33m,\u001b[0m \u001b[0mdtype\u001b[0m\u001b[1;33m=\u001b[0m\u001b[0mdtype\u001b[0m\u001b[1;33m)\u001b[0m\u001b[1;33m\u001b[0m\u001b[1;33m\u001b[0m\u001b[0m\n\u001b[0m\u001b[0;32m    349\u001b[0m         \u001b[1;32melif\u001b[0m \u001b[0misinstance\u001b[0m\u001b[1;33m(\u001b[0m\u001b[0mdata\u001b[0m\u001b[1;33m,\u001b[0m \u001b[0mma\u001b[0m\u001b[1;33m.\u001b[0m\u001b[0mMaskedArray\u001b[0m\u001b[1;33m)\u001b[0m\u001b[1;33m:\u001b[0m\u001b[1;33m\u001b[0m\u001b[1;33m\u001b[0m\u001b[0m\n\u001b[0;32m    350\u001b[0m             \u001b[1;32mimport\u001b[0m \u001b[0mnumpy\u001b[0m\u001b[1;33m.\u001b[0m\u001b[0mma\u001b[0m\u001b[1;33m.\u001b[0m\u001b[0mmrecords\u001b[0m \u001b[1;32mas\u001b[0m \u001b[0mmrecords\u001b[0m\u001b[1;33m\u001b[0m\u001b[1;33m\u001b[0m\u001b[0m\n",
      "\u001b[1;32m~\\Anaconda3\\lib\\site-packages\\pandas\\core\\frame.py\u001b[0m in \u001b[0;36m_init_dict\u001b[1;34m(self, data, index, columns, dtype)\u001b[0m\n\u001b[0;32m    457\u001b[0m             \u001b[0marrays\u001b[0m \u001b[1;33m=\u001b[0m \u001b[1;33m[\u001b[0m\u001b[0mdata\u001b[0m\u001b[1;33m[\u001b[0m\u001b[0mk\u001b[0m\u001b[1;33m]\u001b[0m \u001b[1;32mfor\u001b[0m \u001b[0mk\u001b[0m \u001b[1;32min\u001b[0m \u001b[0mkeys\u001b[0m\u001b[1;33m]\u001b[0m\u001b[1;33m\u001b[0m\u001b[1;33m\u001b[0m\u001b[0m\n\u001b[0;32m    458\u001b[0m \u001b[1;33m\u001b[0m\u001b[0m\n\u001b[1;32m--> 459\u001b[1;33m         \u001b[1;32mreturn\u001b[0m \u001b[0m_arrays_to_mgr\u001b[0m\u001b[1;33m(\u001b[0m\u001b[0marrays\u001b[0m\u001b[1;33m,\u001b[0m \u001b[0mdata_names\u001b[0m\u001b[1;33m,\u001b[0m \u001b[0mindex\u001b[0m\u001b[1;33m,\u001b[0m \u001b[0mcolumns\u001b[0m\u001b[1;33m,\u001b[0m \u001b[0mdtype\u001b[0m\u001b[1;33m=\u001b[0m\u001b[0mdtype\u001b[0m\u001b[1;33m)\u001b[0m\u001b[1;33m\u001b[0m\u001b[1;33m\u001b[0m\u001b[0m\n\u001b[0m\u001b[0;32m    460\u001b[0m \u001b[1;33m\u001b[0m\u001b[0m\n\u001b[0;32m    461\u001b[0m     \u001b[1;32mdef\u001b[0m \u001b[0m_init_ndarray\u001b[0m\u001b[1;33m(\u001b[0m\u001b[0mself\u001b[0m\u001b[1;33m,\u001b[0m \u001b[0mvalues\u001b[0m\u001b[1;33m,\u001b[0m \u001b[0mindex\u001b[0m\u001b[1;33m,\u001b[0m \u001b[0mcolumns\u001b[0m\u001b[1;33m,\u001b[0m \u001b[0mdtype\u001b[0m\u001b[1;33m=\u001b[0m\u001b[1;32mNone\u001b[0m\u001b[1;33m,\u001b[0m \u001b[0mcopy\u001b[0m\u001b[1;33m=\u001b[0m\u001b[1;32mFalse\u001b[0m\u001b[1;33m)\u001b[0m\u001b[1;33m:\u001b[0m\u001b[1;33m\u001b[0m\u001b[1;33m\u001b[0m\u001b[0m\n",
      "\u001b[1;32m~\\Anaconda3\\lib\\site-packages\\pandas\\core\\frame.py\u001b[0m in \u001b[0;36m_arrays_to_mgr\u001b[1;34m(arrays, arr_names, index, columns, dtype)\u001b[0m\n\u001b[0;32m   7354\u001b[0m     \u001b[1;31m# figure out the index, if necessary\u001b[0m\u001b[1;33m\u001b[0m\u001b[1;33m\u001b[0m\u001b[1;33m\u001b[0m\u001b[0m\n\u001b[0;32m   7355\u001b[0m     \u001b[1;32mif\u001b[0m \u001b[0mindex\u001b[0m \u001b[1;32mis\u001b[0m \u001b[1;32mNone\u001b[0m\u001b[1;33m:\u001b[0m\u001b[1;33m\u001b[0m\u001b[1;33m\u001b[0m\u001b[0m\n\u001b[1;32m-> 7356\u001b[1;33m         \u001b[0mindex\u001b[0m \u001b[1;33m=\u001b[0m \u001b[0mextract_index\u001b[0m\u001b[1;33m(\u001b[0m\u001b[0marrays\u001b[0m\u001b[1;33m)\u001b[0m\u001b[1;33m\u001b[0m\u001b[1;33m\u001b[0m\u001b[0m\n\u001b[0m\u001b[0;32m   7357\u001b[0m \u001b[1;33m\u001b[0m\u001b[0m\n\u001b[0;32m   7358\u001b[0m     \u001b[1;31m# don't force copy because getting jammed in an ndarray anyway\u001b[0m\u001b[1;33m\u001b[0m\u001b[1;33m\u001b[0m\u001b[1;33m\u001b[0m\u001b[0m\n",
      "\u001b[1;32m~\\Anaconda3\\lib\\site-packages\\pandas\\core\\frame.py\u001b[0m in \u001b[0;36mextract_index\u001b[1;34m(data)\u001b[0m\n\u001b[0;32m   7410\u001b[0m                     msg = ('array length %d does not match index length %d' %\n\u001b[0;32m   7411\u001b[0m                            (lengths[0], len(index)))\n\u001b[1;32m-> 7412\u001b[1;33m                     \u001b[1;32mraise\u001b[0m \u001b[0mValueError\u001b[0m\u001b[1;33m(\u001b[0m\u001b[0mmsg\u001b[0m\u001b[1;33m)\u001b[0m\u001b[1;33m\u001b[0m\u001b[1;33m\u001b[0m\u001b[0m\n\u001b[0m\u001b[0;32m   7413\u001b[0m             \u001b[1;32melse\u001b[0m\u001b[1;33m:\u001b[0m\u001b[1;33m\u001b[0m\u001b[1;33m\u001b[0m\u001b[0m\n\u001b[0;32m   7414\u001b[0m                 \u001b[0mindex\u001b[0m \u001b[1;33m=\u001b[0m \u001b[0mcom\u001b[0m\u001b[1;33m.\u001b[0m\u001b[0m_default_index\u001b[0m\u001b[1;33m(\u001b[0m\u001b[0mlengths\u001b[0m\u001b[1;33m[\u001b[0m\u001b[1;36m0\u001b[0m\u001b[1;33m]\u001b[0m\u001b[1;33m)\u001b[0m\u001b[1;33m\u001b[0m\u001b[1;33m\u001b[0m\u001b[0m\n",
      "\u001b[1;31mValueError\u001b[0m: array length 3007 does not match index length 6468"
     ]
    }
   ],
   "source": [
    "submission = pd.DataFrame({\n",
    "                           'id': test_id,\n",
    "                           'price': y_pred\n",
    "                           })\n",
    "submission.to_csv('submission.csv', index=False)"
   ]
  }
 ],
 "metadata": {
  "anaconda-cloud": {},
  "kernelspec": {
   "display_name": "Python 3",
   "language": "python",
   "name": "python3"
  },
  "language_info": {
   "codemirror_mode": {
    "name": "ipython",
    "version": 3
   },
   "file_extension": ".py",
   "mimetype": "text/x-python",
   "name": "python",
   "nbconvert_exporter": "python",
   "pygments_lexer": "ipython3",
   "version": "3.7.1"
  }
 },
 "nbformat": 4,
 "nbformat_minor": 1
}
