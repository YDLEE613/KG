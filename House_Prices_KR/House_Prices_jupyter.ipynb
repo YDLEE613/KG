{
 "cells": [
  {
   "cell_type": "code",
   "execution_count": 184,
   "metadata": {
    "collapsed": false
   },
   "outputs": [],
   "source": [
    "# import libraries\n",
    "import pandas as pd\n",
    "import matplotlib.pyplot as plt\n",
    "import scipy.stats\n",
    "import numpy as np\n",
    "%matplotlib inline"
   ]
  },
  {
   "cell_type": "code",
   "execution_count": 185,
   "metadata": {
    "collapsed": false
   },
   "outputs": [
    {
     "name": "stdout",
     "output_type": "stream",
     "text": [
      "Train Set\n",
      " (15035, 21) \n",
      " id               0\n",
      "date             0\n",
      "price            0\n",
      "bedrooms         0\n",
      "bathrooms        0\n",
      "sqft_living      0\n",
      "sqft_lot         0\n",
      "floors           0\n",
      "waterfront       0\n",
      "view             0\n",
      "condition        0\n",
      "grade            0\n",
      "sqft_above       0\n",
      "sqft_basement    0\n",
      "yr_built         0\n",
      "yr_renovated     0\n",
      "zipcode          0\n",
      "lat              0\n",
      "long             0\n",
      "sqft_living15    0\n",
      "sqft_lot15       0\n",
      "dtype: int64\n",
      "Test Set\n",
      " (6468, 20) \n",
      " id               0\n",
      "date             0\n",
      "bedrooms         0\n",
      "bathrooms        0\n",
      "sqft_living      0\n",
      "sqft_lot         0\n",
      "floors           0\n",
      "waterfront       0\n",
      "view             0\n",
      "condition        0\n",
      "grade            0\n",
      "sqft_above       0\n",
      "sqft_basement    0\n",
      "yr_built         0\n",
      "yr_renovated     0\n",
      "zipcode          0\n",
      "lat              0\n",
      "long             0\n",
      "sqft_living15    0\n",
      "sqft_lot15       0\n",
      "dtype: int64\n"
     ]
    }
   ],
   "source": [
    "# load data\n",
    "train_set = pd.read_csv('train.csv')\n",
    "\n",
    "test_set = pd.read_csv('test.csv')\n",
    "\n",
    "print('Train Set\\n', train_set.shape, '\\n', train_set.isnull().sum())\n",
    "print('Test Set\\n', test_set.shape, '\\n', test_set.isnull().sum())\n",
    "all_set = pd.concat([train_set, test_set])\n"
   ]
  },
  {
   "cell_type": "code",
   "execution_count": 186,
   "metadata": {
    "collapsed": false
   },
   "outputs": [
    {
     "data": {
      "text/html": [
       "<div>\n",
       "<table border=\"1\" class=\"dataframe\">\n",
       "  <thead>\n",
       "    <tr style=\"text-align: right;\">\n",
       "      <th></th>\n",
       "      <th>id</th>\n",
       "      <th>date</th>\n",
       "      <th>price</th>\n",
       "      <th>bedrooms</th>\n",
       "      <th>bathrooms</th>\n",
       "      <th>sqft_living</th>\n",
       "      <th>sqft_lot</th>\n",
       "      <th>floors</th>\n",
       "      <th>waterfront</th>\n",
       "      <th>view</th>\n",
       "      <th>...</th>\n",
       "      <th>grade</th>\n",
       "      <th>sqft_above</th>\n",
       "      <th>sqft_basement</th>\n",
       "      <th>yr_built</th>\n",
       "      <th>yr_renovated</th>\n",
       "      <th>zipcode</th>\n",
       "      <th>lat</th>\n",
       "      <th>long</th>\n",
       "      <th>sqft_living15</th>\n",
       "      <th>sqft_lot15</th>\n",
       "    </tr>\n",
       "  </thead>\n",
       "  <tbody>\n",
       "    <tr>\n",
       "      <th>0</th>\n",
       "      <td>0</td>\n",
       "      <td>20141013T000000</td>\n",
       "      <td>221900.0</td>\n",
       "      <td>3</td>\n",
       "      <td>1.00</td>\n",
       "      <td>1180</td>\n",
       "      <td>5650</td>\n",
       "      <td>1.0</td>\n",
       "      <td>0</td>\n",
       "      <td>0</td>\n",
       "      <td>...</td>\n",
       "      <td>7</td>\n",
       "      <td>1180</td>\n",
       "      <td>0</td>\n",
       "      <td>1955</td>\n",
       "      <td>0</td>\n",
       "      <td>98178</td>\n",
       "      <td>47.5112</td>\n",
       "      <td>-122.257</td>\n",
       "      <td>1340</td>\n",
       "      <td>5650</td>\n",
       "    </tr>\n",
       "    <tr>\n",
       "      <th>1</th>\n",
       "      <td>1</td>\n",
       "      <td>20150225T000000</td>\n",
       "      <td>180000.0</td>\n",
       "      <td>2</td>\n",
       "      <td>1.00</td>\n",
       "      <td>770</td>\n",
       "      <td>10000</td>\n",
       "      <td>1.0</td>\n",
       "      <td>0</td>\n",
       "      <td>0</td>\n",
       "      <td>...</td>\n",
       "      <td>6</td>\n",
       "      <td>770</td>\n",
       "      <td>0</td>\n",
       "      <td>1933</td>\n",
       "      <td>0</td>\n",
       "      <td>98028</td>\n",
       "      <td>47.7379</td>\n",
       "      <td>-122.233</td>\n",
       "      <td>2720</td>\n",
       "      <td>8062</td>\n",
       "    </tr>\n",
       "    <tr>\n",
       "      <th>2</th>\n",
       "      <td>2</td>\n",
       "      <td>20150218T000000</td>\n",
       "      <td>510000.0</td>\n",
       "      <td>3</td>\n",
       "      <td>2.00</td>\n",
       "      <td>1680</td>\n",
       "      <td>8080</td>\n",
       "      <td>1.0</td>\n",
       "      <td>0</td>\n",
       "      <td>0</td>\n",
       "      <td>...</td>\n",
       "      <td>8</td>\n",
       "      <td>1680</td>\n",
       "      <td>0</td>\n",
       "      <td>1987</td>\n",
       "      <td>0</td>\n",
       "      <td>98074</td>\n",
       "      <td>47.6168</td>\n",
       "      <td>-122.045</td>\n",
       "      <td>1800</td>\n",
       "      <td>7503</td>\n",
       "    </tr>\n",
       "    <tr>\n",
       "      <th>3</th>\n",
       "      <td>3</td>\n",
       "      <td>20140627T000000</td>\n",
       "      <td>257500.0</td>\n",
       "      <td>3</td>\n",
       "      <td>2.25</td>\n",
       "      <td>1715</td>\n",
       "      <td>6819</td>\n",
       "      <td>2.0</td>\n",
       "      <td>0</td>\n",
       "      <td>0</td>\n",
       "      <td>...</td>\n",
       "      <td>7</td>\n",
       "      <td>1715</td>\n",
       "      <td>0</td>\n",
       "      <td>1995</td>\n",
       "      <td>0</td>\n",
       "      <td>98003</td>\n",
       "      <td>47.3097</td>\n",
       "      <td>-122.327</td>\n",
       "      <td>2238</td>\n",
       "      <td>6819</td>\n",
       "    </tr>\n",
       "    <tr>\n",
       "      <th>4</th>\n",
       "      <td>4</td>\n",
       "      <td>20150115T000000</td>\n",
       "      <td>291850.0</td>\n",
       "      <td>3</td>\n",
       "      <td>1.50</td>\n",
       "      <td>1060</td>\n",
       "      <td>9711</td>\n",
       "      <td>1.0</td>\n",
       "      <td>0</td>\n",
       "      <td>0</td>\n",
       "      <td>...</td>\n",
       "      <td>7</td>\n",
       "      <td>1060</td>\n",
       "      <td>0</td>\n",
       "      <td>1963</td>\n",
       "      <td>0</td>\n",
       "      <td>98198</td>\n",
       "      <td>47.4095</td>\n",
       "      <td>-122.315</td>\n",
       "      <td>1650</td>\n",
       "      <td>9711</td>\n",
       "    </tr>\n",
       "  </tbody>\n",
       "</table>\n",
       "<p>5 rows × 21 columns</p>\n",
       "</div>"
      ],
      "text/plain": [
       "   id             date     price  bedrooms  bathrooms  sqft_living  sqft_lot  \\\n",
       "0   0  20141013T000000  221900.0         3       1.00         1180      5650   \n",
       "1   1  20150225T000000  180000.0         2       1.00          770     10000   \n",
       "2   2  20150218T000000  510000.0         3       2.00         1680      8080   \n",
       "3   3  20140627T000000  257500.0         3       2.25         1715      6819   \n",
       "4   4  20150115T000000  291850.0         3       1.50         1060      9711   \n",
       "\n",
       "   floors  waterfront  view     ...      grade  sqft_above  sqft_basement  \\\n",
       "0     1.0           0     0     ...          7        1180              0   \n",
       "1     1.0           0     0     ...          6         770              0   \n",
       "2     1.0           0     0     ...          8        1680              0   \n",
       "3     2.0           0     0     ...          7        1715              0   \n",
       "4     1.0           0     0     ...          7        1060              0   \n",
       "\n",
       "   yr_built  yr_renovated  zipcode      lat     long  sqft_living15  \\\n",
       "0      1955             0    98178  47.5112 -122.257           1340   \n",
       "1      1933             0    98028  47.7379 -122.233           2720   \n",
       "2      1987             0    98074  47.6168 -122.045           1800   \n",
       "3      1995             0    98003  47.3097 -122.327           2238   \n",
       "4      1963             0    98198  47.4095 -122.315           1650   \n",
       "\n",
       "   sqft_lot15  \n",
       "0        5650  \n",
       "1        8062  \n",
       "2        7503  \n",
       "3        6819  \n",
       "4        9711  \n",
       "\n",
       "[5 rows x 21 columns]"
      ]
     },
     "execution_count": 186,
     "metadata": {},
     "output_type": "execute_result"
    }
   ],
   "source": [
    "train_set.head(5)"
   ]
  },
  {
   "cell_type": "code",
   "execution_count": 187,
   "metadata": {
    "collapsed": false
   },
   "outputs": [
    {
     "data": {
      "text/html": [
       "<div>\n",
       "<table border=\"1\" class=\"dataframe\">\n",
       "  <thead>\n",
       "    <tr style=\"text-align: right;\">\n",
       "      <th></th>\n",
       "      <th>id</th>\n",
       "      <th>date</th>\n",
       "      <th>bedrooms</th>\n",
       "      <th>bathrooms</th>\n",
       "      <th>sqft_living</th>\n",
       "      <th>sqft_lot</th>\n",
       "      <th>floors</th>\n",
       "      <th>waterfront</th>\n",
       "      <th>view</th>\n",
       "      <th>condition</th>\n",
       "      <th>grade</th>\n",
       "      <th>sqft_above</th>\n",
       "      <th>sqft_basement</th>\n",
       "      <th>yr_built</th>\n",
       "      <th>yr_renovated</th>\n",
       "      <th>zipcode</th>\n",
       "      <th>lat</th>\n",
       "      <th>long</th>\n",
       "      <th>sqft_living15</th>\n",
       "      <th>sqft_lot15</th>\n",
       "    </tr>\n",
       "  </thead>\n",
       "  <tbody>\n",
       "    <tr>\n",
       "      <th>0</th>\n",
       "      <td>15035</td>\n",
       "      <td>20141209T000000</td>\n",
       "      <td>3</td>\n",
       "      <td>2.25</td>\n",
       "      <td>2570</td>\n",
       "      <td>7242</td>\n",
       "      <td>2.0</td>\n",
       "      <td>0</td>\n",
       "      <td>0</td>\n",
       "      <td>3</td>\n",
       "      <td>7</td>\n",
       "      <td>2170</td>\n",
       "      <td>400</td>\n",
       "      <td>1951</td>\n",
       "      <td>1991</td>\n",
       "      <td>98125</td>\n",
       "      <td>47.7210</td>\n",
       "      <td>-122.319</td>\n",
       "      <td>1690</td>\n",
       "      <td>7639</td>\n",
       "    </tr>\n",
       "    <tr>\n",
       "      <th>1</th>\n",
       "      <td>15036</td>\n",
       "      <td>20141209T000000</td>\n",
       "      <td>4</td>\n",
       "      <td>3.00</td>\n",
       "      <td>1960</td>\n",
       "      <td>5000</td>\n",
       "      <td>1.0</td>\n",
       "      <td>0</td>\n",
       "      <td>0</td>\n",
       "      <td>5</td>\n",
       "      <td>7</td>\n",
       "      <td>1050</td>\n",
       "      <td>910</td>\n",
       "      <td>1965</td>\n",
       "      <td>0</td>\n",
       "      <td>98136</td>\n",
       "      <td>47.5208</td>\n",
       "      <td>-122.393</td>\n",
       "      <td>1360</td>\n",
       "      <td>5000</td>\n",
       "    </tr>\n",
       "    <tr>\n",
       "      <th>2</th>\n",
       "      <td>15037</td>\n",
       "      <td>20140512T000000</td>\n",
       "      <td>4</td>\n",
       "      <td>4.50</td>\n",
       "      <td>5420</td>\n",
       "      <td>101930</td>\n",
       "      <td>1.0</td>\n",
       "      <td>0</td>\n",
       "      <td>0</td>\n",
       "      <td>3</td>\n",
       "      <td>11</td>\n",
       "      <td>3890</td>\n",
       "      <td>1530</td>\n",
       "      <td>2001</td>\n",
       "      <td>0</td>\n",
       "      <td>98053</td>\n",
       "      <td>47.6561</td>\n",
       "      <td>-122.005</td>\n",
       "      <td>4760</td>\n",
       "      <td>101930</td>\n",
       "    </tr>\n",
       "    <tr>\n",
       "      <th>3</th>\n",
       "      <td>15038</td>\n",
       "      <td>20150415T000000</td>\n",
       "      <td>3</td>\n",
       "      <td>1.00</td>\n",
       "      <td>1780</td>\n",
       "      <td>7470</td>\n",
       "      <td>1.0</td>\n",
       "      <td>0</td>\n",
       "      <td>0</td>\n",
       "      <td>3</td>\n",
       "      <td>7</td>\n",
       "      <td>1050</td>\n",
       "      <td>730</td>\n",
       "      <td>1960</td>\n",
       "      <td>0</td>\n",
       "      <td>98146</td>\n",
       "      <td>47.5123</td>\n",
       "      <td>-122.337</td>\n",
       "      <td>1780</td>\n",
       "      <td>8113</td>\n",
       "    </tr>\n",
       "    <tr>\n",
       "      <th>4</th>\n",
       "      <td>15039</td>\n",
       "      <td>20150312T000000</td>\n",
       "      <td>3</td>\n",
       "      <td>2.50</td>\n",
       "      <td>1890</td>\n",
       "      <td>6560</td>\n",
       "      <td>2.0</td>\n",
       "      <td>0</td>\n",
       "      <td>0</td>\n",
       "      <td>3</td>\n",
       "      <td>7</td>\n",
       "      <td>1890</td>\n",
       "      <td>0</td>\n",
       "      <td>2003</td>\n",
       "      <td>0</td>\n",
       "      <td>98038</td>\n",
       "      <td>47.3684</td>\n",
       "      <td>-122.031</td>\n",
       "      <td>2390</td>\n",
       "      <td>7570</td>\n",
       "    </tr>\n",
       "  </tbody>\n",
       "</table>\n",
       "</div>"
      ],
      "text/plain": [
       "      id             date  bedrooms  bathrooms  sqft_living  sqft_lot  floors  \\\n",
       "0  15035  20141209T000000         3       2.25         2570      7242     2.0   \n",
       "1  15036  20141209T000000         4       3.00         1960      5000     1.0   \n",
       "2  15037  20140512T000000         4       4.50         5420    101930     1.0   \n",
       "3  15038  20150415T000000         3       1.00         1780      7470     1.0   \n",
       "4  15039  20150312T000000         3       2.50         1890      6560     2.0   \n",
       "\n",
       "   waterfront  view  condition  grade  sqft_above  sqft_basement  yr_built  \\\n",
       "0           0     0          3      7        2170            400      1951   \n",
       "1           0     0          5      7        1050            910      1965   \n",
       "2           0     0          3     11        3890           1530      2001   \n",
       "3           0     0          3      7        1050            730      1960   \n",
       "4           0     0          3      7        1890              0      2003   \n",
       "\n",
       "   yr_renovated  zipcode      lat     long  sqft_living15  sqft_lot15  \n",
       "0          1991    98125  47.7210 -122.319           1690        7639  \n",
       "1             0    98136  47.5208 -122.393           1360        5000  \n",
       "2             0    98053  47.6561 -122.005           4760      101930  \n",
       "3             0    98146  47.5123 -122.337           1780        8113  \n",
       "4             0    98038  47.3684 -122.031           2390        7570  "
      ]
     },
     "execution_count": 187,
     "metadata": {},
     "output_type": "execute_result"
    }
   ],
   "source": [
    "test_set.head(5)"
   ]
  },
  {
   "cell_type": "code",
   "execution_count": 188,
   "metadata": {
    "collapsed": false,
    "scrolled": true
   },
   "outputs": [
    {
     "name": "stdout",
     "output_type": "stream",
     "text": [
      "bathrooms           0\n",
      "bedrooms            0\n",
      "condition           0\n",
      "date                0\n",
      "floors              0\n",
      "grade               0\n",
      "id                  0\n",
      "lat                 0\n",
      "long                0\n",
      "price            6468\n",
      "sqft_above          0\n",
      "sqft_basement       0\n",
      "sqft_living         0\n",
      "sqft_living15       0\n",
      "sqft_lot            0\n",
      "sqft_lot15          0\n",
      "view                0\n",
      "waterfront          0\n",
      "yr_built            0\n",
      "yr_renovated        0\n",
      "zipcode             0\n",
      "dtype: int64 \n",
      " -----------data types------------\n",
      " bathrooms        float64\n",
      "bedrooms           int64\n",
      "condition          int64\n",
      "date              object\n",
      "floors           float64\n",
      "grade              int64\n",
      "id                 int64\n",
      "lat              float64\n",
      "long             float64\n",
      "price            float64\n",
      "sqft_above         int64\n",
      "sqft_basement      int64\n",
      "sqft_living        int64\n",
      "sqft_living15      int64\n",
      "sqft_lot           int64\n",
      "sqft_lot15         int64\n",
      "view               int64\n",
      "waterfront         int64\n",
      "yr_built           int64\n",
      "yr_renovated       int64\n",
      "zipcode            int64\n",
      "dtype: object\n"
     ]
    }
   ],
   "source": [
    "# check if there is any null values\n",
    "print(all_set.isnull().sum(), '\\n -----------data types------------\\n',all_set.dtypes)"
   ]
  },
  {
   "cell_type": "code",
   "execution_count": 189,
   "metadata": {
    "collapsed": false
   },
   "outputs": [
    {
     "data": {
      "text/plain": [
       "price            1.000000\n",
       "sqft_living      0.702899\n",
       "grade            0.667211\n",
       "sqft_above       0.608577\n",
       "sqft_living15    0.586419\n",
       "bathrooms        0.525479\n",
       "view             0.400806\n",
       "bedrooms         0.323672\n",
       "sqft_basement    0.322218\n",
       "lat              0.301604\n",
       "waterfront       0.265738\n",
       "floors           0.262588\n",
       "yr_renovated     0.140808\n",
       "sqft_lot         0.096793\n",
       "sqft_lot15       0.086384\n",
       "yr_built         0.047290\n",
       "condition        0.039740\n",
       "long             0.023547\n",
       "id               0.020899\n",
       "date             0.007717\n",
       "zipcode         -0.051498\n",
       "Name: price, dtype: float64"
      ]
     },
     "execution_count": 189,
     "metadata": {},
     "output_type": "execute_result"
    }
   ],
   "source": [
    "# slice date column to extract year and month\n",
    "all_set.date= all_set.date.str.slice(0, 6).astype('int')\n",
    "all_set[all_set['price']>0].corr(method='pearson')['price'].sort_values(ascending=False)"
   ]
  },
  {
   "cell_type": "code",
   "execution_count": 190,
   "metadata": {
    "collapsed": false
   },
   "outputs": [
    {
     "name": "stdout",
     "output_type": "stream",
     "text": [
      "mu:  540682.6531426671  std:  371524.6603903912\n"
     ]
    },
    {
     "data": {
      "image/png": "[encoded data removed]",
      "text/plain": [
       "<Figure size 432x288 with 1 Axes>"
      ]
     },
     "metadata": {},
     "output_type": "display_data"
    }
   ],
   "source": [
    "# Normalize target variable\n",
    "mu = train_set.price.mean()\n",
    "std = train_set.price.std()\n",
    "print('mu: ', mu, ' std: ',std)\n",
    "\n",
    "n, bins, patches = plt.hist(train_set.price, 40, density=1, facecolor='blue')\n",
    "\n",
    "y = scipy.stats.norm.pdf(bins, mu, std)\n",
    "plt.plot(bins, y, 'r-')\n",
    "plt.show()"
   ]
  },
  {
   "cell_type": "code",
   "execution_count": 191,
   "metadata": {
    "collapsed": false
   },
   "outputs": [
    {
     "data": {
      "image/png": "[encoded data removed]",
      "text/plain": [
       "<Figure size 432x288 with 1 Axes>"
      ]
     },
     "metadata": {},
     "output_type": "display_data"
    }
   ],
   "source": [
    "# normalize target variable\n",
    "price_log = np.log(train_set.price)\n",
    "price_log_mu = np.mean(price_log)\n",
    "price_log_std = np.std(price_log)\n",
    "\n",
    "n, bins, patches = plt.hist(price_log, 40, density=2, facecolor='blue')\n",
    "\n",
    "y= scipy.stats.norm.pdf(bins, price_log_mu, price_log_std)\n",
    "plt.plot(bins, y, 'r-')\n",
    "plt.show()\n"
   ]
  },
  {
   "cell_type": "code",
   "execution_count": 192,
   "metadata": {
    "collapsed": false
   },
   "outputs": [
    {
     "data": {
      "text/plain": [
       "price            1.000000\n",
       "grade            0.707412\n",
       "sqft_living      0.697907\n",
       "sqft_living15    0.621800\n",
       "sqft_above       0.607197\n",
       "bathrooms        0.552000\n",
       "lat              0.444417\n",
       "bedrooms         0.359946\n",
       "view             0.347505\n",
       "floors           0.317810\n",
       "sqft_basement    0.314378\n",
       "waterfront       0.172580\n",
       "yr_renovated     0.127533\n",
       "sqft_lot         0.108946\n",
       "sqft_lot15       0.096976\n",
       "yr_built         0.076294\n",
       "long             0.054362\n",
       "condition        0.042947\n",
       "id               0.035940\n",
       "zipcode         -0.039195\n",
       "Name: price, dtype: float64"
      ]
     },
     "execution_count": 192,
     "metadata": {},
     "output_type": "execute_result"
    }
   ],
   "source": [
    "# replacing train_set.price with log-transformed price\n",
    "original_price = train_set.price.copy()\n",
    "train_set.price = price_log\n",
    "train_set.corr(method='pearson').price.sort_values(ascending=False)"
   ]
  },
  {
   "cell_type": "code",
   "execution_count": 193,
   "metadata": {
    "collapsed": false
   },
   "outputs": [
    {
     "data": {
      "text/plain": [
       "0    13056\n",
       "1     8447\n",
       "Name: with_basement, dtype: int64"
      ]
     },
     "execution_count": 193,
     "metadata": {},
     "output_type": "execute_result"
    }
   ],
   "source": [
    "# sqft_living = sqft_above + sqft_basement\n",
    "# new feature 'with_basement'\n",
    "\n",
    "# 1: with basement, 0: no basement\n",
    "all_set['with_basement'] = np.select([all_set['sqft_basement'] > 0], [1], default=0)\n",
    "all_set['with_basement'].value_counts()"
   ]
  },
  {
   "cell_type": "code",
   "execution_count": 194,
   "metadata": {
    "collapsed": false
   },
   "outputs": [
    {
     "name": "stdout",
     "output_type": "stream",
     "text": [
      "1    12507\n",
      "2     8377\n",
      "3      619\n",
      "Name: floors, dtype: int64\n",
      "0    19439\n",
      "1     2064\n",
      "Name: with_garret, dtype: int64\n"
     ]
    },
    {
     "data": {
      "text/plain": [
       "bathrooms        float64\n",
       "bedrooms           int64\n",
       "condition          int64\n",
       "date               int32\n",
       "floors             int32\n",
       "grade              int64\n",
       "id                 int64\n",
       "lat              float64\n",
       "long             float64\n",
       "price            float64\n",
       "sqft_above         int64\n",
       "sqft_basement      int64\n",
       "sqft_living        int64\n",
       "sqft_living15      int64\n",
       "sqft_lot           int64\n",
       "sqft_lot15         int64\n",
       "view               int64\n",
       "waterfront         int64\n",
       "yr_built           int64\n",
       "yr_renovated       int64\n",
       "zipcode            int64\n",
       "with_basement      int32\n",
       "with_garret        int32\n",
       "dtype: object"
      ]
     },
     "execution_count": 194,
     "metadata": {},
     "output_type": "execute_result"
    }
   ],
   "source": [
    "# add feature with_garret\n",
    "# 1: with garret, 0: no garret\n",
    "all_set['with_garret'] = np.select([all_set.floors.astype('str').str.slice(2,3) == '5'], [1], default = 0)\n",
    "all_set['floors'] = all_set['floors'].astype('str').str.slice(0,1).astype('int')\n",
    "print(all_set.floors.value_counts())\n",
    "print(all_set.with_garret.value_counts())\n",
    "all_set.dtypes"
   ]
  },
  {
   "cell_type": "code",
   "execution_count": 195,
   "metadata": {
    "collapsed": false
   },
   "outputs": [],
   "source": [
    "# drop sqft_above and sqft_basement\n",
    "all_set.drop(['sqft_above', 'sqft_basement'], axis=1, inplace=True)"
   ]
  },
  {
   "cell_type": "code",
   "execution_count": 196,
   "metadata": {
    "collapsed": false
   },
   "outputs": [
    {
     "name": "stdout",
     "output_type": "stream",
     "text": [
      "        bathrooms  bedrooms  condition  floors  grade    id   lat  long  \\\n",
      "date                                                                      \n",
      "201405       1768      1768       1768    1768   1768  1768  1768  1768   \n",
      "201406       2180      2180       2180    2180   2180  2180  2180  2180   \n",
      "201407       2211      2211       2211    2211   2211  2211  2211  2211   \n",
      "201408       1937      1937       1937    1937   1937  1937  1937  1937   \n",
      "201409       1774      1774       1774    1774   1774  1774  1774  1774   \n",
      "201410       1873      1873       1873    1873   1873  1873  1873  1873   \n",
      "201411       1408      1408       1408    1408   1408  1408  1408  1408   \n",
      "201412       1459      1459       1459    1459   1459  1459  1459  1459   \n",
      "201501        969       969        969     969    969   969   969   969   \n",
      "201502       1234      1234       1234    1234   1234  1234  1234  1234   \n",
      "201503       1851      1851       1851    1851   1851  1851  1851  1851   \n",
      "201504       2204      2204       2204    2204   2204  2204  2204  2204   \n",
      "201505        635       635        635     635    635   635   635   635   \n",
      "\n",
      "        price  sqft_living  sqft_living15  sqft_lot  sqft_lot15  view  \\\n",
      "date                                                                    \n",
      "201405   1252         1768           1768      1768        1768  1768   \n",
      "201406   1500         2180           2180      2180        2180  2180   \n",
      "201407   1582         2211           2211      2211        2211  2211   \n",
      "201408   1361         1937           1937      1937        1937  1937   \n",
      "201409   1227         1774           1774      1774        1774  1774   \n",
      "201410   1322         1873           1873      1873        1873  1873   \n",
      "201411    981         1408           1408      1408        1408  1408   \n",
      "201412   1004         1459           1459      1459        1459  1459   \n",
      "201501    691          969            969       969         969   969   \n",
      "201502    842         1234           1234      1234        1234  1234   \n",
      "201503   1300         1851           1851      1851        1851  1851   \n",
      "201504   1525         2204           2204      2204        2204  2204   \n",
      "201505    448          635            635       635         635   635   \n",
      "\n",
      "        waterfront  yr_built  yr_renovated  zipcode  with_basement  \\\n",
      "date                                                                 \n",
      "201405        1768      1768          1768     1768           1768   \n",
      "201406        2180      2180          2180     2180           2180   \n",
      "201407        2211      2211          2211     2211           2211   \n",
      "201408        1937      1937          1937     1937           1937   \n",
      "201409        1774      1774          1774     1774           1774   \n",
      "201410        1873      1873          1873     1873           1873   \n",
      "201411        1408      1408          1408     1408           1408   \n",
      "201412        1459      1459          1459     1459           1459   \n",
      "201501         969       969           969      969            969   \n",
      "201502        1234      1234          1234     1234           1234   \n",
      "201503        1851      1851          1851     1851           1851   \n",
      "201504        2204      2204          2204     2204           2204   \n",
      "201505         635       635           635      635            635   \n",
      "\n",
      "        with_garret  \n",
      "date                 \n",
      "201405         1768  \n",
      "201406         2180  \n",
      "201407         2211  \n",
      "201408         1937  \n",
      "201409         1774  \n",
      "201410         1873  \n",
      "201411         1408  \n",
      "201412         1459  \n",
      "201501          969  \n",
      "201502         1234  \n",
      "201503         1851  \n",
      "201504         2204  \n",
      "201505          635  \n"
     ]
    },
    {
     "data": {
      "text/plain": [
       "6    4690\n",
       "2    4148\n",
       "1    3948\n",
       "3    3647\n",
       "4    2867\n",
       "5    2203\n",
       "Name: date_label, dtype: int64"
      ]
     },
     "execution_count": 196,
     "metadata": {},
     "output_type": "execute_result"
    }
   ],
   "source": [
    "# Divide date into 5 groups\n",
    "print(all_set.groupby('date').agg('count'))\n",
    "\n",
    "conditions = [all_set['date'] <=201406,\n",
    "             (all_set['date'] > 201406) & (all_set['date'] <= 201408),\n",
    "             (all_set['date'] > 201408) & (all_set['date'] <= 201410),\n",
    "             (all_set['date'] > 201410) & (all_set['date'] <= 201412),\n",
    "             (all_set['date'] > 201412) & (all_set['date'] <= 201502)]\n",
    "choices = [1, 2, 3, 4, 5]\n",
    "\n",
    "all_set['date_label'] = np.select(conditions, choices, default = 6)\n",
    "all_set.drop('date', axis=1, inplace=True)\n",
    "all_set.date_label.value_counts()"
   ]
  },
  {
   "cell_type": "code",
   "execution_count": 197,
   "metadata": {
    "collapsed": false
   },
   "outputs": [
    {
     "data": {
      "text/plain": [
       "0    20590\n",
       "1      913\n",
       "Name: renovated, dtype: int64"
      ]
     },
     "execution_count": 197,
     "metadata": {},
     "output_type": "execute_result"
    }
   ],
   "source": [
    "# add feature (renovated)\n",
    "all_set['renovated'] = np.select([all_set['yr_renovated'] > 0], [1], default=0)\n",
    "all_set.drop('yr_renovated', axis=1, inplace=True)\n",
    "all_set['renovated'].value_counts()"
   ]
  },
  {
   "cell_type": "code",
   "execution_count": 198,
   "metadata": {
    "collapsed": false
   },
   "outputs": [
    {
     "data": {
      "text/plain": [
       "1    12352\n",
       "0     9151\n",
       "Name: living_greater, dtype: int64"
      ]
     },
     "execution_count": 198,
     "metadata": {},
     "output_type": "execute_result"
    }
   ],
   "source": [
    "# add feature (living_greater) after comparing sqft_living and sqft_living15\n",
    "all_set['living_greater'] = np.select([all_set['sqft_living'] >= all_set['sqft_living15']], [1], default=0)\n",
    "all_set.drop('sqft_living15', axis=1, inplace=True)\n",
    "all_set['living_greater'].value_counts()"
   ]
  },
  {
   "cell_type": "code",
   "execution_count": 199,
   "metadata": {
    "collapsed": false
   },
   "outputs": [
    {
     "data": {
      "text/plain": [
       "1    13006\n",
       "0     8497\n",
       "Name: lot_greater, dtype: int64"
      ]
     },
     "execution_count": 199,
     "metadata": {},
     "output_type": "execute_result"
    }
   ],
   "source": [
    "# add feature (lot_greater) after comparing sqft_lot and sqft_lot15\n",
    "all_set['lot_greater'] = np.select([all_set['sqft_lot'] >= all_set['sqft_lot15']], [1], default=0)\n",
    "all_set.drop('sqft_lot15', axis=1, inplace=True)\n",
    "all_set['lot_greater'].value_counts()"
   ]
  },
  {
   "cell_type": "code",
   "execution_count": 200,
   "metadata": {
    "collapsed": false
   },
   "outputs": [
    {
     "name": "stdout",
     "output_type": "stream",
     "text": [
      "Train set: (15035, 21) \n",
      " Test set: (6468, 21)\n"
     ]
    }
   ],
   "source": [
    "# Train set and Test set\n",
    "train_set = all_set.iloc[:len(train_set),:]\n",
    "test_set = all_set.iloc[len(train_set):, :]\n",
    "\n",
    "print(\"Train set:\", train_set.shape, \"\\n Test set:\", test_set.shape)"
   ]
  },
  {
   "cell_type": "code",
   "execution_count": 201,
   "metadata": {
    "collapsed": false
   },
   "outputs": [],
   "source": [
    "y_train = train_set.price\n",
    "price = test_set.id\n",
    "x_train = train_set.drop(['id', 'price'], axis=1).copy()\n",
    "x_test = test_set.drop(['id','price'], axis=1).copy()\n",
    "\n",
    "from sklearn.preprocessing import StandardScaler\n",
    "sc_x = StandardScaler()\n",
    "x_train = sc_x.fit_transform(x_train)\n",
    "x_test = sc_x.transform(x_test)"
   ]
  },
  {
   "cell_type": "code",
   "execution_count": 202,
   "metadata": {
    "collapsed": false
   },
   "outputs": [
    {
     "name": "stdout",
     "output_type": "stream",
     "text": [
      "0.9237737647466395\n"
     ]
    }
   ],
   "source": [
    "# Apply PCA\n",
    "from sklearn.decomposition import PCA\n",
    "pca = PCA(n_components = 14)\n",
    "x_train = pca.fit_transform(x_train)\n",
    "x_test = pca.transform(x_test)\n",
    "exp_variance = pca.explained_variance_ratio_\n",
    "print(sum(exp_variance))"
   ]
  },
  {
   "cell_type": "code",
   "execution_count": 156,
   "metadata": {
    "collapsed": false
   },
   "outputs": [
    {
     "data": {
      "image/png": "[encoded data removed]",
      "text/plain": [
       "<Figure size 432x288 with 1 Axes>"
      ]
     },
     "metadata": {},
     "output_type": "display_data"
    }
   ],
   "source": [
    "plt.figure()\n",
    "plt.plot(np.cumsum(pca.explained_variance_ratio_))\n",
    "plt.show()"
   ]
  },
  {
   "cell_type": "code",
   "execution_count": 115,
   "metadata": {
    "collapsed": false
   },
   "outputs": [
    {
     "data": {
      "text/html": [
       "<table class=\"simpletable\">\n",
       "<caption>OLS Regression Results</caption>\n",
       "<tr>\n",
       "  <th>Dep. Variable:</th>          <td>price</td>      <th>  R-squared:         </th>  <td>   0.705</td>  \n",
       "</tr>\n",
       "<tr>\n",
       "  <th>Model:</th>                   <td>OLS</td>       <th>  Adj. R-squared:    </th>  <td>   0.704</td>  \n",
       "</tr>\n",
       "<tr>\n",
       "  <th>Method:</th>             <td>Least Squares</td>  <th>  F-statistic:       </th>  <td>   1884.</td>  \n",
       "</tr>\n",
       "<tr>\n",
       "  <th>Date:</th>             <td>Thu, 21 Mar 2019</td> <th>  Prob (F-statistic):</th>   <td>  0.00</td>   \n",
       "</tr>\n",
       "<tr>\n",
       "  <th>Time:</th>                 <td>21:17:59</td>     <th>  Log-Likelihood:    </th> <td>-2.0500e+05</td>\n",
       "</tr>\n",
       "<tr>\n",
       "  <th>No. Observations:</th>      <td> 15035</td>      <th>  AIC:               </th>  <td>4.100e+05</td> \n",
       "</tr>\n",
       "<tr>\n",
       "  <th>Df Residuals:</th>          <td> 15015</td>      <th>  BIC:               </th>  <td>4.102e+05</td> \n",
       "</tr>\n",
       "<tr>\n",
       "  <th>Df Model:</th>              <td>    19</td>      <th>                     </th>      <td> </td>     \n",
       "</tr>\n",
       "<tr>\n",
       "  <th>Covariance Type:</th>      <td>nonrobust</td>    <th>                     </th>      <td> </td>     \n",
       "</tr>\n",
       "</table>\n",
       "<table class=\"simpletable\">\n",
       "<tr>\n",
       "         <td></td>           <th>coef</th>     <th>std err</th>      <th>t</th>      <th>P>|t|</th>  <th>[0.025</th>    <th>0.975]</th>  \n",
       "</tr>\n",
       "<tr>\n",
       "  <th>const</th>          <td> 3.235e+06</td> <td> 3.53e+06</td> <td>    0.917</td> <td> 0.359</td> <td>-3.68e+06</td> <td> 1.02e+07</td>\n",
       "</tr>\n",
       "<tr>\n",
       "  <th>bathrooms</th>      <td> 4.008e+04</td> <td> 3977.177</td> <td>   10.079</td> <td> 0.000</td> <td> 3.23e+04</td> <td> 4.79e+04</td>\n",
       "</tr>\n",
       "<tr>\n",
       "  <th>bedrooms</th>       <td>-3.598e+04</td> <td> 2415.433</td> <td>  -14.896</td> <td> 0.000</td> <td>-4.07e+04</td> <td>-3.12e+04</td>\n",
       "</tr>\n",
       "<tr>\n",
       "  <th>condition</th>      <td> 2.925e+04</td> <td> 2855.937</td> <td>   10.242</td> <td> 0.000</td> <td> 2.37e+04</td> <td> 3.48e+04</td>\n",
       "</tr>\n",
       "<tr>\n",
       "  <th>floors</th>         <td> 1.887e+04</td> <td> 4391.029</td> <td>    4.297</td> <td> 0.000</td> <td> 1.03e+04</td> <td> 2.75e+04</td>\n",
       "</tr>\n",
       "<tr>\n",
       "  <th>grade</th>          <td> 9.432e+04</td> <td> 2473.299</td> <td>   38.136</td> <td> 0.000</td> <td> 8.95e+04</td> <td> 9.92e+04</td>\n",
       "</tr>\n",
       "<tr>\n",
       "  <th>lat</th>            <td> 5.907e+05</td> <td>  1.3e+04</td> <td>   45.586</td> <td> 0.000</td> <td> 5.65e+05</td> <td> 6.16e+05</td>\n",
       "</tr>\n",
       "<tr>\n",
       "  <th>long</th>           <td>-2.252e+05</td> <td> 1.56e+04</td> <td>  -14.460</td> <td> 0.000</td> <td>-2.56e+05</td> <td>-1.95e+05</td>\n",
       "</tr>\n",
       "<tr>\n",
       "  <th>sqft_living</th>    <td>  204.7189</td> <td>    3.942</td> <td>   51.927</td> <td> 0.000</td> <td>  196.991</td> <td>  212.446</td>\n",
       "</tr>\n",
       "<tr>\n",
       "  <th>sqft_lot</th>       <td>   -0.0542</td> <td>    0.041</td> <td>   -1.329</td> <td> 0.184</td> <td>   -0.134</td> <td>    0.026</td>\n",
       "</tr>\n",
       "<tr>\n",
       "  <th>view</th>           <td> 5.457e+04</td> <td> 2531.890</td> <td>   21.551</td> <td> 0.000</td> <td> 4.96e+04</td> <td> 5.95e+04</td>\n",
       "</tr>\n",
       "<tr>\n",
       "  <th>waterfront</th>     <td> 5.682e+05</td> <td> 2.14e+04</td> <td>   26.547</td> <td> 0.000</td> <td> 5.26e+05</td> <td>  6.1e+05</td>\n",
       "</tr>\n",
       "<tr>\n",
       "  <th>yr_built</th>       <td>-2522.7825</td> <td>   95.276</td> <td>  -26.479</td> <td> 0.000</td> <td>-2709.535</td> <td>-2336.030</td>\n",
       "</tr>\n",
       "<tr>\n",
       "  <th>zipcode</th>        <td> -556.4910</td> <td>   39.837</td> <td>  -13.969</td> <td> 0.000</td> <td> -634.576</td> <td> -478.406</td>\n",
       "</tr>\n",
       "<tr>\n",
       "  <th>with_basement</th>  <td>-1.091e+04</td> <td> 4084.356</td> <td>   -2.672</td> <td> 0.008</td> <td>-1.89e+04</td> <td>-2908.805</td>\n",
       "</tr>\n",
       "<tr>\n",
       "  <th>with_garret</th>    <td> 1.431e+04</td> <td> 6212.904</td> <td>    2.303</td> <td> 0.021</td> <td> 2129.929</td> <td> 2.65e+04</td>\n",
       "</tr>\n",
       "<tr>\n",
       "  <th>date_label</th>     <td> 6666.3944</td> <td>  918.156</td> <td>    7.261</td> <td> 0.000</td> <td> 4866.696</td> <td> 8466.093</td>\n",
       "</tr>\n",
       "<tr>\n",
       "  <th>renovated</th>      <td> 4.869e+04</td> <td> 8838.987</td> <td>    5.508</td> <td> 0.000</td> <td> 3.14e+04</td> <td>  6.6e+04</td>\n",
       "</tr>\n",
       "<tr>\n",
       "  <th>living_greater</th> <td> -6.43e+04</td> <td> 3934.191</td> <td>  -16.345</td> <td> 0.000</td> <td> -7.2e+04</td> <td>-5.66e+04</td>\n",
       "</tr>\n",
       "<tr>\n",
       "  <th>lot_greater</th>    <td> 7950.6036</td> <td> 3436.670</td> <td>    2.313</td> <td> 0.021</td> <td> 1214.312</td> <td> 1.47e+04</td>\n",
       "</tr>\n",
       "</table>\n",
       "<table class=\"simpletable\">\n",
       "<tr>\n",
       "  <th>Omnibus:</th>       <td>13096.247</td> <th>  Durbin-Watson:     </th>  <td>   1.985</td>  \n",
       "</tr>\n",
       "<tr>\n",
       "  <th>Prob(Omnibus):</th>  <td> 0.000</td>   <th>  Jarque-Bera (JB):  </th> <td>1461972.836</td>\n",
       "</tr>\n",
       "<tr>\n",
       "  <th>Skew:</th>           <td> 3.674</td>   <th>  Prob(JB):          </th>  <td>    0.00</td>  \n",
       "</tr>\n",
       "<tr>\n",
       "  <th>Kurtosis:</th>       <td>50.746</td>   <th>  Cond. No.          </th>  <td>2.13e+08</td>  \n",
       "</tr>\n",
       "</table><br/><br/>Warnings:<br/>[1] Standard Errors assume that the covariance matrix of the errors is correctly specified.<br/>[2] The condition number is large, 2.13e+08. This might indicate that there are<br/>strong multicollinearity or other numerical problems."
      ],
      "text/plain": [
       "<class 'statsmodels.iolib.summary.Summary'>\n",
       "\"\"\"\n",
       "                            OLS Regression Results                            \n",
       "==============================================================================\n",
       "Dep. Variable:                  price   R-squared:                       0.705\n",
       "Model:                            OLS   Adj. R-squared:                  0.704\n",
       "Method:                 Least Squares   F-statistic:                     1884.\n",
       "Date:                Thu, 21 Mar 2019   Prob (F-statistic):               0.00\n",
       "Time:                        21:17:59   Log-Likelihood:            -2.0500e+05\n",
       "No. Observations:               15035   AIC:                         4.100e+05\n",
       "Df Residuals:                   15015   BIC:                         4.102e+05\n",
       "Df Model:                          19                                         \n",
       "Covariance Type:            nonrobust                                         \n",
       "==================================================================================\n",
       "                     coef    std err          t      P>|t|      [0.025      0.975]\n",
       "----------------------------------------------------------------------------------\n",
       "const           3.235e+06   3.53e+06      0.917      0.359   -3.68e+06    1.02e+07\n",
       "bathrooms       4.008e+04   3977.177     10.079      0.000    3.23e+04    4.79e+04\n",
       "bedrooms       -3.598e+04   2415.433    -14.896      0.000   -4.07e+04   -3.12e+04\n",
       "condition       2.925e+04   2855.937     10.242      0.000    2.37e+04    3.48e+04\n",
       "floors          1.887e+04   4391.029      4.297      0.000    1.03e+04    2.75e+04\n",
       "grade           9.432e+04   2473.299     38.136      0.000    8.95e+04    9.92e+04\n",
       "lat             5.907e+05    1.3e+04     45.586      0.000    5.65e+05    6.16e+05\n",
       "long           -2.252e+05   1.56e+04    -14.460      0.000   -2.56e+05   -1.95e+05\n",
       "sqft_living      204.7189      3.942     51.927      0.000     196.991     212.446\n",
       "sqft_lot          -0.0542      0.041     -1.329      0.184      -0.134       0.026\n",
       "view            5.457e+04   2531.890     21.551      0.000    4.96e+04    5.95e+04\n",
       "waterfront      5.682e+05   2.14e+04     26.547      0.000    5.26e+05     6.1e+05\n",
       "yr_built       -2522.7825     95.276    -26.479      0.000   -2709.535   -2336.030\n",
       "zipcode         -556.4910     39.837    -13.969      0.000    -634.576    -478.406\n",
       "with_basement  -1.091e+04   4084.356     -2.672      0.008   -1.89e+04   -2908.805\n",
       "with_garret     1.431e+04   6212.904      2.303      0.021    2129.929    2.65e+04\n",
       "date_label      6666.3944    918.156      7.261      0.000    4866.696    8466.093\n",
       "renovated       4.869e+04   8838.987      5.508      0.000    3.14e+04     6.6e+04\n",
       "living_greater  -6.43e+04   3934.191    -16.345      0.000    -7.2e+04   -5.66e+04\n",
       "lot_greater     7950.6036   3436.670      2.313      0.021    1214.312    1.47e+04\n",
       "==============================================================================\n",
       "Omnibus:                    13096.247   Durbin-Watson:                   1.985\n",
       "Prob(Omnibus):                  0.000   Jarque-Bera (JB):          1461972.836\n",
       "Skew:                           3.674   Prob(JB):                         0.00\n",
       "Kurtosis:                      50.746   Cond. No.                     2.13e+08\n",
       "==============================================================================\n",
       "\n",
       "Warnings:\n",
       "[1] Standard Errors assume that the covariance matrix of the errors is correctly specified.\n",
       "[2] The condition number is large, 2.13e+08. This might indicate that there are\n",
       "strong multicollinearity or other numerical problems.\n",
       "\"\"\""
      ]
     },
     "execution_count": 115,
     "metadata": {},
     "output_type": "execute_result"
    }
   ],
   "source": [
    "# Multiple Regression\n",
    "import statsmodels.api as sm\n",
    "y = train_set.price.copy()\n",
    "x = train_set.drop(['id', 'price'], axis=1)\n",
    "x = sm.add_constant(x)\n",
    "\n",
    "model = sm.OLS(y,x).fit()\n",
    "predictions = model.predict(x)\n",
    "\n",
    "model.summary()\n"
   ]
  },
  {
   "cell_type": "code",
   "execution_count": 116,
   "metadata": {
    "collapsed": false
   },
   "outputs": [
    {
     "data": {
      "text/plain": [
       "price             1.000000\n",
       "sqft_living       0.702899\n",
       "grade             0.667211\n",
       "bathrooms         0.525479\n",
       "view              0.400806\n",
       "bedrooms          0.323672\n",
       "lat               0.301604\n",
       "waterfront        0.265738\n",
       "floors            0.243731\n",
       "living_greater    0.188061\n",
       "with_basement     0.176706\n",
       "renovated         0.140550\n",
       "with_garret       0.048364\n",
       "yr_built          0.047290\n",
       "condition         0.039740\n",
       "lot_greater       0.033759\n",
       "long              0.023547\n",
       "date_label        0.002187\n",
       "zipcode          -0.051498\n",
       "Name: price, dtype: float64"
      ]
     },
     "execution_count": 116,
     "metadata": {},
     "output_type": "execute_result"
    }
   ],
   "source": [
    "# Drop sqrt_lot field \n",
    "all_set.drop('sqft_lot', axis=1, inplace=True)\n",
    "all_set.drop('id', axis=1).corr(method='pearson').price.sort_values(ascending=False)"
   ]
  },
  {
   "cell_type": "code",
   "execution_count": 117,
   "metadata": {
    "collapsed": false
   },
   "outputs": [],
   "source": [
    "from sklearn.model_selection import train_test_split\n",
    "from sklearn.neighbors import KNeighborsRegressor\n",
    "from sklearn.tree import DecisionTreeRegressor\n",
    "from sklearn.ensemble import RandomForestRegressor\n",
    "from sklearn import metrics\n",
    "from sklearn.metrics import mean_squared_error, r2_score\n",
    "from math import sqrt"
   ]
  },
  {
   "cell_type": "code",
   "execution_count": 118,
   "metadata": {
    "collapsed": false
   },
   "outputs": [],
   "source": [
    "#x_train_set, x_test_set, y_train_set, y_test_set = train_test_split(x_train, y_train, test_size=0.2, random_state=0)\n"
   ]
  },
  {
   "cell_type": "code",
   "execution_count": 119,
   "metadata": {
    "collapsed": false
   },
   "outputs": [
    {
     "data": {
      "text/plain": [
       "\"\\n# find the best number of k\\nrmse = []\\nfor k in range(1,21):\\n    knn_regressor = KNeighborsRegressor(n_neighbors = k)\\n    knn_regressor.fit(x_train_set, y_train_set)\\n    y_pred = knn_regressor.predict(x_test_set)\\n    error = sqrt(mean_squared_error(y_test_set, y_pred))\\n    rmse.append(error)\\n    print('at ', k, ' : ', error)\\n    \\ngraph = pd.DataFrame(rmse)\\ngraph.plot()\\n\""
      ]
     },
     "execution_count": 119,
     "metadata": {},
     "output_type": "execute_result"
    }
   ],
   "source": [
    "# Knn Regresssor\n",
    "# find the best number of k\n",
    "rmse = []\n",
    "for k in range(1,21):\n",
    "    knn_regressor = KNeighborsRegressor(n_neighbors = k)\n",
    "    knn_regressor.fit(x_train_set, y_train_set)\n",
    "    y_pred = knn_regressor.predict(x_test_set)\n",
    "    error = sqrt(mean_squared_error(y_test_set, y_pred))\n",
    "    rmse.append(error)\n",
    "    print('at ', k, ' : ', error)\n",
    "    \n",
    "graph = pd.DataFrame(rmse)\n",
    "graph.plot()\n"
   ]
  },
  {
   "cell_type": "code",
   "execution_count": 127,
   "metadata": {
    "collapsed": false
   },
   "outputs": [
    {
     "name": "stdout",
     "output_type": "stream",
     "text": [
      "80.17095402740406 2\n"
     ]
    }
   ],
   "source": [
    "knn_reg = KNeighborsRegressor(n_neighbors=8)\n",
    "knn_reg.fit(x_train, y_train)\n",
    "y_pred = knn_reg.predict(x_test)\n",
    "print(knn_reg.score(x_train, y_train)*100)"
   ]
  },
  {
   "cell_type": "code",
   "execution_count": null,
   "metadata": {
    "collapsed": true
   },
   "outputs": [],
   "source": [
    "# Decision Tree Regressor\n",
    "dec_tree = DecisionTreeRegressor(random_state = 0)\n",
    "dec_tree.fit(x_train, y_train)\n",
    "y_pred = dec_tree.predict(x_test)\n",
    "print(dec_tree.score(x_train, y_train)*100)"
   ]
  },
  {
   "cell_type": "code",
   "execution_count": 130,
   "metadata": {
    "collapsed": false
   },
   "outputs": [
    {
     "name": "stdout",
     "output_type": "stream",
     "text": [
      "97.44436557738496\n"
     ]
    }
   ],
   "source": [
    "# Random Forest\n",
    "rd_forest = RandomForestRegressor()\n",
    "rd_forest.fit(x_train, y_train)\n",
    "y_pred = rd_forest.predict(x_test)\n",
    "print(rd_forest.score(x_train, y_train)*100)"
   ]
  },
  {
   "cell_type": "code",
   "execution_count": 133,
   "metadata": {
    "collapsed": true
   },
   "outputs": [],
   "source": [
    "submission = pd.DataFrame({\n",
    "                           'id': price,\n",
    "                           'price': y_pred\n",
    "                           })\n",
    "submission.to_csv('submission.csv', index=False)"
   ]
  }
 ],
 "metadata": {
  "anaconda-cloud": {},
  "kernelspec": {
   "display_name": "Python [default]",
   "language": "python",
   "name": "python3"
  },
  "language_info": {
   "codemirror_mode": {
    "name": "ipython",
    "version": 3
   },
   "file_extension": ".py",
   "mimetype": "text/x-python",
   "name": "python",
   "nbconvert_exporter": "python",
   "pygments_lexer": "ipython3",
   "version": "3.5.6"
  }
 },
 "nbformat": 4,
 "nbformat_minor": 1
}
