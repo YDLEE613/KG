{
 "cells": [
  {
   "cell_type": "code",
   "execution_count": 540,
   "metadata": {
    "collapsed": false
   },
   "outputs": [],
   "source": [
    "# import libraries\n",
    "import pandas as pd\n",
    "import matplotlib.pyplot as plt\n",
    "import scipy.stats\n",
    "import numpy as np\n",
    "%matplotlib inline"
   ]
  },
  {
   "cell_type": "code",
   "execution_count": 541,
   "metadata": {
    "collapsed": false
   },
   "outputs": [
    {
     "name": "stdout",
     "output_type": "stream",
     "text": [
      "Train Set\n",
      " (15035, 21) \n",
      " id               0\n",
      "date             0\n",
      "price            0\n",
      "bedrooms         0\n",
      "bathrooms        0\n",
      "sqft_living      0\n",
      "sqft_lot         0\n",
      "floors           0\n",
      "waterfront       0\n",
      "view             0\n",
      "condition        0\n",
      "grade            0\n",
      "sqft_above       0\n",
      "sqft_basement    0\n",
      "yr_built         0\n",
      "yr_renovated     0\n",
      "zipcode          0\n",
      "lat              0\n",
      "long             0\n",
      "sqft_living15    0\n",
      "sqft_lot15       0\n",
      "dtype: int64\n",
      "Test Set\n",
      " (6468, 20) \n",
      " id               0\n",
      "date             0\n",
      "bedrooms         0\n",
      "bathrooms        0\n",
      "sqft_living      0\n",
      "sqft_lot         0\n",
      "floors           0\n",
      "waterfront       0\n",
      "view             0\n",
      "condition        0\n",
      "grade            0\n",
      "sqft_above       0\n",
      "sqft_basement    0\n",
      "yr_built         0\n",
      "yr_renovated     0\n",
      "zipcode          0\n",
      "lat              0\n",
      "long             0\n",
      "sqft_living15    0\n",
      "sqft_lot15       0\n",
      "dtype: int64\n"
     ]
    }
   ],
   "source": [
    "# load data\n",
    "train_set = pd.read_csv('train.csv')\n",
    "\n",
    "test_set = pd.read_csv('test.csv')\n",
    "\n",
    "print('Train Set\\n', train_set.shape, '\\n', train_set.isnull().sum())\n",
    "print('Test Set\\n', test_set.shape, '\\n', test_set.isnull().sum())\n",
    "all_set = pd.concat([train_set, test_set])\n"
   ]
  },
  {
   "cell_type": "code",
   "execution_count": 542,
   "metadata": {
    "collapsed": false
   },
   "outputs": [
    {
     "data": {
      "text/html": [
       "<div>\n",
       "<table border=\"1\" class=\"dataframe\">\n",
       "  <thead>\n",
       "    <tr style=\"text-align: right;\">\n",
       "      <th></th>\n",
       "      <th>id</th>\n",
       "      <th>date</th>\n",
       "      <th>price</th>\n",
       "      <th>bedrooms</th>\n",
       "      <th>bathrooms</th>\n",
       "      <th>sqft_living</th>\n",
       "      <th>sqft_lot</th>\n",
       "      <th>floors</th>\n",
       "      <th>waterfront</th>\n",
       "      <th>view</th>\n",
       "      <th>...</th>\n",
       "      <th>grade</th>\n",
       "      <th>sqft_above</th>\n",
       "      <th>sqft_basement</th>\n",
       "      <th>yr_built</th>\n",
       "      <th>yr_renovated</th>\n",
       "      <th>zipcode</th>\n",
       "      <th>lat</th>\n",
       "      <th>long</th>\n",
       "      <th>sqft_living15</th>\n",
       "      <th>sqft_lot15</th>\n",
       "    </tr>\n",
       "  </thead>\n",
       "  <tbody>\n",
       "    <tr>\n",
       "      <th>0</th>\n",
       "      <td>0</td>\n",
       "      <td>20141013T000000</td>\n",
       "      <td>221900.0</td>\n",
       "      <td>3</td>\n",
       "      <td>1.00</td>\n",
       "      <td>1180</td>\n",
       "      <td>5650</td>\n",
       "      <td>1.0</td>\n",
       "      <td>0</td>\n",
       "      <td>0</td>\n",
       "      <td>...</td>\n",
       "      <td>7</td>\n",
       "      <td>1180</td>\n",
       "      <td>0</td>\n",
       "      <td>1955</td>\n",
       "      <td>0</td>\n",
       "      <td>98178</td>\n",
       "      <td>47.5112</td>\n",
       "      <td>-122.257</td>\n",
       "      <td>1340</td>\n",
       "      <td>5650</td>\n",
       "    </tr>\n",
       "    <tr>\n",
       "      <th>1</th>\n",
       "      <td>1</td>\n",
       "      <td>20150225T000000</td>\n",
       "      <td>180000.0</td>\n",
       "      <td>2</td>\n",
       "      <td>1.00</td>\n",
       "      <td>770</td>\n",
       "      <td>10000</td>\n",
       "      <td>1.0</td>\n",
       "      <td>0</td>\n",
       "      <td>0</td>\n",
       "      <td>...</td>\n",
       "      <td>6</td>\n",
       "      <td>770</td>\n",
       "      <td>0</td>\n",
       "      <td>1933</td>\n",
       "      <td>0</td>\n",
       "      <td>98028</td>\n",
       "      <td>47.7379</td>\n",
       "      <td>-122.233</td>\n",
       "      <td>2720</td>\n",
       "      <td>8062</td>\n",
       "    </tr>\n",
       "    <tr>\n",
       "      <th>2</th>\n",
       "      <td>2</td>\n",
       "      <td>20150218T000000</td>\n",
       "      <td>510000.0</td>\n",
       "      <td>3</td>\n",
       "      <td>2.00</td>\n",
       "      <td>1680</td>\n",
       "      <td>8080</td>\n",
       "      <td>1.0</td>\n",
       "      <td>0</td>\n",
       "      <td>0</td>\n",
       "      <td>...</td>\n",
       "      <td>8</td>\n",
       "      <td>1680</td>\n",
       "      <td>0</td>\n",
       "      <td>1987</td>\n",
       "      <td>0</td>\n",
       "      <td>98074</td>\n",
       "      <td>47.6168</td>\n",
       "      <td>-122.045</td>\n",
       "      <td>1800</td>\n",
       "      <td>7503</td>\n",
       "    </tr>\n",
       "    <tr>\n",
       "      <th>3</th>\n",
       "      <td>3</td>\n",
       "      <td>20140627T000000</td>\n",
       "      <td>257500.0</td>\n",
       "      <td>3</td>\n",
       "      <td>2.25</td>\n",
       "      <td>1715</td>\n",
       "      <td>6819</td>\n",
       "      <td>2.0</td>\n",
       "      <td>0</td>\n",
       "      <td>0</td>\n",
       "      <td>...</td>\n",
       "      <td>7</td>\n",
       "      <td>1715</td>\n",
       "      <td>0</td>\n",
       "      <td>1995</td>\n",
       "      <td>0</td>\n",
       "      <td>98003</td>\n",
       "      <td>47.3097</td>\n",
       "      <td>-122.327</td>\n",
       "      <td>2238</td>\n",
       "      <td>6819</td>\n",
       "    </tr>\n",
       "    <tr>\n",
       "      <th>4</th>\n",
       "      <td>4</td>\n",
       "      <td>20150115T000000</td>\n",
       "      <td>291850.0</td>\n",
       "      <td>3</td>\n",
       "      <td>1.50</td>\n",
       "      <td>1060</td>\n",
       "      <td>9711</td>\n",
       "      <td>1.0</td>\n",
       "      <td>0</td>\n",
       "      <td>0</td>\n",
       "      <td>...</td>\n",
       "      <td>7</td>\n",
       "      <td>1060</td>\n",
       "      <td>0</td>\n",
       "      <td>1963</td>\n",
       "      <td>0</td>\n",
       "      <td>98198</td>\n",
       "      <td>47.4095</td>\n",
       "      <td>-122.315</td>\n",
       "      <td>1650</td>\n",
       "      <td>9711</td>\n",
       "    </tr>\n",
       "  </tbody>\n",
       "</table>\n",
       "<p>5 rows × 21 columns</p>\n",
       "</div>"
      ],
      "text/plain": [
       "   id             date     price  bedrooms  bathrooms  sqft_living  sqft_lot  \\\n",
       "0   0  20141013T000000  221900.0         3       1.00         1180      5650   \n",
       "1   1  20150225T000000  180000.0         2       1.00          770     10000   \n",
       "2   2  20150218T000000  510000.0         3       2.00         1680      8080   \n",
       "3   3  20140627T000000  257500.0         3       2.25         1715      6819   \n",
       "4   4  20150115T000000  291850.0         3       1.50         1060      9711   \n",
       "\n",
       "   floors  waterfront  view     ...      grade  sqft_above  sqft_basement  \\\n",
       "0     1.0           0     0     ...          7        1180              0   \n",
       "1     1.0           0     0     ...          6         770              0   \n",
       "2     1.0           0     0     ...          8        1680              0   \n",
       "3     2.0           0     0     ...          7        1715              0   \n",
       "4     1.0           0     0     ...          7        1060              0   \n",
       "\n",
       "   yr_built  yr_renovated  zipcode      lat     long  sqft_living15  \\\n",
       "0      1955             0    98178  47.5112 -122.257           1340   \n",
       "1      1933             0    98028  47.7379 -122.233           2720   \n",
       "2      1987             0    98074  47.6168 -122.045           1800   \n",
       "3      1995             0    98003  47.3097 -122.327           2238   \n",
       "4      1963             0    98198  47.4095 -122.315           1650   \n",
       "\n",
       "   sqft_lot15  \n",
       "0        5650  \n",
       "1        8062  \n",
       "2        7503  \n",
       "3        6819  \n",
       "4        9711  \n",
       "\n",
       "[5 rows x 21 columns]"
      ]
     },
     "execution_count": 542,
     "metadata": {},
     "output_type": "execute_result"
    }
   ],
   "source": [
    "train_set.head(5)"
   ]
  },
  {
   "cell_type": "code",
   "execution_count": 543,
   "metadata": {
    "collapsed": false
   },
   "outputs": [
    {
     "data": {
      "text/html": [
       "<div>\n",
       "<table border=\"1\" class=\"dataframe\">\n",
       "  <thead>\n",
       "    <tr style=\"text-align: right;\">\n",
       "      <th></th>\n",
       "      <th>id</th>\n",
       "      <th>date</th>\n",
       "      <th>bedrooms</th>\n",
       "      <th>bathrooms</th>\n",
       "      <th>sqft_living</th>\n",
       "      <th>sqft_lot</th>\n",
       "      <th>floors</th>\n",
       "      <th>waterfront</th>\n",
       "      <th>view</th>\n",
       "      <th>condition</th>\n",
       "      <th>grade</th>\n",
       "      <th>sqft_above</th>\n",
       "      <th>sqft_basement</th>\n",
       "      <th>yr_built</th>\n",
       "      <th>yr_renovated</th>\n",
       "      <th>zipcode</th>\n",
       "      <th>lat</th>\n",
       "      <th>long</th>\n",
       "      <th>sqft_living15</th>\n",
       "      <th>sqft_lot15</th>\n",
       "    </tr>\n",
       "  </thead>\n",
       "  <tbody>\n",
       "    <tr>\n",
       "      <th>0</th>\n",
       "      <td>15035</td>\n",
       "      <td>20141209T000000</td>\n",
       "      <td>3</td>\n",
       "      <td>2.25</td>\n",
       "      <td>2570</td>\n",
       "      <td>7242</td>\n",
       "      <td>2.0</td>\n",
       "      <td>0</td>\n",
       "      <td>0</td>\n",
       "      <td>3</td>\n",
       "      <td>7</td>\n",
       "      <td>2170</td>\n",
       "      <td>400</td>\n",
       "      <td>1951</td>\n",
       "      <td>1991</td>\n",
       "      <td>98125</td>\n",
       "      <td>47.7210</td>\n",
       "      <td>-122.319</td>\n",
       "      <td>1690</td>\n",
       "      <td>7639</td>\n",
       "    </tr>\n",
       "    <tr>\n",
       "      <th>1</th>\n",
       "      <td>15036</td>\n",
       "      <td>20141209T000000</td>\n",
       "      <td>4</td>\n",
       "      <td>3.00</td>\n",
       "      <td>1960</td>\n",
       "      <td>5000</td>\n",
       "      <td>1.0</td>\n",
       "      <td>0</td>\n",
       "      <td>0</td>\n",
       "      <td>5</td>\n",
       "      <td>7</td>\n",
       "      <td>1050</td>\n",
       "      <td>910</td>\n",
       "      <td>1965</td>\n",
       "      <td>0</td>\n",
       "      <td>98136</td>\n",
       "      <td>47.5208</td>\n",
       "      <td>-122.393</td>\n",
       "      <td>1360</td>\n",
       "      <td>5000</td>\n",
       "    </tr>\n",
       "    <tr>\n",
       "      <th>2</th>\n",
       "      <td>15037</td>\n",
       "      <td>20140512T000000</td>\n",
       "      <td>4</td>\n",
       "      <td>4.50</td>\n",
       "      <td>5420</td>\n",
       "      <td>101930</td>\n",
       "      <td>1.0</td>\n",
       "      <td>0</td>\n",
       "      <td>0</td>\n",
       "      <td>3</td>\n",
       "      <td>11</td>\n",
       "      <td>3890</td>\n",
       "      <td>1530</td>\n",
       "      <td>2001</td>\n",
       "      <td>0</td>\n",
       "      <td>98053</td>\n",
       "      <td>47.6561</td>\n",
       "      <td>-122.005</td>\n",
       "      <td>4760</td>\n",
       "      <td>101930</td>\n",
       "    </tr>\n",
       "    <tr>\n",
       "      <th>3</th>\n",
       "      <td>15038</td>\n",
       "      <td>20150415T000000</td>\n",
       "      <td>3</td>\n",
       "      <td>1.00</td>\n",
       "      <td>1780</td>\n",
       "      <td>7470</td>\n",
       "      <td>1.0</td>\n",
       "      <td>0</td>\n",
       "      <td>0</td>\n",
       "      <td>3</td>\n",
       "      <td>7</td>\n",
       "      <td>1050</td>\n",
       "      <td>730</td>\n",
       "      <td>1960</td>\n",
       "      <td>0</td>\n",
       "      <td>98146</td>\n",
       "      <td>47.5123</td>\n",
       "      <td>-122.337</td>\n",
       "      <td>1780</td>\n",
       "      <td>8113</td>\n",
       "    </tr>\n",
       "    <tr>\n",
       "      <th>4</th>\n",
       "      <td>15039</td>\n",
       "      <td>20150312T000000</td>\n",
       "      <td>3</td>\n",
       "      <td>2.50</td>\n",
       "      <td>1890</td>\n",
       "      <td>6560</td>\n",
       "      <td>2.0</td>\n",
       "      <td>0</td>\n",
       "      <td>0</td>\n",
       "      <td>3</td>\n",
       "      <td>7</td>\n",
       "      <td>1890</td>\n",
       "      <td>0</td>\n",
       "      <td>2003</td>\n",
       "      <td>0</td>\n",
       "      <td>98038</td>\n",
       "      <td>47.3684</td>\n",
       "      <td>-122.031</td>\n",
       "      <td>2390</td>\n",
       "      <td>7570</td>\n",
       "    </tr>\n",
       "  </tbody>\n",
       "</table>\n",
       "</div>"
      ],
      "text/plain": [
       "      id             date  bedrooms  bathrooms  sqft_living  sqft_lot  floors  \\\n",
       "0  15035  20141209T000000         3       2.25         2570      7242     2.0   \n",
       "1  15036  20141209T000000         4       3.00         1960      5000     1.0   \n",
       "2  15037  20140512T000000         4       4.50         5420    101930     1.0   \n",
       "3  15038  20150415T000000         3       1.00         1780      7470     1.0   \n",
       "4  15039  20150312T000000         3       2.50         1890      6560     2.0   \n",
       "\n",
       "   waterfront  view  condition  grade  sqft_above  sqft_basement  yr_built  \\\n",
       "0           0     0          3      7        2170            400      1951   \n",
       "1           0     0          5      7        1050            910      1965   \n",
       "2           0     0          3     11        3890           1530      2001   \n",
       "3           0     0          3      7        1050            730      1960   \n",
       "4           0     0          3      7        1890              0      2003   \n",
       "\n",
       "   yr_renovated  zipcode      lat     long  sqft_living15  sqft_lot15  \n",
       "0          1991    98125  47.7210 -122.319           1690        7639  \n",
       "1             0    98136  47.5208 -122.393           1360        5000  \n",
       "2             0    98053  47.6561 -122.005           4760      101930  \n",
       "3             0    98146  47.5123 -122.337           1780        8113  \n",
       "4             0    98038  47.3684 -122.031           2390        7570  "
      ]
     },
     "execution_count": 543,
     "metadata": {},
     "output_type": "execute_result"
    }
   ],
   "source": [
    "test_set.head(5)"
   ]
  },
  {
   "cell_type": "code",
   "execution_count": 544,
   "metadata": {
    "collapsed": false,
    "scrolled": true
   },
   "outputs": [
    {
     "name": "stdout",
     "output_type": "stream",
     "text": [
      "bathrooms           0\n",
      "bedrooms            0\n",
      "condition           0\n",
      "date                0\n",
      "floors              0\n",
      "grade               0\n",
      "id                  0\n",
      "lat                 0\n",
      "long                0\n",
      "price            6468\n",
      "sqft_above          0\n",
      "sqft_basement       0\n",
      "sqft_living         0\n",
      "sqft_living15       0\n",
      "sqft_lot            0\n",
      "sqft_lot15          0\n",
      "view                0\n",
      "waterfront          0\n",
      "yr_built            0\n",
      "yr_renovated        0\n",
      "zipcode             0\n",
      "dtype: int64 \n",
      " -----------data types------------\n",
      " bathrooms        float64\n",
      "bedrooms           int64\n",
      "condition          int64\n",
      "date              object\n",
      "floors           float64\n",
      "grade              int64\n",
      "id                 int64\n",
      "lat              float64\n",
      "long             float64\n",
      "price            float64\n",
      "sqft_above         int64\n",
      "sqft_basement      int64\n",
      "sqft_living        int64\n",
      "sqft_living15      int64\n",
      "sqft_lot           int64\n",
      "sqft_lot15         int64\n",
      "view               int64\n",
      "waterfront         int64\n",
      "yr_built           int64\n",
      "yr_renovated       int64\n",
      "zipcode            int64\n",
      "dtype: object\n"
     ]
    }
   ],
   "source": [
    "# check if there is any null values\n",
    "print(all_set.isnull().sum(), '\\n -----------data types------------\\n',all_set.dtypes)"
   ]
  },
  {
   "cell_type": "code",
   "execution_count": 545,
   "metadata": {
    "collapsed": false
   },
   "outputs": [
    {
     "data": {
      "text/plain": [
       "price            1.000000\n",
       "sqft_living      0.702899\n",
       "grade            0.667211\n",
       "sqft_above       0.608577\n",
       "sqft_living15    0.586419\n",
       "bathrooms        0.525479\n",
       "view             0.400806\n",
       "bedrooms         0.323672\n",
       "sqft_basement    0.322218\n",
       "lat              0.301604\n",
       "waterfront       0.265738\n",
       "floors           0.262588\n",
       "yr_renovated     0.140808\n",
       "sqft_lot         0.096793\n",
       "sqft_lot15       0.086384\n",
       "yr_built         0.047290\n",
       "condition        0.039740\n",
       "long             0.023547\n",
       "id               0.020899\n",
       "date             0.007717\n",
       "zipcode         -0.051498\n",
       "Name: price, dtype: float64"
      ]
     },
     "execution_count": 545,
     "metadata": {},
     "output_type": "execute_result"
    }
   ],
   "source": [
    "# slice date column to extract year and month\n",
    "all_set.date= all_set.date.str.slice(0, 6).astype('int')\n",
    "all_set[all_set['price']>0].corr(method='pearson')['price'].sort_values(ascending=False)"
   ]
  },
  {
   "cell_type": "code",
   "execution_count": 546,
   "metadata": {
    "collapsed": false
   },
   "outputs": [
    {
     "name": "stdout",
     "output_type": "stream",
     "text": [
      "mu:  540682.6531426671  std:  371524.6603903912\n"
     ]
    },
    {
     "data": {
      "image/png": "[encoded data removed]",
      "text/plain": [
       "<Figure size 432x288 with 1 Axes>"
      ]
     },
     "metadata": {},
     "output_type": "display_data"
    }
   ],
   "source": [
    "# Normalize target variable\n",
    "mu = train_set.price.mean()\n",
    "std = train_set.price.std()\n",
    "print('mu: ', mu, ' std: ',std)\n",
    "\n",
    "n, bins, patches = plt.hist(train_set.price, 40, density=1, facecolor='blue')\n",
    "\n",
    "y = scipy.stats.norm.pdf(bins, mu, std)\n",
    "plt.plot(bins, y, 'r-')\n",
    "plt.show()"
   ]
  },
  {
   "cell_type": "code",
   "execution_count": 547,
   "metadata": {
    "collapsed": false
   },
   "outputs": [
    {
     "data": {
      "image/png": "[encoded data removed]",
      "text/plain": [
       "<Figure size 432x288 with 1 Axes>"
      ]
     },
     "metadata": {},
     "output_type": "display_data"
    }
   ],
   "source": [
    "# normalize target variable\n",
    "price_log = np.log(train_set.price)\n",
    "price_log_mu = np.mean(price_log)\n",
    "price_log_std = np.std(price_log)\n",
    "\n",
    "n, bins, patches = plt.hist(price_log, 40, density=2, facecolor='blue')\n",
    "\n",
    "y= scipy.stats.norm.pdf(bins, price_log_mu, price_log_std)\n",
    "plt.plot(bins, y, 'r-')\n",
    "plt.show()\n"
   ]
  },
  {
   "cell_type": "code",
   "execution_count": 548,
   "metadata": {
    "collapsed": false
   },
   "outputs": [
    {
     "data": {
      "text/plain": [
       "price            1.000000\n",
       "grade            0.707412\n",
       "sqft_living      0.697907\n",
       "sqft_living15    0.621800\n",
       "sqft_above       0.607197\n",
       "bathrooms        0.552000\n",
       "lat              0.444417\n",
       "bedrooms         0.359946\n",
       "view             0.347505\n",
       "floors           0.317810\n",
       "sqft_basement    0.314378\n",
       "waterfront       0.172580\n",
       "yr_renovated     0.127533\n",
       "sqft_lot         0.108946\n",
       "sqft_lot15       0.096976\n",
       "yr_built         0.076294\n",
       "long             0.054362\n",
       "condition        0.042947\n",
       "id               0.035940\n",
       "zipcode         -0.039195\n",
       "Name: price, dtype: float64"
      ]
     },
     "execution_count": 548,
     "metadata": {},
     "output_type": "execute_result"
    }
   ],
   "source": [
    "# replacing train_set.price with log-transformed price\n",
    "original_price = train_set.price.copy()\n",
    "train_set.price = price_log\n",
    "train_set.corr(method='pearson').price.sort_values(ascending=False)"
   ]
  },
  {
   "cell_type": "code",
   "execution_count": 549,
   "metadata": {
    "collapsed": false
   },
   "outputs": [
    {
     "data": {
      "text/plain": [
       "0    13056\n",
       "1     8447\n",
       "Name: with_basement, dtype: int64"
      ]
     },
     "execution_count": 549,
     "metadata": {},
     "output_type": "execute_result"
    }
   ],
   "source": [
    "# sqft_living = sqft_above + sqft_basement\n",
    "# new feature 'with_basement'\n",
    "\n",
    "# 1: with basement, 0: no basement\n",
    "all_set['with_basement'] = np.select([all_set['sqft_basement'] > 0], [1], default=0)\n",
    "all_set['with_basement'].value_counts()"
   ]
  },
  {
   "cell_type": "code",
   "execution_count": 550,
   "metadata": {
    "collapsed": false
   },
   "outputs": [
    {
     "name": "stdout",
     "output_type": "stream",
     "text": [
      "1    12507\n",
      "2     8377\n",
      "3      619\n",
      "Name: floors, dtype: int64\n",
      "0    19439\n",
      "1     2064\n",
      "Name: with_garret, dtype: int64\n"
     ]
    },
    {
     "data": {
      "text/plain": [
       "bathrooms        float64\n",
       "bedrooms           int64\n",
       "condition          int64\n",
       "date               int32\n",
       "floors             int32\n",
       "grade              int64\n",
       "id                 int64\n",
       "lat              float64\n",
       "long             float64\n",
       "price            float64\n",
       "sqft_above         int64\n",
       "sqft_basement      int64\n",
       "sqft_living        int64\n",
       "sqft_living15      int64\n",
       "sqft_lot           int64\n",
       "sqft_lot15         int64\n",
       "view               int64\n",
       "waterfront         int64\n",
       "yr_built           int64\n",
       "yr_renovated       int64\n",
       "zipcode            int64\n",
       "with_basement      int32\n",
       "with_garret        int32\n",
       "dtype: object"
      ]
     },
     "execution_count": 550,
     "metadata": {},
     "output_type": "execute_result"
    }
   ],
   "source": [
    "# add feature with_garret\n",
    "# 1: with garret, 0: no garret\n",
    "all_set['with_garret'] = np.select([all_set.floors.astype('str').str.slice(2,3) == '5'], [1], default = 0)\n",
    "all_set['floors'] = all_set['floors'].astype('str').str.slice(0,1).astype('int')\n",
    "print(all_set.floors.value_counts())\n",
    "print(all_set.with_garret.value_counts())\n",
    "all_set.dtypes"
   ]
  },
  {
   "cell_type": "code",
   "execution_count": 551,
   "metadata": {
    "collapsed": false
   },
   "outputs": [],
   "source": [
    "# drop sqft_above and sqft_basement\n",
    "all_set.drop(['sqft_above', 'sqft_basement'], axis=1, inplace=True)"
   ]
  },
  {
   "cell_type": "code",
   "execution_count": 552,
   "metadata": {
    "collapsed": false
   },
   "outputs": [
    {
     "name": "stdout",
     "output_type": "stream",
     "text": [
      "        bathrooms  bedrooms  condition  floors  grade    id   lat  long  \\\n",
      "date                                                                      \n",
      "201405       1768      1768       1768    1768   1768  1768  1768  1768   \n",
      "201406       2180      2180       2180    2180   2180  2180  2180  2180   \n",
      "201407       2211      2211       2211    2211   2211  2211  2211  2211   \n",
      "201408       1937      1937       1937    1937   1937  1937  1937  1937   \n",
      "201409       1774      1774       1774    1774   1774  1774  1774  1774   \n",
      "201410       1873      1873       1873    1873   1873  1873  1873  1873   \n",
      "201411       1408      1408       1408    1408   1408  1408  1408  1408   \n",
      "201412       1459      1459       1459    1459   1459  1459  1459  1459   \n",
      "201501        969       969        969     969    969   969   969   969   \n",
      "201502       1234      1234       1234    1234   1234  1234  1234  1234   \n",
      "201503       1851      1851       1851    1851   1851  1851  1851  1851   \n",
      "201504       2204      2204       2204    2204   2204  2204  2204  2204   \n",
      "201505        635       635        635     635    635   635   635   635   \n",
      "\n",
      "        price  sqft_living  sqft_living15  sqft_lot  sqft_lot15  view  \\\n",
      "date                                                                    \n",
      "201405   1252         1768           1768      1768        1768  1768   \n",
      "201406   1500         2180           2180      2180        2180  2180   \n",
      "201407   1582         2211           2211      2211        2211  2211   \n",
      "201408   1361         1937           1937      1937        1937  1937   \n",
      "201409   1227         1774           1774      1774        1774  1774   \n",
      "201410   1322         1873           1873      1873        1873  1873   \n",
      "201411    981         1408           1408      1408        1408  1408   \n",
      "201412   1004         1459           1459      1459        1459  1459   \n",
      "201501    691          969            969       969         969   969   \n",
      "201502    842         1234           1234      1234        1234  1234   \n",
      "201503   1300         1851           1851      1851        1851  1851   \n",
      "201504   1525         2204           2204      2204        2204  2204   \n",
      "201505    448          635            635       635         635   635   \n",
      "\n",
      "        waterfront  yr_built  yr_renovated  zipcode  with_basement  \\\n",
      "date                                                                 \n",
      "201405        1768      1768          1768     1768           1768   \n",
      "201406        2180      2180          2180     2180           2180   \n",
      "201407        2211      2211          2211     2211           2211   \n",
      "201408        1937      1937          1937     1937           1937   \n",
      "201409        1774      1774          1774     1774           1774   \n",
      "201410        1873      1873          1873     1873           1873   \n",
      "201411        1408      1408          1408     1408           1408   \n",
      "201412        1459      1459          1459     1459           1459   \n",
      "201501         969       969           969      969            969   \n",
      "201502        1234      1234          1234     1234           1234   \n",
      "201503        1851      1851          1851     1851           1851   \n",
      "201504        2204      2204          2204     2204           2204   \n",
      "201505         635       635           635      635            635   \n",
      "\n",
      "        with_garret  \n",
      "date                 \n",
      "201405         1768  \n",
      "201406         2180  \n",
      "201407         2211  \n",
      "201408         1937  \n",
      "201409         1774  \n",
      "201410         1873  \n",
      "201411         1408  \n",
      "201412         1459  \n",
      "201501          969  \n",
      "201502         1234  \n",
      "201503         1851  \n",
      "201504         2204  \n",
      "201505          635  \n"
     ]
    },
    {
     "data": {
      "text/plain": [
       "6    4690\n",
       "2    4148\n",
       "1    3948\n",
       "3    3647\n",
       "4    2867\n",
       "5    2203\n",
       "Name: date_label, dtype: int64"
      ]
     },
     "execution_count": 552,
     "metadata": {},
     "output_type": "execute_result"
    }
   ],
   "source": [
    "# Divide date into 5 groups\n",
    "print(all_set.groupby('date').agg('count'))\n",
    "\n",
    "conditions = [all_set['date'] <=201406,\n",
    "             (all_set['date'] > 201406) & (all_set['date'] <= 201408),\n",
    "             (all_set['date'] > 201408) & (all_set['date'] <= 201410),\n",
    "             (all_set['date'] > 201410) & (all_set['date'] <= 201412),\n",
    "             (all_set['date'] > 201412) & (all_set['date'] <= 201502)]\n",
    "choices = [1, 2, 3, 4, 5]\n",
    "\n",
    "all_set['date_label'] = np.select(conditions, choices, default = 6)\n",
    "all_set.drop('date', axis=1, inplace=True)\n",
    "all_set.date_label.value_counts()"
   ]
  },
  {
   "cell_type": "code",
   "execution_count": 553,
   "metadata": {
    "collapsed": false
   },
   "outputs": [
    {
     "data": {
      "text/plain": [
       "0    20590\n",
       "1      913\n",
       "Name: renovated, dtype: int64"
      ]
     },
     "execution_count": 553,
     "metadata": {},
     "output_type": "execute_result"
    }
   ],
   "source": [
    "# add feature (renovated)\n",
    "all_set['renovated'] = np.select([all_set['yr_renovated'] > 0], [1], default=0)\n",
    "all_set.drop('yr_renovated', axis=1, inplace=True)\n",
    "all_set['renovated'].value_counts()"
   ]
  },
  {
   "cell_type": "code",
   "execution_count": 554,
   "metadata": {
    "collapsed": false
   },
   "outputs": [
    {
     "data": {
      "text/plain": [
       "1    12352\n",
       "0     9151\n",
       "Name: living_greater, dtype: int64"
      ]
     },
     "execution_count": 554,
     "metadata": {},
     "output_type": "execute_result"
    }
   ],
   "source": [
    "# add feature (living_greater) after comparing sqft_living and sqft_living15\n",
    "all_set['living_greater'] = np.select([all_set['sqft_living'] >= all_set['sqft_living15']], [1], default=0)\n",
    "all_set.drop('sqft_living15', axis=1, inplace=True)\n",
    "all_set['living_greater'].value_counts()"
   ]
  },
  {
   "cell_type": "code",
   "execution_count": 555,
   "metadata": {
    "collapsed": false
   },
   "outputs": [
    {
     "data": {
      "text/plain": [
       "1    13006\n",
       "0     8497\n",
       "Name: lot_greater, dtype: int64"
      ]
     },
     "execution_count": 555,
     "metadata": {},
     "output_type": "execute_result"
    }
   ],
   "source": [
    "# add feature (lot_greater) after comparing sqft_lot and sqft_lot15\n",
    "all_set['lot_greater'] = np.select([all_set['sqft_lot'] >= all_set['sqft_lot15']], [1], default=0)\n",
    "all_set.drop('sqft_lot15', axis=1, inplace=True)\n",
    "all_set['lot_greater'].value_counts()"
   ]
  },
  {
   "cell_type": "markdown",
   "metadata": {},
   "source": [
    "Dropped columns from all_set: sqft_above, sqft_basement, date, yr_renovated, sqft_living15, sqft_lot15"
   ]
  },
  {
   "cell_type": "code",
   "execution_count": 556,
   "metadata": {
    "collapsed": false
   },
   "outputs": [
    {
     "name": "stdout",
     "output_type": "stream",
     "text": [
      "Train set: (15035, 21) \n",
      " Test set: (6468, 21)\n"
     ]
    }
   ],
   "source": [
    "# Train set and Test set\n",
    "train_set = all_set.iloc[:len(train_set),:]\n",
    "test_set = all_set.iloc[len(train_set):, :]\n",
    "\n",
    "print(\"Train set:\", train_set.shape, \"\\n Test set:\", test_set.shape)"
   ]
  },
  {
   "cell_type": "code",
   "execution_count": 557,
   "metadata": {
    "collapsed": false
   },
   "outputs": [
    {
     "name": "stdout",
     "output_type": "stream",
     "text": [
      "      VIF_Factor        features\n",
      "14  1.670991e+06         zipcode\n",
      "7   1.343161e+06            long\n",
      "6   1.591878e+05             lat\n",
      "13  1.225763e+04        yr_built\n",
      "4   1.483076e+02           grade\n",
      "2   3.556870e+01       condition\n",
      "9   3.464024e+01     sqft_living\n",
      "0   2.968161e+01       bathrooms\n",
      "1   2.641032e+01        bedrooms\n",
      "3   1.658654e+01          floors\n",
      "8   1.056425e+01           price\n",
      "17  4.669392e+00      date_label\n",
      "5   4.249920e+00              id\n",
      "19  3.308396e+00  living_greater\n",
      "20  2.636789e+00     lot_greater\n",
      "15  2.331704e+00   with_basement\n",
      "11  1.537522e+00            view\n",
      "16  1.370129e+00     with_garret\n",
      "12  1.256810e+00      waterfront\n",
      "10  1.245861e+00        sqft_lot\n",
      "18  1.205241e+00       renovated\n"
     ]
    }
   ],
   "source": [
    "# VIF\n",
    "from statsmodels.stats.outliers_influence import variance_inflation_factor\n",
    "vif = pd.DataFrame()\n",
    "vif['VIF_Factor'] = [variance_inflation_factor(train_set.values, i) for i in range(train_set.shape[1])]\n",
    "vif['features'] = train_set.columns\n",
    "\n",
    "print(vif.sort_values(by='VIF_Factor', ascending=False))"
   ]
  },
  {
   "cell_type": "code",
   "execution_count": 558,
   "metadata": {
    "collapsed": false
   },
   "outputs": [
    {
     "name": "stdout",
     "output_type": "stream",
     "text": [
      "Train set:  (15035, 17) \n",
      " Test set:  (6468, 17)\n"
     ]
    },
    {
     "name": "stderr",
     "output_type": "stream",
     "text": [
      "C:\\Users\\donny\\Anaconda3\\lib\\site-packages\\ipykernel\\__main__.py:2: SettingWithCopyWarning: \n",
      "A value is trying to be set on a copy of a slice from a DataFrame\n",
      "\n",
      "See the caveats in the documentation: http://pandas.pydata.org/pandas-docs/stable/indexing.html#indexing-view-versus-copy\n",
      "  from ipykernel import kernelapp as app\n",
      "C:\\Users\\donny\\Anaconda3\\lib\\site-packages\\ipykernel\\__main__.py:3: SettingWithCopyWarning: \n",
      "A value is trying to be set on a copy of a slice from a DataFrame\n",
      "\n",
      "See the caveats in the documentation: http://pandas.pydata.org/pandas-docs/stable/indexing.html#indexing-view-versus-copy\n",
      "  app.launch_new_instance()\n"
     ]
    }
   ],
   "source": [
    "# #Based on VIF, drop zipcode, long, lat\n",
    "train_set.drop(['zipcode','long','lat','yr_built'], axis=1, inplace=True)\n",
    "test_set.drop(['zipcode','long','lat','yr_built'], axis=1, inplace=True)\n",
    "print('Train set: ', train_set.shape, '\\n Test set: ', test_set.shape)"
   ]
  },
  {
   "cell_type": "code",
   "execution_count": 559,
   "metadata": {
    "collapsed": false
   },
   "outputs": [],
   "source": [
    "y_train = train_set.price\n",
    "test_id = test_set.id\n",
    "x_train = train_set.drop(['id', 'price'], axis=1).copy()\n",
    "x_test = test_set.drop(['id','price'], axis=1).copy()"
   ]
  },
  {
   "cell_type": "code",
   "execution_count": 560,
   "metadata": {
    "collapsed": false
   },
   "outputs": [
    {
     "name": "stdout",
     "output_type": "stream",
     "text": [
      "       bathrooms  bedrooms  condition    floors     grade  sqft_living  \\\n",
      "0      -1.452865 -0.408931  -0.629020 -0.816745 -0.560048    -0.980140   \n",
      "1      -1.452865 -1.516730  -0.629020 -0.816745 -1.407676    -1.424775   \n",
      "2      -0.149923 -0.408931  -0.629020 -0.816745  0.287579    -0.437901   \n",
      "3       0.175813 -0.408931  -0.629020  0.998446 -0.560048    -0.399945   \n",
      "4      -0.801394 -0.408931  -0.629020 -0.816745 -0.560048    -1.110277   \n",
      "5       0.501548 -0.408931  -0.629020 -0.816745  0.287579     1.600916   \n",
      "6      -1.452865 -1.516730   0.917810 -0.816745 -0.560048    -1.001829   \n",
      "7      -1.452865 -0.408931   0.917810 -0.816745 -0.560048    -0.709020   \n",
      "8      -0.475658 -0.408931   0.917810 -0.816745 -0.560048    -0.774089   \n",
      "9      -0.149923  1.806667  -0.629020 -0.816745 -0.560048    -0.296919   \n",
      "10      1.153020  0.698868  -0.629020  0.998446  1.135206     0.939385   \n",
      "11     -0.149923 -0.408931  -0.629020  0.998446 -0.560048    -0.210161   \n",
      "12     -1.452865  0.698868   0.917810 -0.816745 -0.560048    -0.524659   \n",
      "13     -1.452865 -1.516730   0.917810 -0.816745 -0.560048    -0.958450   \n",
      "14     -1.452865 -0.408931   0.917810 -0.816745 -0.560048    -0.904226   \n",
      "15     -0.475658  0.698868   0.917810 -0.816745 -0.560048    -0.502970   \n",
      "16      0.827284 -0.408931  -0.629020 -0.816745  1.135206     1.047832   \n",
      "17     -0.801394 -1.516730  -0.629020 -0.816745 -0.560048    -1.099432   \n",
      "18      0.175813 -0.408931   0.917810  0.998446  0.287579     0.397146   \n",
      "19     -0.149923 -0.408931   2.464641 -0.816745 -1.407676    -0.405367   \n",
      "20     -0.475658 -0.408931  -0.629020  0.998446  0.287579     0.397146   \n",
      "21     -1.452865 -0.408931   2.464641 -0.816745  0.287579    -0.741555   \n",
      "22      0.501548 -0.408931  -0.629020  0.998446  0.287579     0.256164   \n",
      "23     -0.475658  0.698868   0.917810 -0.816745 -0.560048     0.267009   \n",
      "24     -1.452865 -0.408931   0.917810 -0.816745  0.287579    -1.077743   \n",
      "25      0.827284  0.698868  -0.629020 -0.816745 -0.560048    -0.025800   \n",
      "26      0.501548 -0.408931  -0.629020 -0.816745  0.287579     0.234475   \n",
      "27     -0.149923  0.698868   0.917810  0.998446  0.287579     0.299543   \n",
      "28     -1.452865  0.698868  -2.175851 -0.816745 -0.560048    -0.936761   \n",
      "29      0.501548  0.698868  -0.629020  0.998446  0.287579     0.581507   \n",
      "...          ...       ...        ...       ...       ...          ...   \n",
      "15005   0.501548 -0.408931  -0.629020 -0.816745 -0.560048    -0.687331   \n",
      "15006   1.804491  0.698868  -0.629020  0.998446  0.287579     0.830937   \n",
      "15007   1.804491  0.698868  -0.629020  0.998446  1.982833     1.069522   \n",
      "15008   1.153020 -0.408931  -0.629020  2.813637  0.287579    -0.437901   \n",
      "15009   0.501548 -0.408931  -0.629020  0.998446  0.287579     1.087958   \n",
      "15010   1.478755  0.698868  -0.629020  0.998446  1.135206    -0.199316   \n",
      "15011  -0.801394 -1.516730  -0.629020  0.998446 -0.560048    -1.240414   \n",
      "15012   1.478755 -0.408931  -0.629020  0.998446  1.135206    -0.383677   \n",
      "15013   1.153020 -0.408931  -0.629020  0.998446  1.135206     0.755024   \n",
      "15014   0.175813 -0.408931  -0.629020  0.998446  0.287579    -0.633107   \n",
      "15015  -1.452865 -1.516730   0.917810  0.998446 -0.560048    -1.489844   \n",
      "15016   0.501548 -0.408931  -0.629020  0.998446 -0.560048    -0.231851   \n",
      "15017   0.501548 -1.516730  -0.629020  2.813637  0.287579    -0.709020   \n",
      "15018   0.501548 -0.408931  -0.629020  2.813637  0.287579    -0.611418   \n",
      "15019  -0.801394 -1.516730  -0.629020  0.998446  0.287579    -0.947605   \n",
      "15020   0.501548 -0.408931  -0.629020  0.998446  0.287579     0.494749   \n",
      "15021   1.804491  0.698868  -0.629020 -0.816745  2.830460     3.064960   \n",
      "15022   2.130226  1.806667  -0.629020  0.998446  1.982833     2.262447   \n",
      "15023   0.827284  0.698868  -0.629020  0.998446  0.287579     0.451370   \n",
      "15024   0.827284  1.806667  -0.629020  0.998446  1.135206     1.644295   \n",
      "15025   1.478755  0.698868  -0.629020  0.998446  1.982833     1.438244   \n",
      "15026   1.153020  0.698868  -0.629020  0.998446  1.135206     2.067241   \n",
      "15027   2.130226  1.806667  -0.629020  0.998446  2.830460     2.587790   \n",
      "15028   0.501548 -0.408931  -0.629020  2.813637  0.287579    -0.714443   \n",
      "15029   0.501548 -0.408931  -0.629020  0.998446  0.287579     0.201940   \n",
      "15030   0.501548  0.698868  -0.629020  0.998446  1.135206     0.473059   \n",
      "15031   1.804491  0.698868  -0.629020  0.998446  1.135206     1.546692   \n",
      "15032   0.501548 -0.408931  -0.629020  2.813637  0.287579    -0.600573   \n",
      "15033   0.501548  0.698868  -0.629020  0.998446  0.287579     0.245319   \n",
      "15034  -1.778601 -1.516730  -0.629020  0.998446 -0.560048    -1.153656   \n",
      "\n",
      "       sqft_lot      view  waterfront  with_basement  with_garret  date_label  \\\n",
      "0     -0.226394 -0.306875   -0.084662      -0.802762    -0.326330   -0.237170   \n",
      "1     -0.124309 -0.306875   -0.084662      -0.802762    -0.326330    0.873170   \n",
      "2     -0.169367 -0.306875   -0.084662      -0.802762    -0.326330    0.873170   \n",
      "3     -0.198960 -0.306875   -0.084662      -0.802762    -0.326330   -1.347511   \n",
      "4     -0.131091 -0.306875   -0.084662      -0.802762    -0.326330    0.873170   \n",
      "5     -0.129096 -0.306875   -0.084662       1.245699    -0.326330    1.428340   \n",
      "6     -0.218180 -0.306875   -0.084662       1.245699    -0.326330   -1.347511   \n",
      "7      0.108047 -0.306875   -0.084662      -0.802762     3.064386   -1.347511   \n",
      "8     -0.131818 -0.306875   -0.084662      -0.802762    -0.326330   -0.237170   \n",
      "9     -0.245168 -0.306875   -0.084662      -0.802762     3.064386    1.428340   \n",
      "10    -0.241648  3.623166   -0.084662       1.245699    -0.326330    0.873170   \n",
      "11    -0.029498 -0.306875   -0.084662      -0.802762    -0.326330   -0.792340   \n",
      "12    -0.258076 -0.306875   -0.084662      -0.802762     3.064386   -1.347511   \n",
      "13    -0.127829 -0.306875   -0.084662      -0.802762    -0.326330    0.318000   \n",
      "14    -0.129612 -0.306875   -0.084662      -0.802762    -0.326330    1.428340   \n",
      "15    -0.242117 -0.306875   -0.084662       1.245699    -0.326330   -1.347511   \n",
      "16     0.693946  4.933180   -0.084662       1.245699    -0.326330   -0.792340   \n",
      "17    -0.132687 -0.306875   -0.084662      -0.802762    -0.326330   -1.347511   \n",
      "18    -0.206446 -0.306875   -0.084662      -0.802762    -0.326330    0.318000   \n",
      "19    -0.248759 -0.306875   -0.084662      -0.802762     3.064386    0.318000   \n",
      "20    -0.295835 -0.306875   -0.084662       1.245699    -0.326330   -1.347511   \n",
      "21    -0.321885 -0.306875   -0.084662      -0.802762     3.064386    0.318000   \n",
      "22    -0.265585 -0.306875   -0.084662      -0.802762    -0.326330    0.318000   \n",
      "23    -0.241648 -0.306875   -0.084662       1.245699     3.064386   -1.347511   \n",
      "24    -0.288584 -0.306875   -0.084662      -0.802762     3.064386    0.318000   \n",
      "25    -0.202715 -0.306875   -0.084662       1.245699    -0.326330    0.318000   \n",
      "26    -0.287176 -0.306875   -0.084662       1.245699     3.064386   -1.347511   \n",
      "27    -0.218180 -0.306875   -0.084662      -0.802762    -0.326330    0.318000   \n",
      "28    -0.169484 -0.306875   -0.084662       1.245699    -0.326330    0.873170   \n",
      "29    -0.181735 -0.306875   -0.084662      -0.802762    -0.326330   -1.347511   \n",
      "...         ...       ...         ...            ...          ...         ...   \n",
      "15005 -0.241460 -0.306875   -0.084662       1.245699    -0.326330   -1.347511   \n",
      "15006 -0.228107 -0.306875   -0.084662       1.245699    -0.326330    1.428340   \n",
      "15007 -0.249064 -0.306875   -0.084662       1.245699    -0.326330   -1.347511   \n",
      "15008 -0.322143 -0.306875   -0.084662      -0.802762    -0.326330   -1.347511   \n",
      "15009 -0.241601 -0.306875   -0.084662      -0.802762    -0.326330    0.318000   \n",
      "15010 -0.297244 -0.306875   -0.084662       1.245699    -0.326330    0.873170   \n",
      "15011 -0.317496 -0.306875   -0.084662      -0.802762    -0.326330   -1.347511   \n",
      "15012 -0.330146  2.313152   -0.084662       1.245699    -0.326330   -1.347511   \n",
      "15013 -0.218180 -0.306875   -0.084662      -0.802762    -0.326330   -0.237170   \n",
      "15014 -0.328714 -0.306875   -0.084662       1.245699    -0.326330    0.318000   \n",
      "15015 -0.331835 -0.306875   -0.084662      -0.802762    -0.326330   -1.347511   \n",
      "15016 -0.241648 -0.306875   -0.084662      -0.802762    -0.326330   -0.792340   \n",
      "15017 -0.330803 -0.306875   -0.084662      -0.802762    -0.326330   -0.237170   \n",
      "15018 -0.324067 -0.306875   -0.084662      -0.802762    -0.326330    1.428340   \n",
      "15019 -0.328996 -0.306875   -0.084662       1.245699    -0.326330    0.318000   \n",
      "15020 -0.247280 -0.306875   -0.084662      -0.802762    -0.326330   -0.237170   \n",
      "15021 -0.137357 -0.306875   -0.084662       1.245699     3.064386   -1.347511   \n",
      "15022 -0.167912  2.313152   -0.084662      -0.802762    -0.326330    1.428340   \n",
      "15023 -0.218298 -0.306875   -0.084662      -0.802762    -0.326330   -0.237170   \n",
      "15024 -0.137521 -0.306875   -0.084662      -0.802762    -0.326330   -0.792340   \n",
      "15025 -0.121375 -0.306875   -0.084662      -0.802762    -0.326330    1.428340   \n",
      "15026 -0.175046 -0.306875   -0.084662      -0.802762    -0.326330   -0.237170   \n",
      "15027 -0.169179 -0.306875   -0.084662      -0.802762    -0.326330   -0.237170   \n",
      "15028 -0.331319 -0.306875   -0.084662      -0.802762    -0.326330    1.428340   \n",
      "15029 -0.229069 -0.306875   -0.084662      -0.802762    -0.326330   -0.792340   \n",
      "15030 -0.217640 -0.306875   -0.084662      -0.802762    -0.326330   -0.237170   \n",
      "15031 -0.190019 -0.306875   -0.084662       1.245699    -0.326330    1.428340   \n",
      "15032 -0.332445 -0.306875   -0.084662      -0.802762    -0.326330   -1.347511   \n",
      "15033 -0.222569 -0.306875   -0.084662      -0.802762    -0.326330    0.873170   \n",
      "15034 -0.333736 -0.306875   -0.084662      -0.802762    -0.326330   -0.237170   \n",
      "\n",
      "       renovated  living_greater  lot_greater  \n",
      "0      -0.209302       -1.161559     0.805678  \n",
      "1      -0.209302       -1.161559     0.805678  \n",
      "2      -0.209302       -1.161559     0.805678  \n",
      "3      -0.209302       -1.161559     0.805678  \n",
      "4      -0.209302       -1.161559     0.805678  \n",
      "5      -0.209302        0.860912     0.805678  \n",
      "6      -0.209302       -1.161559     0.805678  \n",
      "7      -0.209302       -1.161559     0.805678  \n",
      "8      -0.209302        0.860912    -1.241191  \n",
      "9      -0.209302        0.860912     0.805678  \n",
      "10     -0.209302        0.860912     0.805678  \n",
      "11     -0.209302        0.860912     0.805678  \n",
      "12     -0.209302       -1.161559     0.805678  \n",
      "13     -0.209302        0.860912     0.805678  \n",
      "14     -0.209302       -1.161559     0.805678  \n",
      "15     -0.209302        0.860912     0.805678  \n",
      "16     -0.209302       -1.161559     0.805678  \n",
      "17     -0.209302       -1.161559     0.805678  \n",
      "18     -0.209302        0.860912    -1.241191  \n",
      "19     -0.209302        0.860912    -1.241191  \n",
      "20     -0.209302        0.860912    -1.241191  \n",
      "21     -0.209302       -1.161559    -1.241191  \n",
      "22     -0.209302       -1.161559     0.805678  \n",
      "23     -0.209302        0.860912     0.805678  \n",
      "24     -0.209302       -1.161559    -1.241191  \n",
      "25     -0.209302        0.860912    -1.241191  \n",
      "26      4.777788        0.860912    -1.241191  \n",
      "27     -0.209302        0.860912     0.805678  \n",
      "28     -0.209302       -1.161559     0.805678  \n",
      "29     -0.209302        0.860912    -1.241191  \n",
      "...          ...             ...          ...  \n",
      "15005  -0.209302       -1.161559    -1.241191  \n",
      "15006  -0.209302        0.860912    -1.241191  \n",
      "15007  -0.209302        0.860912     0.805678  \n",
      "15008  -0.209302        0.860912    -1.241191  \n",
      "15009  -0.209302        0.860912    -1.241191  \n",
      "15010  -0.209302        0.860912    -1.241191  \n",
      "15011  -0.209302       -1.161559     0.805678  \n",
      "15012  -0.209302        0.860912    -1.241191  \n",
      "15013  -0.209302       -1.161559     0.805678  \n",
      "15014  -0.209302        0.860912    -1.241191  \n",
      "15015  -0.209302       -1.161559    -1.241191  \n",
      "15016  -0.209302       -1.161559    -1.241191  \n",
      "15017  -0.209302        0.860912    -1.241191  \n",
      "15018  -0.209302        0.860912    -1.241191  \n",
      "15019  -0.209302        0.860912     0.805678  \n",
      "15020  -0.209302        0.860912     0.805678  \n",
      "15021  -0.209302        0.860912    -1.241191  \n",
      "15022  -0.209302        0.860912     0.805678  \n",
      "15023  -0.209302       -1.161559     0.805678  \n",
      "15024  -0.209302        0.860912     0.805678  \n",
      "15025  -0.209302        0.860912     0.805678  \n",
      "15026  -0.209302        0.860912     0.805678  \n",
      "15027  -0.209302        0.860912    -1.241191  \n",
      "15028  -0.209302        0.860912    -1.241191  \n",
      "15029  -0.209302        0.860912    -1.241191  \n",
      "15030  -0.209302        0.860912     0.805678  \n",
      "15031  -0.209302        0.860912     0.805678  \n",
      "15032  -0.209302        0.860912    -1.241191  \n",
      "15033  -0.209302        0.860912    -1.241191  \n",
      "15034  -0.209302        0.860912    -1.241191  \n",
      "\n",
      "[15035 rows x 15 columns]\n"
     ]
    }
   ],
   "source": [
    "from sklearn.preprocessing import StandardScaler\n",
    "sc_x = StandardScaler()\n",
    "x_train_df = pd.DataFrame(sc_x.fit_transform(x_train), columns=x_train.columns)\n",
    "print(x_train_df)\n"
   ]
  },
  {
   "cell_type": "code",
   "execution_count": 561,
   "metadata": {
    "collapsed": false
   },
   "outputs": [
    {
     "name": "stdout",
     "output_type": "stream",
     "text": [
      "      bathrooms  bedrooms  condition    floors     grade  sqft_living  \\\n",
      "0      0.175813 -0.408931  -0.629020  0.998446 -0.560048     0.527283   \n",
      "1      1.153020  0.698868   2.464641 -0.816745 -0.560048    -0.134248   \n",
      "2      3.107433  0.698868  -0.629020 -0.816745  2.830460     3.618043   \n",
      "3     -1.452865 -0.408931  -0.629020 -0.816745 -0.560048    -0.329454   \n",
      "4      0.501548 -0.408931  -0.629020  0.998446 -0.560048    -0.210161   \n",
      "5      0.501548  1.806667  -0.629020  0.998446  0.287579     0.201940   \n",
      "6     -0.475658 -0.408931  -0.629020 -0.816745 -0.560048    -0.611418   \n",
      "7      0.501548  0.698868  -0.629020  0.998446  0.287579     0.527283   \n",
      "8     -0.801394 -1.516730  -0.629020  2.813637 -0.560048    -0.969295   \n",
      "9     -1.452865  0.698868  -3.722682 -0.816745 -2.255303    -0.459591   \n",
      "10     0.501548  0.698868  -0.629020  0.998446  1.135206     0.527283   \n",
      "11    -1.452865 -0.408931   0.917810 -0.816745 -1.407676    -0.871692   \n",
      "12     0.501548 -0.408931  -0.629020  0.998446  0.287579     1.167125   \n",
      "13    -0.475658 -0.408931   0.917810 -0.816745 -0.560048    -0.904226   \n",
      "14     0.501548 -0.408931   2.464641 -0.816745  1.135206     0.725743   \n",
      "15    -1.452865 -0.408931  -0.629020 -0.816745 -0.560048    -0.969295   \n",
      "16     0.501548  1.806667   0.917810 -0.816745  0.287579     1.156280   \n",
      "17    -0.475658 -1.516730  -0.629020 -0.816745 -0.560048    -0.112558   \n",
      "18     0.175813  1.806667  -0.629020 -0.816745  0.287579     0.700800   \n",
      "19     1.153020  0.698868  -0.629020  0.998446  0.287579    -0.253540   \n",
      "20    -0.475658 -0.408931   2.464641  0.998446  0.287579     0.471975   \n",
      "21     0.827284 -0.408931   2.464641 -0.816745 -0.560048     0.744179   \n",
      "22     0.175813  1.806667  -0.629020 -0.816745  0.287579     1.210504   \n",
      "23     0.501548  0.698868  -0.629020  0.998446  0.287579     0.321233   \n",
      "24    -0.475658  0.698868  -0.629020 -0.816745 -0.560048    -0.351143   \n",
      "25    -1.452865 -0.408931  -0.629020 -0.816745 -0.560048    -1.131967   \n",
      "26    -1.452865 -1.516730  -0.629020 -0.816745 -0.560048    -0.069179   \n",
      "27     1.478755 -0.408931  -0.629020  0.998446  1.135206     0.744179   \n",
      "28     0.175813 -1.516730   0.917810  0.998446 -0.560048    -0.513815   \n",
      "29    -0.801394 -0.408931  -0.629020 -0.816745  0.287579    -0.546349   \n",
      "...         ...       ...        ...       ...       ...          ...   \n",
      "6438   0.501548 -0.408931  -0.629020  0.998446  0.287579    -0.622262   \n",
      "6439   1.804491 -0.408931  -0.629020  0.998446  1.982833     2.468497   \n",
      "6440   5.713318  1.806667  -0.629020  0.998446  3.678088     5.624325   \n",
      "6441  -0.149923 -1.516730  -0.629020  2.813637 -0.560048    -1.056053   \n",
      "6442   2.130226  0.698868  -0.629020  0.998446  2.830460     1.850345   \n",
      "6443   1.478755 -0.408931  -0.629020  2.813637  0.287579    -0.763244   \n",
      "6444   2.455962  0.698868  -0.629020  0.998446  1.982833     3.075804   \n",
      "6445   1.804491  1.806667  -0.629020  0.998446  1.982833     3.325234   \n",
      "6446   0.501548 -0.408931  -0.629020  2.813637  0.287579    -0.361988   \n",
      "6447  -0.475658 -0.408931  -0.629020  2.813637  0.287579    -0.470436   \n",
      "6448   0.501548  0.698868  -0.629020  0.998446 -0.560048     0.321233   \n",
      "6449   0.501548 -0.408931  -0.629020  0.998446  0.287579     1.026143   \n",
      "6450  -0.149923 -0.408931  -0.629020  0.998446 -0.560048    -0.893382   \n",
      "6451   0.501548 -0.408931  -0.629020  0.998446  0.287579    -0.730710   \n",
      "6452   0.501548 -0.408931  -0.629020  0.998446  0.287579     0.028424   \n",
      "6453   1.153020  0.698868  -0.629020  0.998446  0.287579    -0.448746   \n",
      "6454   0.501548 -1.516730  -0.629020  2.813637  0.287579    -1.197035   \n",
      "6455  -0.475658 -0.408931  -0.629020  0.998446  0.287579    -1.023519   \n",
      "6456   3.107433  1.806667  -0.629020  0.998446  1.982833     2.999891   \n",
      "6457   1.153020 -0.408931  -0.629020  0.998446  1.135206     0.755024   \n",
      "6458   0.501548 -0.408931  -0.629020  0.998446 -0.560048    -0.893382   \n",
      "6459   0.827284  0.698868  -0.629020  0.998446  0.287579     0.744179   \n",
      "6460   0.175813 -0.408931  -0.629020  2.813637  0.287579    -0.969295   \n",
      "6461   0.175813 -1.516730  -0.629020  2.813637  0.287579    -0.600573   \n",
      "6462   0.501548  0.698868  -0.629020  0.998446  1.135206     1.121577   \n",
      "6463  -0.475658 -0.408931  -0.629020 -0.816745 -1.407676    -0.633107   \n",
      "6464  -0.149923 -0.408931  -0.629020  2.813637  0.287579    -0.643952   \n",
      "6465   0.501548 -0.408931  -0.629020  0.998446  0.287579    -0.839158   \n",
      "6466  -1.778601 -1.516730  -0.629020  0.998446 -0.560048    -1.153656   \n",
      "6467   0.501548 -0.408931  -0.629020  0.998446  0.287579    -0.524659   \n",
      "\n",
      "      sqft_lot      view  waterfront  with_basement  with_garret  date_label  \\\n",
      "0    -0.189033 -0.306875   -0.084662       1.245699    -0.326330    0.318000   \n",
      "1    -0.241648 -0.306875   -0.084662       1.245699    -0.326330    0.318000   \n",
      "2     2.033095 -0.306875   -0.084662       1.245699    -0.326330   -1.347511   \n",
      "3    -0.183682 -0.306875   -0.084662       1.245699    -0.326330    1.428340   \n",
      "4    -0.205038 -0.306875   -0.084662      -0.802762    -0.326330    1.428340   \n",
      "5    -0.211140 -0.306875   -0.084662      -0.802762    -0.326330   -0.792340   \n",
      "6    -0.209262 -0.306875   -0.084662       1.245699    -0.326330   -1.347511   \n",
      "7    -0.190652 -0.306875   -0.084662      -0.802762    -0.326330    1.428340   \n",
      "8    -0.329301 -0.306875   -0.084662      -0.802762    -0.326330    0.318000   \n",
      "9     0.458822 -0.306875   -0.084662       1.245699    -0.326330   -1.347511   \n",
      "10   -0.229445 -0.306875   -0.084662      -0.802762    -0.326330   -0.792340   \n",
      "11   -0.132382 -0.306875   -0.084662       1.245699    -0.326330   -0.792340   \n",
      "12   -0.039754 -0.306875   -0.084662      -0.802762    -0.326330   -0.792340   \n",
      "13   -0.219049 -0.306875   -0.084662      -0.802762    -0.326330    1.428340   \n",
      "14    1.166543  2.313152   11.811605       1.245699    -0.326330    1.428340   \n",
      "15   -0.143106 -0.306875   -0.084662      -0.802762    -0.326330   -0.237170   \n",
      "16   -0.144632 -0.306875   -0.084662       1.245699    -0.326330    0.873170   \n",
      "17   -0.158337 -0.306875   -0.084662       1.245699    -0.326330    0.873170   \n",
      "18   -0.218180 -0.306875   -0.084662       1.245699     3.064386    1.428340   \n",
      "19   -0.124872 -0.306875   -0.084662      -0.802762    -0.326330    0.873170   \n",
      "20   -0.155052 -0.306875   -0.084662      -0.802762    -0.326330   -0.237170   \n",
      "21   -0.269598 -0.306875   -0.084662       1.245699     3.064386    0.318000   \n",
      "22    0.114078 -0.306875   -0.084662       1.245699    -0.326330   -1.347511   \n",
      "23   -0.241648 -0.306875   -0.084662      -0.802762    -0.326330   -0.792340   \n",
      "24   -0.187672 -0.306875   -0.084662       1.245699    -0.326330   -0.237170   \n",
      "25   -0.240240 -0.306875   -0.084662      -0.802762    -0.326330    1.428340   \n",
      "26   -0.201283 -0.306875   -0.084662       1.245699    -0.326330   -0.237170   \n",
      "27   -0.211656 -0.306875   -0.084662       1.245699    -0.326330   -1.347511   \n",
      "28   -0.311113 -0.306875   -0.084662      -0.802762    -0.326330   -1.347511   \n",
      "29   -0.241648 -0.306875   -0.084662       1.245699    -0.326330   -0.792340   \n",
      "...        ...       ...         ...            ...          ...         ...   \n",
      "6438 -0.321017 -0.306875   -0.084662       1.245699     3.064386   -0.792340   \n",
      "6439 -0.212548  3.623166   -0.084662       1.245699    -0.326330   -1.347511   \n",
      "6440  2.692238 -0.306875   -0.084662       1.245699    -0.326330   -1.347511   \n",
      "6441 -0.333290 -0.306875   -0.084662       1.245699    -0.326330    1.428340   \n",
      "6442 -0.152541 -0.306875   -0.084662       1.245699    -0.326330    0.873170   \n",
      "6443 -0.332680 -0.306875   -0.084662      -0.802762    -0.326330   -0.792340   \n",
      "6444  0.828981 -0.306875   -0.084662       1.245699    -0.326330   -0.792340   \n",
      "6445 -0.071975  2.313152   -0.084662       1.245699    -0.326330    0.318000   \n",
      "6446 -0.326578 -0.306875   -0.084662      -0.802762    -0.326330    0.873170   \n",
      "6447 -0.331295 -0.306875   -0.084662      -0.802762    -0.326330   -0.792340   \n",
      "6448 -0.224352 -0.306875   -0.084662      -0.802762    -0.326330   -0.237170   \n",
      "6449 -0.146533 -0.306875   -0.084662      -0.802762    -0.326330   -0.792340   \n",
      "6450 -0.332586 -0.306875   -0.084662       1.245699    -0.326330   -0.792340   \n",
      "6451 -0.329653 -0.306875   -0.084662       1.245699    -0.326330    1.428340   \n",
      "6452 -0.327564 -0.306875   -0.084662       1.245699    -0.326330   -0.792340   \n",
      "6453 -0.296985 -0.306875   -0.084662       1.245699    -0.326330    1.428340   \n",
      "6454 -0.335050 -0.306875   -0.084662      -0.802762    -0.326330   -0.237170   \n",
      "6455 -0.330803 -0.306875   -0.084662      -0.802762    -0.326330   -0.792340   \n",
      "6456 -0.110603  4.933180   11.811605       1.245699    -0.326330    0.873170   \n",
      "6457 -0.218180 -0.306875   -0.084662      -0.802762    -0.326330    1.428340   \n",
      "6458 -0.337866 -0.306875   -0.084662       1.245699    -0.326330    0.318000   \n",
      "6459 -0.268589 -0.306875   -0.084662      -0.802762    -0.326330   -0.237170   \n",
      "6460 -0.330826 -0.306875   -0.084662      -0.802762    -0.326330    1.428340   \n",
      "6461 -0.335966 -0.306875   -0.084662       1.245699    -0.326330   -0.237170   \n",
      "6462 -0.174389  2.313152   -0.084662      -0.802762    -0.326330   -0.237170   \n",
      "6463 -0.078124 -0.306875   -0.084662      -0.802762    -0.326330   -1.347511   \n",
      "6464 -0.332563 -0.306875   -0.084662      -0.802762    -0.326330    0.873170   \n",
      "6465 -0.328620 -0.306875   -0.084662       1.245699    -0.326330    0.873170   \n",
      "6466 -0.327306 -0.306875   -0.084662      -0.802762    -0.326330   -1.347511   \n",
      "6467 -0.302946 -0.306875   -0.084662      -0.802762    -0.326330    0.873170   \n",
      "\n",
      "      renovated  living_greater  lot_greater  \n",
      "0      4.777788        0.860912    -1.241191  \n",
      "1     -0.209302        0.860912     0.805678  \n",
      "2     -0.209302        0.860912     0.805678  \n",
      "3     -0.209302        0.860912    -1.241191  \n",
      "4     -0.209302       -1.161559    -1.241191  \n",
      "5     -0.209302        0.860912    -1.241191  \n",
      "6     -0.209302        0.860912     0.805678  \n",
      "7     -0.209302       -1.161559     0.805678  \n",
      "8     -0.209302       -1.161559    -1.241191  \n",
      "9     -0.209302       -1.161559     0.805678  \n",
      "10    -0.209302        0.860912    -1.241191  \n",
      "11    -0.209302       -1.161559     0.805678  \n",
      "12    -0.209302        0.860912     0.805678  \n",
      "13    -0.209302        0.860912     0.805678  \n",
      "14    -0.209302        0.860912    -1.241191  \n",
      "15    -0.209302        0.860912    -1.241191  \n",
      "16    -0.209302        0.860912     0.805678  \n",
      "17    -0.209302        0.860912     0.805678  \n",
      "18    -0.209302        0.860912     0.805678  \n",
      "19    -0.209302       -1.161559     0.805678  \n",
      "20    -0.209302        0.860912    -1.241191  \n",
      "21    -0.209302        0.860912    -1.241191  \n",
      "22    -0.209302       -1.161559     0.805678  \n",
      "23    -0.209302       -1.161559     0.805678  \n",
      "24    -0.209302        0.860912    -1.241191  \n",
      "25    -0.209302        0.860912     0.805678  \n",
      "26    -0.209302        0.860912     0.805678  \n",
      "27    -0.209302        0.860912    -1.241191  \n",
      "28    -0.209302       -1.161559     0.805678  \n",
      "29    -0.209302        0.860912     0.805678  \n",
      "...         ...             ...          ...  \n",
      "6438  -0.209302        0.860912     0.805678  \n",
      "6439  -0.209302        0.860912     0.805678  \n",
      "6440  -0.209302        0.860912     0.805678  \n",
      "6441  -0.209302        0.860912     0.805678  \n",
      "6442  -0.209302        0.860912    -1.241191  \n",
      "6443  -0.209302        0.860912    -1.241191  \n",
      "6444  -0.209302        0.860912    -1.241191  \n",
      "6445  -0.209302        0.860912    -1.241191  \n",
      "6446  -0.209302       -1.161559    -1.241191  \n",
      "6447  -0.209302       -1.161559    -1.241191  \n",
      "6448  -0.209302        0.860912     0.805678  \n",
      "6449  -0.209302        0.860912     0.805678  \n",
      "6450  -0.209302        0.860912    -1.241191  \n",
      "6451  -0.209302       -1.161559    -1.241191  \n",
      "6452  -0.209302        0.860912    -1.241191  \n",
      "6453  -0.209302        0.860912     0.805678  \n",
      "6454  -0.209302        0.860912    -1.241191  \n",
      "6455  -0.209302       -1.161559    -1.241191  \n",
      "6456  -0.209302        0.860912    -1.241191  \n",
      "6457  -0.209302       -1.161559     0.805678  \n",
      "6458  -0.209302       -1.161559    -1.241191  \n",
      "6459  -0.209302        0.860912    -1.241191  \n",
      "6460  -0.209302        0.860912    -1.241191  \n",
      "6461  -0.209302        0.860912    -1.241191  \n",
      "6462  -0.209302        0.860912     0.805678  \n",
      "6463  -0.209302        0.860912     0.805678  \n",
      "6464  -0.209302        0.860912    -1.241191  \n",
      "6465  -0.209302       -1.161559     0.805678  \n",
      "6466  -0.209302        0.860912    -1.241191  \n",
      "6467  -0.209302        0.860912     0.805678  \n",
      "\n",
      "[6468 rows x 15 columns]\n"
     ]
    }
   ],
   "source": [
    "x_test_df = pd.DataFrame(sc_x.transform(x_test), columns=x_test.columns)\n",
    "print(x_test_df)"
   ]
  },
  {
   "cell_type": "code",
   "execution_count": null,
   "metadata": {
    "collapsed": true
   },
   "outputs": [],
   "source": []
  },
  {
   "cell_type": "code",
   "execution_count": 562,
   "metadata": {
    "collapsed": false
   },
   "outputs": [
    {
     "data": {
      "text/html": [
       "<table class=\"simpletable\">\n",
       "<caption>OLS Regression Results</caption>\n",
       "<tr>\n",
       "  <th>Dep. Variable:</th>          <td>price</td>      <th>  R-squared:         </th>  <td>   0.629</td>  \n",
       "</tr>\n",
       "<tr>\n",
       "  <th>Model:</th>                   <td>OLS</td>       <th>  Adj. R-squared:    </th>  <td>   0.628</td>  \n",
       "</tr>\n",
       "<tr>\n",
       "  <th>Method:</th>             <td>Least Squares</td>  <th>  F-statistic:       </th>  <td>   1696.</td>  \n",
       "</tr>\n",
       "<tr>\n",
       "  <th>Date:</th>             <td>Fri, 22 Mar 2019</td> <th>  Prob (F-statistic):</th>   <td>  0.00</td>   \n",
       "</tr>\n",
       "<tr>\n",
       "  <th>Time:</th>                 <td>17:55:19</td>     <th>  Log-Likelihood:    </th> <td>-2.0671e+05</td>\n",
       "</tr>\n",
       "<tr>\n",
       "  <th>No. Observations:</th>      <td> 15035</td>      <th>  AIC:               </th>  <td>4.135e+05</td> \n",
       "</tr>\n",
       "<tr>\n",
       "  <th>Df Residuals:</th>          <td> 15019</td>      <th>  BIC:               </th>  <td>4.136e+05</td> \n",
       "</tr>\n",
       "<tr>\n",
       "  <th>Df Model:</th>              <td>    15</td>      <th>                     </th>      <td> </td>     \n",
       "</tr>\n",
       "<tr>\n",
       "  <th>Covariance Type:</th>      <td>nonrobust</td>    <th>                     </th>      <td> </td>     \n",
       "</tr>\n",
       "</table>\n",
       "<table class=\"simpletable\">\n",
       "<tr>\n",
       "         <td></td>           <th>coef</th>     <th>std err</th>      <th>t</th>      <th>P>|t|</th>  <th>[0.025</th>    <th>0.975]</th>  \n",
       "</tr>\n",
       "<tr>\n",
       "  <th>const</th>          <td> 5.407e+05</td> <td> 1847.033</td> <td>  292.730</td> <td> 0.000</td> <td> 5.37e+05</td> <td> 5.44e+05</td>\n",
       "</tr>\n",
       "<tr>\n",
       "  <th>bathrooms</th>      <td>-5892.8713</td> <td> 3254.690</td> <td>   -1.811</td> <td> 0.070</td> <td>-1.23e+04</td> <td>  486.719</td>\n",
       "</tr>\n",
       "<tr>\n",
       "  <th>bedrooms</th>       <td>-3.429e+04</td> <td> 2436.385</td> <td>  -14.076</td> <td> 0.000</td> <td>-3.91e+04</td> <td>-2.95e+04</td>\n",
       "</tr>\n",
       "<tr>\n",
       "  <th>condition</th>      <td> 3.573e+04</td> <td> 1964.005</td> <td>   18.193</td> <td> 0.000</td> <td> 3.19e+04</td> <td> 3.96e+04</td>\n",
       "</tr>\n",
       "<tr>\n",
       "  <th>floors</th>         <td> -218.3406</td> <td> 2573.728</td> <td>   -0.085</td> <td> 0.932</td> <td>-5263.162</td> <td> 4826.481</td>\n",
       "</tr>\n",
       "<tr>\n",
       "  <th>grade</th>          <td> 1.187e+05</td> <td> 3165.632</td> <td>   37.500</td> <td> 0.000</td> <td> 1.13e+05</td> <td> 1.25e+05</td>\n",
       "</tr>\n",
       "<tr>\n",
       "  <th>sqft_living</th>    <td> 1.933e+05</td> <td> 3965.882</td> <td>   48.740</td> <td> 0.000</td> <td> 1.86e+05</td> <td> 2.01e+05</td>\n",
       "</tr>\n",
       "<tr>\n",
       "  <th>sqft_lot</th>       <td>-1.484e+04</td> <td> 1908.712</td> <td>   -7.776</td> <td> 0.000</td> <td>-1.86e+04</td> <td>-1.11e+04</td>\n",
       "</tr>\n",
       "<tr>\n",
       "  <th>view</th>           <td>  4.47e+04</td> <td> 2129.770</td> <td>   20.986</td> <td> 0.000</td> <td> 4.05e+04</td> <td> 4.89e+04</td>\n",
       "</tr>\n",
       "<tr>\n",
       "  <th>waterfront</th>     <td> 4.658e+04</td> <td> 2015.381</td> <td>   23.112</td> <td> 0.000</td> <td> 4.26e+04</td> <td> 5.05e+04</td>\n",
       "</tr>\n",
       "<tr>\n",
       "  <th>with_basement</th>  <td> 2.011e+04</td> <td> 2124.589</td> <td>    9.463</td> <td> 0.000</td> <td> 1.59e+04</td> <td> 2.43e+04</td>\n",
       "</tr>\n",
       "<tr>\n",
       "  <th>with_garret</th>    <td>  3.01e+04</td> <td> 1926.551</td> <td>   15.625</td> <td> 0.000</td> <td> 2.63e+04</td> <td> 3.39e+04</td>\n",
       "</tr>\n",
       "<tr>\n",
       "  <th>date_label</th>     <td> 9897.1505</td> <td> 1852.757</td> <td>    5.342</td> <td> 0.000</td> <td> 6265.521</td> <td> 1.35e+04</td>\n",
       "</tr>\n",
       "<tr>\n",
       "  <th>renovated</th>      <td>  2.91e+04</td> <td> 1876.587</td> <td>   15.506</td> <td> 0.000</td> <td> 2.54e+04</td> <td> 3.28e+04</td>\n",
       "</tr>\n",
       "<tr>\n",
       "  <th>living_greater</th> <td>-3.654e+04</td> <td> 2165.657</td> <td>  -16.873</td> <td> 0.000</td> <td>-4.08e+04</td> <td>-3.23e+04</td>\n",
       "</tr>\n",
       "<tr>\n",
       "  <th>lot_greater</th>    <td> 7360.7104</td> <td> 1877.649</td> <td>    3.920</td> <td> 0.000</td> <td> 3680.289</td> <td>  1.1e+04</td>\n",
       "</tr>\n",
       "</table>\n",
       "<table class=\"simpletable\">\n",
       "<tr>\n",
       "  <th>Omnibus:</th>       <td>11486.626</td> <th>  Durbin-Watson:     </th>  <td>   1.985</td> \n",
       "</tr>\n",
       "<tr>\n",
       "  <th>Prob(Omnibus):</th>  <td> 0.000</td>   <th>  Jarque-Bera (JB):  </th> <td>833392.021</td>\n",
       "</tr>\n",
       "<tr>\n",
       "  <th>Skew:</th>           <td> 3.083</td>   <th>  Prob(JB):          </th>  <td>    0.00</td> \n",
       "</tr>\n",
       "<tr>\n",
       "  <th>Kurtosis:</th>       <td>38.949</td>   <th>  Cond. No.          </th>  <td>    4.86</td> \n",
       "</tr>\n",
       "</table><br/><br/>Warnings:<br/>[1] Standard Errors assume that the covariance matrix of the errors is correctly specified."
      ],
      "text/plain": [
       "<class 'statsmodels.iolib.summary.Summary'>\n",
       "\"\"\"\n",
       "                            OLS Regression Results                            \n",
       "==============================================================================\n",
       "Dep. Variable:                  price   R-squared:                       0.629\n",
       "Model:                            OLS   Adj. R-squared:                  0.628\n",
       "Method:                 Least Squares   F-statistic:                     1696.\n",
       "Date:                Fri, 22 Mar 2019   Prob (F-statistic):               0.00\n",
       "Time:                        17:55:19   Log-Likelihood:            -2.0671e+05\n",
       "No. Observations:               15035   AIC:                         4.135e+05\n",
       "Df Residuals:                   15019   BIC:                         4.136e+05\n",
       "Df Model:                          15                                         \n",
       "Covariance Type:            nonrobust                                         \n",
       "==================================================================================\n",
       "                     coef    std err          t      P>|t|      [0.025      0.975]\n",
       "----------------------------------------------------------------------------------\n",
       "const           5.407e+05   1847.033    292.730      0.000    5.37e+05    5.44e+05\n",
       "bathrooms      -5892.8713   3254.690     -1.811      0.070   -1.23e+04     486.719\n",
       "bedrooms       -3.429e+04   2436.385    -14.076      0.000   -3.91e+04   -2.95e+04\n",
       "condition       3.573e+04   1964.005     18.193      0.000    3.19e+04    3.96e+04\n",
       "floors          -218.3406   2573.728     -0.085      0.932   -5263.162    4826.481\n",
       "grade           1.187e+05   3165.632     37.500      0.000    1.13e+05    1.25e+05\n",
       "sqft_living     1.933e+05   3965.882     48.740      0.000    1.86e+05    2.01e+05\n",
       "sqft_lot       -1.484e+04   1908.712     -7.776      0.000   -1.86e+04   -1.11e+04\n",
       "view             4.47e+04   2129.770     20.986      0.000    4.05e+04    4.89e+04\n",
       "waterfront      4.658e+04   2015.381     23.112      0.000    4.26e+04    5.05e+04\n",
       "with_basement   2.011e+04   2124.589      9.463      0.000    1.59e+04    2.43e+04\n",
       "with_garret      3.01e+04   1926.551     15.625      0.000    2.63e+04    3.39e+04\n",
       "date_label      9897.1505   1852.757      5.342      0.000    6265.521    1.35e+04\n",
       "renovated        2.91e+04   1876.587     15.506      0.000    2.54e+04    3.28e+04\n",
       "living_greater -3.654e+04   2165.657    -16.873      0.000   -4.08e+04   -3.23e+04\n",
       "lot_greater     7360.7104   1877.649      3.920      0.000    3680.289     1.1e+04\n",
       "==============================================================================\n",
       "Omnibus:                    11486.626   Durbin-Watson:                   1.985\n",
       "Prob(Omnibus):                  0.000   Jarque-Bera (JB):           833392.021\n",
       "Skew:                           3.083   Prob(JB):                         0.00\n",
       "Kurtosis:                      38.949   Cond. No.                         4.86\n",
       "==============================================================================\n",
       "\n",
       "Warnings:\n",
       "[1] Standard Errors assume that the covariance matrix of the errors is correctly specified.\n",
       "\"\"\""
      ]
     },
     "execution_count": 562,
     "metadata": {},
     "output_type": "execute_result"
    }
   ],
   "source": [
    "# Multiple Regression\n",
    "import statsmodels.api as sm\n",
    "y = train_set.price.copy()\n",
    "x = x_train_df.copy()\n",
    "x = sm.add_constant(x)\n",
    "\n",
    "model = sm.OLS(y,x).fit()\n",
    "predictions = model.predict(x)\n",
    "\n",
    "model.summary()"
   ]
  },
  {
   "cell_type": "code",
   "execution_count": 572,
   "metadata": {
    "collapsed": true
   },
   "outputs": [],
   "source": [
    "x_train_df.drop('floors', axis=1, inplace=True)\n",
    "x_test_df.drop('floors', axis=1, inplace=True)"
   ]
  },
  {
   "cell_type": "code",
   "execution_count": 591,
   "metadata": {
    "collapsed": true
   },
   "outputs": [],
   "source": [
    "# Applying Kernel PCA\n",
    "from sklearn.decomposition import KernelPCA\n",
    "kpca = KernelPCA(n_components=2, kernel= 'rbf')\n",
    "x_train_kpca = kpca.fit_transform(x_train_df)\n",
    "x_test_kpca = kpca.transform(x_test_df)"
   ]
  },
  {
   "cell_type": "raw",
   "metadata": {},
   "source": [
    "# Applying LDA\n",
    "from sklearn.discriminant_analysis import LinearDiscriminantAnalysis as LDA\n",
    "lda = LDA(n_components=2)\n",
    "x_train_lda = lda.fit_transform(x_train_df, y_train)\n",
    "x_test_lda = lda.transform(x_test_df)\n"
   ]
  },
  {
   "cell_type": "raw",
   "metadata": {
    "collapsed": false
   },
   "source": [
    "# Applying PCA\n",
    "from sklearn.decomposition import PCA\n",
    "pca = PCA(n_components = None)\n",
    "x_train_pca = pca.fit_transform(x_train_df)\n",
    "x_test_pca = pca.transform(x_test_df)\n",
    "print(pca.explained_variance_ratio_)\n"
   ]
  },
  {
   "cell_type": "raw",
   "metadata": {},
   "source": [
    "# PCA biplot\n",
    "pca = PCA(n_components=2).fit(x_train_df)\n",
    "reduced_data = pca.transform(x_train_df)\n",
    "pca.samples = pca.transform(x_train_df)\n",
    "reduced_data = pd.DataFrame(reduced_data, columns=['Dimension1', 'Dimension2'])\n",
    "\n",
    "def biplot(data, reduced_data, pca):\n",
    "    fig, ax = plt.subplots(figsize = (20,15))\n",
    "    \n",
    "    # scatter plot of reduced data\n",
    "    ax.scatter(x=reduced_data.loc[:,'Dimension1'], y=reduced_data.loc[:,'Dimension2'], facecolors='b', edgecolors='b', s=70, alpha=0.5)\n",
    "    \n",
    "    feature_vectors = pca.components_.T\n",
    "    \n",
    "    # using scaling factors to make arrows\n",
    "    arrow_size, text_pos = 5.0, 7.0,\n",
    "    \n",
    "    for i, v in enumerate(feature_vectors):\n",
    "        ax.arrow(0,0, arrow_size*v[0], arrow_size*v[1], head_width=0.2, head_length=0.2, linewidth=2, color='red')\n",
    "        ax.text(v[0]*text_pos, v[1]*text_pos, x_train_df.columns[i], color='red', ha='center', va='center', fontsize=14)\n",
    "        \n",
    "    ax.set_xlabel('Dimension 1', fontsize=14)\n",
    "    ax.set_ylabel('Dimension 2', fontsize=14)\n",
    "    ax.set_title('PCA biplot')\n",
    "    \n",
    "    return ax\n",
    "\n",
    "biplot(x_train, reduced_data, pca)"
   ]
  },
  {
   "cell_type": "code",
   "execution_count": 592,
   "metadata": {
    "collapsed": false
   },
   "outputs": [],
   "source": [
    "from sklearn.cross_validation import train_test_split\n",
    "from sklearn.neighbors import KNeighborsRegressor\n",
    "from sklearn.tree import DecisionTreeRegressor\n",
    "from sklearn.ensemble import RandomForestRegressor\n",
    "from sklearn import metrics\n",
    "from sklearn.metrics import mean_squared_error, r2_score\n",
    "from math import sqrt"
   ]
  },
  {
   "cell_type": "code",
   "execution_count": 593,
   "metadata": {
    "collapsed": false
   },
   "outputs": [],
   "source": [
    "x_train_set, x_test_set, y_train_set, y_test_set = train_test_split(x_train_df, y_train, test_size=0.2, random_state=0)\n"
   ]
  },
  {
   "cell_type": "code",
   "execution_count": 594,
   "metadata": {
    "collapsed": false
   },
   "outputs": [
    {
     "name": "stdout",
     "output_type": "stream",
     "text": [
      "at  1  :  280893.70632809476\n",
      "at  2  :  243603.84474254015\n",
      "at  3  :  234173.44161794992\n",
      "at  4  :  228168.7116079175\n",
      "at  5  :  223900.06157132259\n",
      "at  6  :  221489.53319271616\n",
      "at  7  :  221838.7700781874\n",
      "at  8  :  219401.27511487794\n",
      "at  9  :  218115.3110167196\n",
      "at  10  :  218255.53119066858\n",
      "at  11  :  217911.31925250904\n",
      "at  12  :  218653.64394810144\n",
      "at  13  :  217866.57333985457\n",
      "at  14  :  217878.35202989535\n",
      "at  15  :  217399.3386791394\n",
      "at  16  :  216247.9824798796\n",
      "at  17  :  215896.3147288407\n",
      "at  18  :  215524.0794126659\n",
      "at  19  :  216163.8092307851\n",
      "at  20  :  216134.3851115698\n"
     ]
    },
    {
     "data": {
      "text/plain": [
       "<matplotlib.axes._subplots.AxesSubplot at 0x1dc0bf9c080>"
      ]
     },
     "execution_count": 594,
     "metadata": {},
     "output_type": "execute_result"
    },
    {
     "data": {
      "image/png": "[encoded data removed]",
      "text/plain": [
       "<Figure size 432x288 with 1 Axes>"
      ]
     },
     "metadata": {},
     "output_type": "display_data"
    }
   ],
   "source": [
    "# Knn Regresssor\n",
    "# find the best number of k\n",
    "rmse = []\n",
    "for k in range(1,21):\n",
    "    knn_regressor = KNeighborsRegressor(n_neighbors = k)\n",
    "    knn_regressor.fit(x_train_set, y_train_set)\n",
    "    y_pred = knn_regressor.predict(x_test_set)\n",
    "    error = sqrt(mean_squared_error(y_test_set, y_pred))\n",
    "    rmse.append(error)\n",
    "    print('at ', k, ' : ', error)\n",
    "    \n",
    "graph = pd.DataFrame(rmse)\n",
    "graph.plot()\n"
   ]
  },
  {
   "cell_type": "code",
   "execution_count": 595,
   "metadata": {
    "collapsed": false
   },
   "outputs": [
    {
     "name": "stdout",
     "output_type": "stream",
     "text": [
      "215524.0794126659\n"
     ]
    }
   ],
   "source": [
    "knn_reg = KNeighborsRegressor(n_neighbors=18)\n",
    "knn_reg.fit(x_train_set, y_train_set)\n",
    "y_pred = knn_reg.predict(x_test_set)\n",
    "error = sqrt(mean_squared_error(y_test_set, y_pred))\n",
    "print(error)\n"
   ]
  },
  {
   "cell_type": "code",
   "execution_count": 607,
   "metadata": {
    "collapsed": false
   },
   "outputs": [
    {
     "name": "stdout",
     "output_type": "stream",
     "text": [
      "[0.619237   0.63193967 0.60862625 0.616516   0.61266526 0.57340239\n",
      " 0.5818425  0.63350816 0.64220839 0.61155232]\n",
      "0.6131497936762503\n",
      "0.02059990777747737\n"
     ]
    }
   ],
   "source": [
    "# Applying k-Fold Cross validation\n",
    "from sklearn.cross_validation import cross_val_score\n",
    "accuracies = cross_val_score(estimator=knn_reg, X = x_train_set, y=y_train_set, cv=10)\n",
    "\n",
    "print(accuracies)\n",
    "print(accuracies.mean())\n",
    "print(accuracies.std())"
   ]
  },
  {
   "cell_type": "code",
   "execution_count": 596,
   "metadata": {
    "collapsed": false
   },
   "outputs": [
    {
     "name": "stdout",
     "output_type": "stream",
     "text": [
      "261774.2986719594\n"
     ]
    }
   ],
   "source": [
    "# Decision Tree Regressor\n",
    "dec_tree = DecisionTreeRegressor(random_state = 0)\n",
    "dec_tree.fit(x_train_set, y_train_set)\n",
    "y_pred = dec_tree.predict(x_test_set)\n",
    "error = sqrt(mean_squared_error(y_test_set, y_pred))\n",
    "print(error)"
   ]
  },
  {
   "cell_type": "code",
   "execution_count": 606,
   "metadata": {
    "collapsed": false
   },
   "outputs": [
    {
     "name": "stdout",
     "output_type": "stream",
     "text": [
      "[0.34584717 0.56747318 0.37861423 0.41265872 0.5753122  0.33212221\n",
      " 0.07049553 0.53448789 0.47783981 0.4586675 ]\n",
      "0.41535184517248525\n",
      "0.14168396512874695\n"
     ]
    }
   ],
   "source": [
    "# Applying k-Fold Cross validation\n",
    "from sklearn.cross_validation import cross_val_score\n",
    "accuracies = cross_val_score(estimator=dec_tree, X = x_train_set, y=y_train_set, cv=10)\n",
    "\n",
    "print(accuracies)\n",
    "print(accuracies.mean())\n",
    "print(accuracies.std())"
   ]
  },
  {
   "cell_type": "code",
   "execution_count": 597,
   "metadata": {
    "collapsed": false
   },
   "outputs": [
    {
     "name": "stdout",
     "output_type": "stream",
     "text": [
      "202873.74593041927\n"
     ]
    }
   ],
   "source": [
    "# Random Forest\n",
    "rd_forest = RandomForestRegressor()\n",
    "rd_forest.fit(x_train_set, y_train_set)\n",
    "y_pred = rd_forest.predict(x_test_set)\n",
    "error = sqrt(mean_squared_error(y_test_set, y_pred))\n",
    "print(error)"
   ]
  },
  {
   "cell_type": "code",
   "execution_count": 600,
   "metadata": {
    "collapsed": false
   },
   "outputs": [],
   "source": [
    "# Applying k-Fold Cross validation\n",
    "from sklearn.cross_validation import cross_val_score\n",
    "accuracies = cross_val_score(estimator=rd_forest, X = x_train_set, y=y_train_set, cv=10)\n",
    "\n",
    "print(accuracies)\n",
    "print(accuracies.mean())\n",
    "print(accuracies.std())"
   ]
  },
  {
   "cell_type": "code",
   "execution_count": 582,
   "metadata": {
    "collapsed": false
   },
   "outputs": [
    {
     "ename": "ValueError",
     "evalue": "array length 3007 does not match index length 6468",
     "output_type": "error",
     "traceback": [
      "\u001b[1;31m---------------------------------------------------------------------------\u001b[0m",
      "\u001b[1;31mValueError\u001b[0m                                Traceback (most recent call last)",
      "\u001b[1;32m<ipython-input-582-3c8b7378c98d>\u001b[0m in \u001b[0;36m<module>\u001b[1;34m()\u001b[0m\n\u001b[0;32m      1\u001b[0m submission = pd.DataFrame({\n\u001b[0;32m      2\u001b[0m                            \u001b[1;34m'id'\u001b[0m\u001b[1;33m:\u001b[0m \u001b[0mprice\u001b[0m\u001b[1;33m,\u001b[0m\u001b[1;33m\u001b[0m\u001b[0m\n\u001b[1;32m----> 3\u001b[1;33m                            \u001b[1;34m'price'\u001b[0m\u001b[1;33m:\u001b[0m \u001b[0my_pred\u001b[0m\u001b[1;33m\u001b[0m\u001b[0m\n\u001b[0m\u001b[0;32m      4\u001b[0m                            })\n\u001b[0;32m      5\u001b[0m \u001b[0msubmission\u001b[0m\u001b[1;33m.\u001b[0m\u001b[0mto_csv\u001b[0m\u001b[1;33m(\u001b[0m\u001b[1;34m'submission.csv'\u001b[0m\u001b[1;33m,\u001b[0m \u001b[0mindex\u001b[0m\u001b[1;33m=\u001b[0m\u001b[1;32mFalse\u001b[0m\u001b[1;33m)\u001b[0m\u001b[1;33m\u001b[0m\u001b[0m\n",
      "\u001b[1;32mC:\\Users\\donny\\Anaconda3\\lib\\site-packages\\pandas\\core\\frame.py\u001b[0m in \u001b[0;36m__init__\u001b[1;34m(self, data, index, columns, dtype, copy)\u001b[0m\n\u001b[0;32m    222\u001b[0m                                  dtype=dtype, copy=copy)\n\u001b[0;32m    223\u001b[0m         \u001b[1;32melif\u001b[0m \u001b[0misinstance\u001b[0m\u001b[1;33m(\u001b[0m\u001b[0mdata\u001b[0m\u001b[1;33m,\u001b[0m \u001b[0mdict\u001b[0m\u001b[1;33m)\u001b[0m\u001b[1;33m:\u001b[0m\u001b[1;33m\u001b[0m\u001b[0m\n\u001b[1;32m--> 224\u001b[1;33m             \u001b[0mmgr\u001b[0m \u001b[1;33m=\u001b[0m \u001b[0mself\u001b[0m\u001b[1;33m.\u001b[0m\u001b[0m_init_dict\u001b[0m\u001b[1;33m(\u001b[0m\u001b[0mdata\u001b[0m\u001b[1;33m,\u001b[0m \u001b[0mindex\u001b[0m\u001b[1;33m,\u001b[0m \u001b[0mcolumns\u001b[0m\u001b[1;33m,\u001b[0m \u001b[0mdtype\u001b[0m\u001b[1;33m=\u001b[0m\u001b[0mdtype\u001b[0m\u001b[1;33m)\u001b[0m\u001b[1;33m\u001b[0m\u001b[0m\n\u001b[0m\u001b[0;32m    225\u001b[0m         \u001b[1;32melif\u001b[0m \u001b[0misinstance\u001b[0m\u001b[1;33m(\u001b[0m\u001b[0mdata\u001b[0m\u001b[1;33m,\u001b[0m \u001b[0mma\u001b[0m\u001b[1;33m.\u001b[0m\u001b[0mMaskedArray\u001b[0m\u001b[1;33m)\u001b[0m\u001b[1;33m:\u001b[0m\u001b[1;33m\u001b[0m\u001b[0m\n\u001b[0;32m    226\u001b[0m             \u001b[1;32mimport\u001b[0m \u001b[0mnumpy\u001b[0m\u001b[1;33m.\u001b[0m\u001b[0mma\u001b[0m\u001b[1;33m.\u001b[0m\u001b[0mmrecords\u001b[0m \u001b[1;32mas\u001b[0m \u001b[0mmrecords\u001b[0m\u001b[1;33m\u001b[0m\u001b[0m\n",
      "\u001b[1;32mC:\\Users\\donny\\Anaconda3\\lib\\site-packages\\pandas\\core\\frame.py\u001b[0m in \u001b[0;36m_init_dict\u001b[1;34m(self, data, index, columns, dtype)\u001b[0m\n\u001b[0;32m    358\u001b[0m             \u001b[0marrays\u001b[0m \u001b[1;33m=\u001b[0m \u001b[1;33m[\u001b[0m\u001b[0mdata\u001b[0m\u001b[1;33m[\u001b[0m\u001b[0mk\u001b[0m\u001b[1;33m]\u001b[0m \u001b[1;32mfor\u001b[0m \u001b[0mk\u001b[0m \u001b[1;32min\u001b[0m \u001b[0mkeys\u001b[0m\u001b[1;33m]\u001b[0m\u001b[1;33m\u001b[0m\u001b[0m\n\u001b[0;32m    359\u001b[0m \u001b[1;33m\u001b[0m\u001b[0m\n\u001b[1;32m--> 360\u001b[1;33m         \u001b[1;32mreturn\u001b[0m \u001b[0m_arrays_to_mgr\u001b[0m\u001b[1;33m(\u001b[0m\u001b[0marrays\u001b[0m\u001b[1;33m,\u001b[0m \u001b[0mdata_names\u001b[0m\u001b[1;33m,\u001b[0m \u001b[0mindex\u001b[0m\u001b[1;33m,\u001b[0m \u001b[0mcolumns\u001b[0m\u001b[1;33m,\u001b[0m \u001b[0mdtype\u001b[0m\u001b[1;33m=\u001b[0m\u001b[0mdtype\u001b[0m\u001b[1;33m)\u001b[0m\u001b[1;33m\u001b[0m\u001b[0m\n\u001b[0m\u001b[0;32m    361\u001b[0m \u001b[1;33m\u001b[0m\u001b[0m\n\u001b[0;32m    362\u001b[0m     \u001b[1;32mdef\u001b[0m \u001b[0m_init_ndarray\u001b[0m\u001b[1;33m(\u001b[0m\u001b[0mself\u001b[0m\u001b[1;33m,\u001b[0m \u001b[0mvalues\u001b[0m\u001b[1;33m,\u001b[0m \u001b[0mindex\u001b[0m\u001b[1;33m,\u001b[0m \u001b[0mcolumns\u001b[0m\u001b[1;33m,\u001b[0m \u001b[0mdtype\u001b[0m\u001b[1;33m=\u001b[0m\u001b[1;32mNone\u001b[0m\u001b[1;33m,\u001b[0m \u001b[0mcopy\u001b[0m\u001b[1;33m=\u001b[0m\u001b[1;32mFalse\u001b[0m\u001b[1;33m)\u001b[0m\u001b[1;33m:\u001b[0m\u001b[1;33m\u001b[0m\u001b[0m\n",
      "\u001b[1;32mC:\\Users\\donny\\Anaconda3\\lib\\site-packages\\pandas\\core\\frame.py\u001b[0m in \u001b[0;36m_arrays_to_mgr\u001b[1;34m(arrays, arr_names, index, columns, dtype)\u001b[0m\n\u001b[0;32m   5229\u001b[0m     \u001b[1;31m# figure out the index, if necessary\u001b[0m\u001b[1;33m\u001b[0m\u001b[1;33m\u001b[0m\u001b[0m\n\u001b[0;32m   5230\u001b[0m     \u001b[1;32mif\u001b[0m \u001b[0mindex\u001b[0m \u001b[1;32mis\u001b[0m \u001b[1;32mNone\u001b[0m\u001b[1;33m:\u001b[0m\u001b[1;33m\u001b[0m\u001b[0m\n\u001b[1;32m-> 5231\u001b[1;33m         \u001b[0mindex\u001b[0m \u001b[1;33m=\u001b[0m \u001b[0mextract_index\u001b[0m\u001b[1;33m(\u001b[0m\u001b[0marrays\u001b[0m\u001b[1;33m)\u001b[0m\u001b[1;33m\u001b[0m\u001b[0m\n\u001b[0m\u001b[0;32m   5232\u001b[0m     \u001b[1;32melse\u001b[0m\u001b[1;33m:\u001b[0m\u001b[1;33m\u001b[0m\u001b[0m\n\u001b[0;32m   5233\u001b[0m         \u001b[0mindex\u001b[0m \u001b[1;33m=\u001b[0m \u001b[0m_ensure_index\u001b[0m\u001b[1;33m(\u001b[0m\u001b[0mindex\u001b[0m\u001b[1;33m)\u001b[0m\u001b[1;33m\u001b[0m\u001b[0m\n",
      "\u001b[1;32mC:\\Users\\donny\\Anaconda3\\lib\\site-packages\\pandas\\core\\frame.py\u001b[0m in \u001b[0;36mextract_index\u001b[1;34m(data)\u001b[0m\n\u001b[0;32m   5287\u001b[0m                     msg = ('array length %d does not match index length %d' %\n\u001b[0;32m   5288\u001b[0m                            (lengths[0], len(index)))\n\u001b[1;32m-> 5289\u001b[1;33m                     \u001b[1;32mraise\u001b[0m \u001b[0mValueError\u001b[0m\u001b[1;33m(\u001b[0m\u001b[0mmsg\u001b[0m\u001b[1;33m)\u001b[0m\u001b[1;33m\u001b[0m\u001b[0m\n\u001b[0m\u001b[0;32m   5290\u001b[0m             \u001b[1;32melse\u001b[0m\u001b[1;33m:\u001b[0m\u001b[1;33m\u001b[0m\u001b[0m\n\u001b[0;32m   5291\u001b[0m                 \u001b[0mindex\u001b[0m \u001b[1;33m=\u001b[0m \u001b[0m_default_index\u001b[0m\u001b[1;33m(\u001b[0m\u001b[0mlengths\u001b[0m\u001b[1;33m[\u001b[0m\u001b[1;36m0\u001b[0m\u001b[1;33m]\u001b[0m\u001b[1;33m)\u001b[0m\u001b[1;33m\u001b[0m\u001b[0m\n",
      "\u001b[1;31mValueError\u001b[0m: array length 3007 does not match index length 6468"
     ]
    }
   ],
   "source": [
    "submission = pd.DataFrame({\n",
    "                           'id': price,\n",
    "                           'price': y_pred\n",
    "                           })\n",
    "submission.to_csv('submission.csv', index=False)"
   ]
  }
 ],
 "metadata": {
  "anaconda-cloud": {},
  "kernelspec": {
   "display_name": "Python [default]",
   "language": "python",
   "name": "python3"
  },
  "language_info": {
   "codemirror_mode": {
    "name": "ipython",
    "version": 3
   },
   "file_extension": ".py",
   "mimetype": "text/x-python",
   "name": "python",
   "nbconvert_exporter": "python",
   "pygments_lexer": "ipython3",
   "version": "3.5.6"
  }
 },
 "nbformat": 4,
 "nbformat_minor": 1
}
